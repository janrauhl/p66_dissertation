{
 "cells": [
  {
   "cell_type": "markdown",
   "metadata": {},
   "source": [
    "# Load Data"
   ]
  },
  {
   "cell_type": "code",
   "execution_count": 1,
   "metadata": {},
   "outputs": [
    {
     "name": "stderr",
     "output_type": "stream",
     "text": [
      "2023-08-22 19:14:56.263554: I tensorflow/core/util/port.cc:110] oneDNN custom operations are on. You may see slightly different numerical results due to floating-point round-off errors from different computation orders. To turn them off, set the environment variable `TF_ENABLE_ONEDNN_OPTS=0`.\n",
      "2023-08-22 19:14:56.292096: I tensorflow/core/platform/cpu_feature_guard.cc:182] This TensorFlow binary is optimized to use available CPU instructions in performance-critical operations.\n",
      "To enable the following instructions: AVX2 AVX_VNNI FMA, in other operations, rebuild TensorFlow with the appropriate compiler flags.\n",
      "2023-08-22 19:14:57.475361: W tensorflow/compiler/tf2tensorrt/utils/py_utils.cc:38] TF-TRT Warning: Could not find TensorRT\n"
     ]
    }
   ],
   "source": [
    "import tensorflow as tf\n",
    "from tensorflow.keras import layers\n",
    "import os\n",
    "import tensorflow_hub as hub"
   ]
  },
  {
   "cell_type": "code",
   "execution_count": 2,
   "metadata": {},
   "outputs": [],
   "source": [
    "batch_size = 32\n",
    "img_height = 200 \n",
    "img_width = 200 "
   ]
  },
  {
   "cell_type": "code",
   "execution_count": 18,
   "metadata": {},
   "outputs": [
    {
     "name": "stdout",
     "output_type": "stream",
     "text": [
      "Found 26880 files belonging to 6 classes.\n"
     ]
    }
   ],
   "source": [
    "training_ds = tf.keras.preprocessing.image_dataset_from_directory(\n",
    "    'DownFER/train', # directory path\n",
    "    validation_split = None, \n",
    "    subset = None, \n",
    "    image_size = (img_height, img_width), # image size of height and width\n",
    "    batch_size = 32# batch size\n",
    ")"
   ]
  },
  {
   "cell_type": "code",
   "execution_count": 19,
   "metadata": {},
   "outputs": [
    {
     "name": "stdout",
     "output_type": "stream",
     "text": [
      "Found 7178 files belonging to 7 classes.\n"
     ]
    }
   ],
   "source": [
    "testing_ds = tf.keras.preprocessing.image_dataset_from_directory(\n",
    "    'DownFER/test', # directory path\n",
    "    validation_split = None, \n",
    "    subset = None, \n",
    "    image_size = (img_height, img_width), # image size of height and width\n",
    "    batch_size = 32 # batch size\n",
    ")\n"
   ]
  },
  {
   "cell_type": "code",
   "execution_count": 5,
   "metadata": {},
   "outputs": [
    {
     "name": "stdout",
     "output_type": "stream",
     "text": [
      "['angry', 'disgust', 'fear', 'happy', 'sad', 'surprise']\n",
      "6\n"
     ]
    }
   ],
   "source": [
    "class_names = training_ds.class_names\n",
    "print(class_names)\n",
    "print(len(class_names))"
   ]
  },
  {
   "cell_type": "code",
   "execution_count": 6,
   "metadata": {},
   "outputs": [],
   "source": [
    "# configuring dataset for performance\n",
    "AUTOTUNE = tf.data.experimental.AUTOTUNE\n",
    "\n",
    "# cache() keeps images in memory to ensure dataset does not become a bottleneck \n",
    "  # while training the model\n",
    "# prefetch() overlaps data preprocessing and model execution while training\n",
    "num_classes = len(class_names)\n",
    "training_ds = training_ds.cache().prefetch(buffer_size = AUTOTUNE) # for training\n",
    "testing_ds = testing_ds.cache().prefetch(buffer_size = AUTOTUNE) # for testing"
   ]
  },
  {
   "cell_type": "code",
   "execution_count": 21,
   "metadata": {},
   "outputs": [],
   "source": [
    "# One-hot encode the labels\n",
    "def one_hot_encode(image, label):\n",
    "    label = tf.one_hot(label, num_classes)\n",
    "    return image, label\n",
    "\n",
    "# Apply one-hot encoding to the dataset\n",
    "training_ds = training_ds.map(one_hot_encode)\n",
    "testing_ds = testing_ds.map(one_hot_encode)"
   ]
  },
  {
   "cell_type": "code",
   "execution_count": 22,
   "metadata": {},
   "outputs": [],
   "source": [
    "#set callback to stop training when accuracy reached 85%\n",
    "class myCallback(tf.keras.callbacks.Callback):\n",
    "    def on_epoch_end(self,epoch,logs={}):\n",
    "        if(logs.get('accuracy')>=0.850):\n",
    "            print(\"\\nReached 85% accuracy so cancelling training!\")\n",
    "            self.model.stop_training = True\n",
    "            \n",
    "            \n",
    "callbacks = myCallback()"
   ]
  },
  {
   "cell_type": "code",
   "execution_count": 9,
   "metadata": {},
   "outputs": [],
   "source": [
    "from tensorflow.keras.applications.efficientnet import preprocess_input \n",
    "target_size =  (224,224) \n",
    "\n",
    "def preprocess_image(image,label): \n",
    "    image = tf.image.resize(image, target_size) \n",
    "    image = preprocess_input(image) \n",
    "    return image, label "
   ]
  },
  {
   "cell_type": "code",
   "execution_count": 10,
   "metadata": {},
   "outputs": [
    {
     "name": "stdout",
     "output_type": "stream",
     "text": [
      "WARNING:tensorflow:From /tmp/ipykernel_27708/1473334969.py:2: is_gpu_available (from tensorflow.python.framework.test_util) is deprecated and will be removed in a future version.\n",
      "Instructions for updating:\n",
      "Use `tf.config.list_physical_devices('GPU')` instead.\n",
      "True\n"
     ]
    },
    {
     "name": "stderr",
     "output_type": "stream",
     "text": [
      "2023-08-22 18:36:04.988111: I tensorflow/compiler/xla/stream_executor/cuda/cuda_gpu_executor.cc:996] successful NUMA node read from SysFS had negative value (-1), but there must be at least one NUMA node, so returning NUMA node zero. See more at https://github.com/torvalds/linux/blob/v6.0/Documentation/ABI/testing/sysfs-bus-pci#L344-L355\n",
      "2023-08-22 18:36:04.988301: I tensorflow/compiler/xla/stream_executor/cuda/cuda_gpu_executor.cc:996] successful NUMA node read from SysFS had negative value (-1), but there must be at least one NUMA node, so returning NUMA node zero. See more at https://github.com/torvalds/linux/blob/v6.0/Documentation/ABI/testing/sysfs-bus-pci#L344-L355\n",
      "2023-08-22 18:36:04.988394: I tensorflow/compiler/xla/stream_executor/cuda/cuda_gpu_executor.cc:996] successful NUMA node read from SysFS had negative value (-1), but there must be at least one NUMA node, so returning NUMA node zero. See more at https://github.com/torvalds/linux/blob/v6.0/Documentation/ABI/testing/sysfs-bus-pci#L344-L355\n",
      "2023-08-22 18:36:04.988515: I tensorflow/compiler/xla/stream_executor/cuda/cuda_gpu_executor.cc:996] successful NUMA node read from SysFS had negative value (-1), but there must be at least one NUMA node, so returning NUMA node zero. See more at https://github.com/torvalds/linux/blob/v6.0/Documentation/ABI/testing/sysfs-bus-pci#L344-L355\n",
      "2023-08-22 18:36:04.988600: I tensorflow/compiler/xla/stream_executor/cuda/cuda_gpu_executor.cc:996] successful NUMA node read from SysFS had negative value (-1), but there must be at least one NUMA node, so returning NUMA node zero. See more at https://github.com/torvalds/linux/blob/v6.0/Documentation/ABI/testing/sysfs-bus-pci#L344-L355\n",
      "2023-08-22 18:36:04.988668: I tensorflow/core/common_runtime/gpu/gpu_device.cc:1635] Created device /device:GPU:0 with 21510 MB memory:  -> device: 0, name: NVIDIA GeForce RTX 3090 Ti, pci bus id: 0000:01:00.0, compute capability: 8.6\n"
     ]
    }
   ],
   "source": [
    "import tensorflow as tf\n",
    "print(tf.test.is_gpu_available())"
   ]
  },
  {
   "cell_type": "code",
   "execution_count": 11,
   "metadata": {},
   "outputs": [
    {
     "name": "stdout",
     "output_type": "stream",
     "text": [
      "Num GPUs Available:  1\n",
      "CUDA Available:  [PhysicalDevice(name='/physical_device:GPU:0', device_type='GPU')]\n",
      "cuDNN Available:  True\n"
     ]
    }
   ],
   "source": [
    "import tensorflow as tf\n",
    "\n",
    "print(\"Num GPUs Available: \", len(tf.config.experimental.list_physical_devices('GPU')))\n",
    "print(\"CUDA Available: \", tf.config.experimental.list_physical_devices('GPU'))\n",
    "print(\"cuDNN Available: \", tf.test.is_built_with_cuda() and tf.test.is_built_with_gpu_support())\n"
   ]
  },
  {
   "cell_type": "code",
   "execution_count": 12,
   "metadata": {},
   "outputs": [
    {
     "data": {
      "text/plain": [
       "[PhysicalDevice(name='/physical_device:GPU:0', device_type='GPU')]"
      ]
     },
     "execution_count": 12,
     "metadata": {},
     "output_type": "execute_result"
    }
   ],
   "source": [
    "tf.config.experimental.list_physical_devices('GPU')"
   ]
  },
  {
   "cell_type": "code",
   "execution_count": 13,
   "metadata": {},
   "outputs": [
    {
     "data": {
      "text/plain": [
       "[PhysicalDevice(name='/physical_device:GPU:0', device_type='GPU')]"
      ]
     },
     "execution_count": 13,
     "metadata": {},
     "output_type": "execute_result"
    }
   ],
   "source": [
    "tf.config.experimental.list_physical_devices('GPU')\n"
   ]
  },
  {
   "cell_type": "code",
   "execution_count": 14,
   "metadata": {},
   "outputs": [
    {
     "name": "stdout",
     "output_type": "stream",
     "text": [
      "Shape of a sample image in training_ds_resized: (32, 224, 224, 3)\n"
     ]
    },
    {
     "name": "stderr",
     "output_type": "stream",
     "text": [
      "2023-08-22 18:36:05.090523: I tensorflow/core/common_runtime/executor.cc:1197] [/device:CPU:0] (DEBUG INFO) Executor start aborting (this does not indicate an error and you can ignore this message): INVALID_ARGUMENT: You must feed a value for placeholder tensor 'Placeholder/_4' with dtype int32 and shape [7178]\n",
      "\t [[{{node Placeholder/_4}}]]\n",
      "2023-08-22 18:36:05.090712: I tensorflow/core/common_runtime/executor.cc:1197] [/device:CPU:0] (DEBUG INFO) Executor start aborting (this does not indicate an error and you can ignore this message): INVALID_ARGUMENT: You must feed a value for placeholder tensor 'Placeholder/_0' with dtype string and shape [7178]\n",
      "\t [[{{node Placeholder/_0}}]]\n",
      "2023-08-22 18:36:05.165060: W tensorflow/core/kernels/data/cache_dataset_ops.cc:856] The calling iterator did not fully read the dataset being cached. In order to avoid unexpected truncation of the dataset, the partially cached contents of the dataset  will be discarded. This can happen if you have an input pipeline similar to `dataset.cache().take(k).repeat()`. You should use `dataset.take(k).cache().repeat()` instead.\n"
     ]
    }
   ],
   "source": [
    "training_ds_resized = training_ds.map(preprocess_image) \n",
    "testing_ds_resized = testing_ds.map(preprocess_image) \n",
    "sample_image, _ = next(iter(testing_ds_resized.take(1)))\n",
    "sample_image_shape = sample_image.shape\n",
    "\n",
    "print(\"Shape of a sample image in training_ds_resized:\", sample_image_shape)"
   ]
  },
  {
   "cell_type": "code",
   "execution_count": 15,
   "metadata": {},
   "outputs": [],
   "source": [
    "num_class = 6"
   ]
  },
  {
   "cell_type": "code",
   "execution_count": 16,
   "metadata": {},
   "outputs": [],
   "source": [
    "def plot_model(model_saved, N, path = None): \n",
    "    import matplotlib.pyplot as plt\n",
    "    import numpy as np\n",
    "    plt.style.use(\"ggplot\")\n",
    "    plt.figure()\n",
    "    plt.plot(np.arange(0, N), model_saved.history['loss'], \n",
    "             label = 'training loss') # training loss\n",
    "    plt.plot(np.arange(0, N), model_saved.history['val_loss'], \n",
    "             label = 'test loss') # testing loss\n",
    "    plt.plot(np.arange(0, N), model_saved.history['accuracy'], \n",
    "             label = 'training accuracy') # training accuracy\n",
    "    plt.plot(np.arange(0, N), model_saved.history['val_accuracy'], \n",
    "             label = 'test accuracy') # testing accuracy\n",
    "    plt.title(\"Training and Testing Loss and Accuracy\") # title of comparative line graph\n",
    "    plt.xlabel(\"Epoch #\") # x axis label\n",
    "    plt.ylabel(\"Loss/Accuracy\") # y axis label\n",
    "    plt.legend(loc = \"upper right\") # legend\n",
    "\n",
    "    if path: \n",
    "        plt.savefig(path) \n",
    "\n",
    "    plt.show()"
   ]
  },
  {
   "cell_type": "markdown",
   "metadata": {},
   "source": [
    "# EfficientNet B0 to B7 "
   ]
  },
  {
   "cell_type": "markdown",
   "metadata": {},
   "source": [
    "#### B0"
   ]
  },
  {
   "cell_type": "code",
   "execution_count": 17,
   "metadata": {},
   "outputs": [
    {
     "name": "stdout",
     "output_type": "stream",
     "text": [
      "Model: \"model\"\n",
      "_________________________________________________________________\n",
      " Layer (type)                Output Shape              Param #   \n",
      "=================================================================\n",
      " input_1 (InputLayer)        [(32, 224, 224, 3)]       0         \n",
      "                                                                 \n",
      " efficientnetb0 (Functional)  (None, 6)                4057257   \n",
      "                                                                 \n",
      "=================================================================\n",
      "Total params: 4,057,257\n",
      "Trainable params: 4,015,234\n",
      "Non-trainable params: 42,023\n",
      "_________________________________________________________________\n",
      "Epoch 1/20\n"
     ]
    },
    {
     "name": "stderr",
     "output_type": "stream",
     "text": [
      "2023-08-18 13:15:45.883647: I tensorflow/core/common_runtime/executor.cc:1197] [/device:CPU:0] (DEBUG INFO) Executor start aborting (this does not indicate an error and you can ignore this message): INVALID_ARGUMENT: You must feed a value for placeholder tensor 'Placeholder/_0' with dtype string and shape [88080]\n",
      "\t [[{{node Placeholder/_0}}]]\n",
      "2023-08-18 13:15:45.884021: I tensorflow/core/common_runtime/executor.cc:1197] [/device:CPU:0] (DEBUG INFO) Executor start aborting (this does not indicate an error and you can ignore this message): INVALID_ARGUMENT: You must feed a value for placeholder tensor 'Placeholder/_4' with dtype int32 and shape [88080]\n",
      "\t [[{{node Placeholder/_4}}]]\n",
      "2023-08-18 13:15:57.486899: E tensorflow/core/grappler/optimizers/meta_optimizer.cc:954] layout failed: INVALID_ARGUMENT: Size of values 0 does not match size of permutation 4 @ fanin shape inmodel/efficientnetb0/block2b_drop/dropout/SelectV2-2-TransposeNHWCToNCHW-LayoutOptimizer\n",
      "2023-08-18 13:16:01.507886: I tensorflow/compiler/xla/stream_executor/cuda/cuda_dnn.cc:424] Loaded cuDNN version 8600\n",
      "2023-08-18 13:16:08.992627: I tensorflow/compiler/xla/stream_executor/cuda/cuda_blas.cc:637] TensorFloat-32 will be used for the matrix multiplication. This will only be logged once.\n",
      "2023-08-18 13:16:09.131125: I tensorflow/compiler/xla/service/service.cc:169] XLA service 0x7f0754011250 initialized for platform CUDA (this does not guarantee that XLA will be used). Devices:\n",
      "2023-08-18 13:16:09.131198: I tensorflow/compiler/xla/service/service.cc:177]   StreamExecutor device (0): NVIDIA GeForce RTX 3090 Ti, Compute Capability 8.6\n",
      "2023-08-18 13:16:09.288321: I tensorflow/compiler/mlir/tensorflow/utils/dump_mlir_util.cc:269] disabling MLIR crash reproducer, set env var `MLIR_CRASH_REPRODUCER_DIRECTORY` to enable.\n",
      "2023-08-18 13:16:09.780703: I ./tensorflow/compiler/jit/device_compiler.h:180] Compiled cluster using XLA!  This line is logged at most once for the lifetime of the process.\n"
     ]
    },
    {
     "name": "stdout",
     "output_type": "stream",
     "text": [
      "2753/2753 [==============================] - ETA: 0s - loss: 0.8828 - accuracy: 0.7215"
     ]
    },
    {
     "name": "stderr",
     "output_type": "stream",
     "text": [
      "2023-08-18 13:20:18.895226: I tensorflow/core/common_runtime/executor.cc:1197] [/device:CPU:0] (DEBUG INFO) Executor start aborting (this does not indicate an error and you can ignore this message): INVALID_ARGUMENT: You must feed a value for placeholder tensor 'Placeholder/_0' with dtype string and shape [31920]\n",
      "\t [[{{node Placeholder/_0}}]]\n",
      "2023-08-18 13:20:18.895604: I tensorflow/core/common_runtime/executor.cc:1197] [/device:CPU:0] (DEBUG INFO) Executor start aborting (this does not indicate an error and you can ignore this message): INVALID_ARGUMENT: You must feed a value for placeholder tensor 'Placeholder/_0' with dtype string and shape [31920]\n",
      "\t [[{{node Placeholder/_0}}]]\n"
     ]
    },
    {
     "name": "stdout",
     "output_type": "stream",
     "text": [
      "2753/2753 [==============================] - 299s 92ms/step - loss: 0.8828 - accuracy: 0.7215 - val_loss: 3.5224 - val_accuracy: 0.2911\n",
      "Epoch 2/20\n",
      "2752/2753 [============================>.] - ETA: 0s - loss: 0.3104 - accuracy: 0.8957\n",
      "Reached 85% accuracy so cancelling training!\n",
      "2753/2753 [==============================] - 241s 87ms/step - loss: 0.3104 - accuracy: 0.8957 - val_loss: 3.4648 - val_accuracy: 0.2830\n"
     ]
    }
   ],
   "source": [
    "from tensorflow.keras.applications.efficientnet import EfficientNetB0\n",
    "from tensorflow.keras.models import Sequential\n",
    "from tensorflow.keras.layers import Dense, GlobalAveragePooling2D\n",
    "\n",
    "batch_size = 32\n",
    "img_height = 224\n",
    "img_width = 224 \n",
    "\n",
    "inputs = layers.Input(shape=(img_width,img_height,3), batch_size = batch_size) \n",
    "\n",
    "#using model without transfer learnaing\n",
    "outputs = EfficientNetB0(include_top = True, weights = None, classes = num_classes)(inputs) \n",
    "eff_wo_tl = tf.keras.Model(inputs,outputs) \n",
    "eff_wo_tl.compile(optimizer = 'adam', loss = 'categorical_crossentropy', metrics = ['accuracy']) \n",
    "eff_wo_tl.summary() \n",
    "eff_wo_tl.fit(training_ds_resized, validation_data = testing_ds_resized, batch_size = batch_size, epochs = 20, callbacks = [callbacks]) \n",
    "eff_wo_tl.save('model_weights/effnet_wo_tl.h5')"
   ]
  },
  {
   "cell_type": "code",
   "execution_count": 26,
   "metadata": {},
   "outputs": [
    {
     "name": "stdout",
     "output_type": "stream",
     "text": [
      "Epoch 1/20\n",
      "2753/2753 [==============================] - 118s 41ms/step - loss: 1.0034 - accuracy: 0.7038 - val_loss: 2.7408 - val_accuracy: 0.2674\n",
      "Epoch 2/20\n",
      "2753/2753 [==============================] - 107s 39ms/step - loss: 0.8531 - accuracy: 0.7146 - val_loss: 2.7198 - val_accuracy: 0.2658\n",
      "Epoch 3/20\n",
      "2753/2753 [==============================] - 108s 39ms/step - loss: 0.8731 - accuracy: 0.7106 - val_loss: 2.4454 - val_accuracy: 0.3047\n",
      "Epoch 4/20\n",
      "2753/2753 [==============================] - 108s 39ms/step - loss: 0.8748 - accuracy: 0.7094 - val_loss: 2.4642 - val_accuracy: 0.2857\n",
      "Epoch 5/20\n",
      "2753/2753 [==============================] - 110s 40ms/step - loss: 0.8766 - accuracy: 0.7082 - val_loss: 2.9094 - val_accuracy: 0.2415\n",
      "Epoch 6/20\n",
      "2753/2753 [==============================] - 111s 40ms/step - loss: 0.8758 - accuracy: 0.7087 - val_loss: 2.6709 - val_accuracy: 0.2593\n",
      "Epoch 7/20\n",
      "2753/2753 [==============================] - 111s 40ms/step - loss: 0.8759 - accuracy: 0.7081 - val_loss: 2.8344 - val_accuracy: 0.2624\n",
      "Epoch 8/20\n",
      "2753/2753 [==============================] - 109s 40ms/step - loss: 0.8753 - accuracy: 0.7077 - val_loss: 2.7886 - val_accuracy: 0.2609\n",
      "Epoch 9/20\n",
      "2753/2753 [==============================] - 108s 39ms/step - loss: 0.8778 - accuracy: 0.7060 - val_loss: 2.8513 - val_accuracy: 0.2543\n",
      "Epoch 10/20\n",
      "2753/2753 [==============================] - 110s 40ms/step - loss: 0.8739 - accuracy: 0.7071 - val_loss: 2.9376 - val_accuracy: 0.2674\n",
      "Epoch 11/20\n",
      "2753/2753 [==============================] - 110s 40ms/step - loss: 0.8751 - accuracy: 0.7082 - val_loss: 2.7136 - val_accuracy: 0.2581\n",
      "Epoch 12/20\n",
      "2753/2753 [==============================] - 107s 39ms/step - loss: 0.8755 - accuracy: 0.7071 - val_loss: 3.0215 - val_accuracy: 0.2545\n",
      "Epoch 13/20\n",
      "2753/2753 [==============================] - 105s 38ms/step - loss: 0.8794 - accuracy: 0.7071 - val_loss: 2.7282 - val_accuracy: 0.2414\n",
      "Epoch 14/20\n",
      "2753/2753 [==============================] - 106s 39ms/step - loss: 0.8751 - accuracy: 0.7087 - val_loss: 2.6032 - val_accuracy: 0.2685\n",
      "Epoch 15/20\n",
      "2753/2753 [==============================] - 103s 38ms/step - loss: 0.8767 - accuracy: 0.7078 - val_loss: 2.8402 - val_accuracy: 0.2748\n",
      "Epoch 16/20\n",
      "2753/2753 [==============================] - 108s 39ms/step - loss: 0.8766 - accuracy: 0.7090 - val_loss: 2.9363 - val_accuracy: 0.2593\n",
      "Epoch 17/20\n",
      "2753/2753 [==============================] - 105s 38ms/step - loss: 0.8771 - accuracy: 0.7067 - val_loss: 2.7934 - val_accuracy: 0.2549\n",
      "Epoch 18/20\n",
      "2753/2753 [==============================] - 103s 37ms/step - loss: 0.8770 - accuracy: 0.7070 - val_loss: 2.7749 - val_accuracy: 0.2639\n",
      "Epoch 19/20\n",
      "2753/2753 [==============================] - 109s 39ms/step - loss: 0.8756 - accuracy: 0.7089 - val_loss: 2.8116 - val_accuracy: 0.2599\n",
      "Epoch 20/20\n",
      "2753/2753 [==============================] - 107s 39ms/step - loss: 0.8752 - accuracy: 0.7091 - val_loss: 2.8024 - val_accuracy: 0.2935\n"
     ]
    }
   ],
   "source": [
    "#efficient net b0 with transfer learning from image net\n",
    "batch_size = 32\n",
    "img_height = 224\n",
    "img_width = 224 \n",
    "\n",
    "inputs = layers.Input(shape=(img_height, img_width, 3))\n",
    "x = inputs\n",
    "eff_b0_tl = EfficientNetB0(include_top=False, input_tensor=x, weights=\"imagenet\")\n",
    "\n",
    "# Freeze the pretrained weights\n",
    "eff_b0_tl.trainable = False\n",
    "\n",
    "# Rebuild top\n",
    "x = layers.GlobalAveragePooling2D(name=\"avg_pool\")(eff_b0_tl.output)\n",
    "x = layers.BatchNormalization()(x)\n",
    "\n",
    "top_dropout_rate = 0.2\n",
    "x = layers.Dropout(top_dropout_rate, name=\"top_dropout\")(x)\n",
    "outputs = layers.Dense(num_classes, activation=\"softmax\", name=\"pred\")(x)\n",
    "\n",
    "# Compile\n",
    "eff_b0_tl = tf.keras.Model(inputs, outputs, name=\"EfficientNet\")\n",
    "optimizer = tf.keras.optimizers.Adam(learning_rate=1e-2)\n",
    "eff_b0_tl.compile(optimizer=optimizer, loss=\"categorical_crossentropy\", metrics=[\"accuracy\"])\n",
    "model_saved=eff_b0_tl.fit(training_ds_resized, validation_data = testing_ds_resized, batch_size = batch_size, epochs = 20, callbacks = [callbacks]) "
   ]
  },
  {
   "cell_type": "code",
   "execution_count": 45,
   "metadata": {},
   "outputs": [
    {
     "name": "stderr",
     "output_type": "stream",
     "text": [
      "2023-08-18 16:35:53.411277: I tensorflow/core/common_runtime/executor.cc:1197] [/device:CPU:0] (DEBUG INFO) Executor start aborting (this does not indicate an error and you can ignore this message): INVALID_ARGUMENT: You must feed a value for placeholder tensor 'inputs' with dtype float and shape [?,32]\n",
      "\t [[{{node inputs}}]]\n",
      "2023-08-18 16:35:53.450203: I tensorflow/core/common_runtime/executor.cc:1197] [/device:CPU:0] (DEBUG INFO) Executor start aborting (this does not indicate an error and you can ignore this message): INVALID_ARGUMENT: You must feed a value for placeholder tensor 'inputs' with dtype float and shape [?,96]\n",
      "\t [[{{node inputs}}]]\n",
      "2023-08-18 16:35:53.487372: I tensorflow/core/common_runtime/executor.cc:1197] [/device:CPU:0] (DEBUG INFO) Executor start aborting (this does not indicate an error and you can ignore this message): INVALID_ARGUMENT: You must feed a value for placeholder tensor 'inputs' with dtype float and shape [?,144]\n",
      "\t [[{{node inputs}}]]\n",
      "2023-08-18 16:35:53.508435: I tensorflow/core/common_runtime/executor.cc:1197] [/device:CPU:0] (DEBUG INFO) Executor start aborting (this does not indicate an error and you can ignore this message): INVALID_ARGUMENT: You must feed a value for placeholder tensor 'inputs' with dtype float and shape [?,56,56,24]\n",
      "\t [[{{node inputs}}]]\n",
      "2023-08-18 16:35:53.536946: I tensorflow/core/common_runtime/executor.cc:1197] [/device:CPU:0] (DEBUG INFO) Executor start aborting (this does not indicate an error and you can ignore this message): INVALID_ARGUMENT: You must feed a value for placeholder tensor 'inputs' with dtype float and shape [?,144]\n",
      "\t [[{{node inputs}}]]\n",
      "2023-08-18 16:35:53.574454: I tensorflow/core/common_runtime/executor.cc:1197] [/device:CPU:0] (DEBUG INFO) Executor start aborting (this does not indicate an error and you can ignore this message): INVALID_ARGUMENT: You must feed a value for placeholder tensor 'inputs' with dtype float and shape [?,240]\n",
      "\t [[{{node inputs}}]]\n",
      "2023-08-18 16:35:53.595538: I tensorflow/core/common_runtime/executor.cc:1197] [/device:CPU:0] (DEBUG INFO) Executor start aborting (this does not indicate an error and you can ignore this message): INVALID_ARGUMENT: You must feed a value for placeholder tensor 'inputs' with dtype float and shape [?,28,28,40]\n",
      "\t [[{{node inputs}}]]\n",
      "2023-08-18 16:35:53.624838: I tensorflow/core/common_runtime/executor.cc:1197] [/device:CPU:0] (DEBUG INFO) Executor start aborting (this does not indicate an error and you can ignore this message): INVALID_ARGUMENT: You must feed a value for placeholder tensor 'inputs' with dtype float and shape [?,240]\n",
      "\t [[{{node inputs}}]]\n",
      "2023-08-18 16:35:53.662638: I tensorflow/core/common_runtime/executor.cc:1197] [/device:CPU:0] (DEBUG INFO) Executor start aborting (this does not indicate an error and you can ignore this message): INVALID_ARGUMENT: You must feed a value for placeholder tensor 'inputs' with dtype float and shape [?,480]\n",
      "\t [[{{node inputs}}]]\n",
      "2023-08-18 16:35:53.683713: I tensorflow/core/common_runtime/executor.cc:1197] [/device:CPU:0] (DEBUG INFO) Executor start aborting (this does not indicate an error and you can ignore this message): INVALID_ARGUMENT: You must feed a value for placeholder tensor 'inputs' with dtype float and shape [?,14,14,80]\n",
      "\t [[{{node inputs}}]]\n",
      "2023-08-18 16:35:53.710627: I tensorflow/core/common_runtime/executor.cc:1197] [/device:CPU:0] (DEBUG INFO) Executor start aborting (this does not indicate an error and you can ignore this message): INVALID_ARGUMENT: You must feed a value for placeholder tensor 'inputs' with dtype float and shape [?,480]\n",
      "\t [[{{node inputs}}]]\n",
      "2023-08-18 16:35:53.732354: I tensorflow/core/common_runtime/executor.cc:1197] [/device:CPU:0] (DEBUG INFO) Executor start aborting (this does not indicate an error and you can ignore this message): INVALID_ARGUMENT: You must feed a value for placeholder tensor 'inputs' with dtype float and shape [?,14,14,80]\n",
      "\t [[{{node inputs}}]]\n",
      "2023-08-18 16:35:53.759370: I tensorflow/core/common_runtime/executor.cc:1197] [/device:CPU:0] (DEBUG INFO) Executor start aborting (this does not indicate an error and you can ignore this message): INVALID_ARGUMENT: You must feed a value for placeholder tensor 'inputs' with dtype float and shape [?,480]\n",
      "\t [[{{node inputs}}]]\n",
      "2023-08-18 16:35:53.796525: I tensorflow/core/common_runtime/executor.cc:1197] [/device:CPU:0] (DEBUG INFO) Executor start aborting (this does not indicate an error and you can ignore this message): INVALID_ARGUMENT: You must feed a value for placeholder tensor 'inputs' with dtype float and shape [?,672]\n",
      "\t [[{{node inputs}}]]\n",
      "2023-08-18 16:35:53.818597: I tensorflow/core/common_runtime/executor.cc:1197] [/device:CPU:0] (DEBUG INFO) Executor start aborting (this does not indicate an error and you can ignore this message): INVALID_ARGUMENT: You must feed a value for placeholder tensor 'inputs' with dtype float and shape [?,14,14,112]\n",
      "\t [[{{node inputs}}]]\n",
      "2023-08-18 16:35:53.846933: I tensorflow/core/common_runtime/executor.cc:1197] [/device:CPU:0] (DEBUG INFO) Executor start aborting (this does not indicate an error and you can ignore this message): INVALID_ARGUMENT: You must feed a value for placeholder tensor 'inputs' with dtype float and shape [?,672]\n",
      "\t [[{{node inputs}}]]\n",
      "2023-08-18 16:35:53.868004: I tensorflow/core/common_runtime/executor.cc:1197] [/device:CPU:0] (DEBUG INFO) Executor start aborting (this does not indicate an error and you can ignore this message): INVALID_ARGUMENT: You must feed a value for placeholder tensor 'inputs' with dtype float and shape [?,14,14,112]\n",
      "\t [[{{node inputs}}]]\n",
      "2023-08-18 16:35:53.895378: I tensorflow/core/common_runtime/executor.cc:1197] [/device:CPU:0] (DEBUG INFO) Executor start aborting (this does not indicate an error and you can ignore this message): INVALID_ARGUMENT: You must feed a value for placeholder tensor 'inputs' with dtype float and shape [?,672]\n",
      "\t [[{{node inputs}}]]\n",
      "2023-08-18 16:35:53.933221: I tensorflow/core/common_runtime/executor.cc:1197] [/device:CPU:0] (DEBUG INFO) Executor start aborting (this does not indicate an error and you can ignore this message): INVALID_ARGUMENT: You must feed a value for placeholder tensor 'inputs' with dtype float and shape [?,1152]\n",
      "\t [[{{node inputs}}]]\n",
      "2023-08-18 16:35:53.954221: I tensorflow/core/common_runtime/executor.cc:1197] [/device:CPU:0] (DEBUG INFO) Executor start aborting (this does not indicate an error and you can ignore this message): INVALID_ARGUMENT: You must feed a value for placeholder tensor 'inputs' with dtype float and shape [?,7,7,192]\n",
      "\t [[{{node inputs}}]]\n",
      "2023-08-18 16:35:53.981226: I tensorflow/core/common_runtime/executor.cc:1197] [/device:CPU:0] (DEBUG INFO) Executor start aborting (this does not indicate an error and you can ignore this message): INVALID_ARGUMENT: You must feed a value for placeholder tensor 'inputs' with dtype float and shape [?,1152]\n",
      "\t [[{{node inputs}}]]\n",
      "2023-08-18 16:35:54.002130: I tensorflow/core/common_runtime/executor.cc:1197] [/device:CPU:0] (DEBUG INFO) Executor start aborting (this does not indicate an error and you can ignore this message): INVALID_ARGUMENT: You must feed a value for placeholder tensor 'inputs' with dtype float and shape [?,7,7,192]\n",
      "\t [[{{node inputs}}]]\n",
      "2023-08-18 16:35:54.029930: I tensorflow/core/common_runtime/executor.cc:1197] [/device:CPU:0] (DEBUG INFO) Executor start aborting (this does not indicate an error and you can ignore this message): INVALID_ARGUMENT: You must feed a value for placeholder tensor 'inputs' with dtype float and shape [?,1152]\n",
      "\t [[{{node inputs}}]]\n",
      "2023-08-18 16:35:54.051189: I tensorflow/core/common_runtime/executor.cc:1197] [/device:CPU:0] (DEBUG INFO) Executor start aborting (this does not indicate an error and you can ignore this message): INVALID_ARGUMENT: You must feed a value for placeholder tensor 'inputs' with dtype float and shape [?,7,7,192]\n",
      "\t [[{{node inputs}}]]\n",
      "2023-08-18 16:35:54.078424: I tensorflow/core/common_runtime/executor.cc:1197] [/device:CPU:0] (DEBUG INFO) Executor start aborting (this does not indicate an error and you can ignore this message): INVALID_ARGUMENT: You must feed a value for placeholder tensor 'inputs' with dtype float and shape [?,1152]\n",
      "\t [[{{node inputs}}]]\n",
      "2023-08-18 16:35:54.108672: I tensorflow/core/common_runtime/executor.cc:1197] [/device:CPU:0] (DEBUG INFO) Executor start aborting (this does not indicate an error and you can ignore this message): INVALID_ARGUMENT: You must feed a value for placeholder tensor 'inputs' with dtype float and shape [?,1280]\n",
      "\t [[{{node inputs}}]]\n",
      "2023-08-18 16:35:57.166548: I tensorflow/core/common_runtime/executor.cc:1197] [/device:CPU:0] (DEBUG INFO) Executor start aborting (this does not indicate an error and you can ignore this message): INVALID_ARGUMENT: You must feed a value for placeholder tensor 'inputs' with dtype float and shape [?,32]\n",
      "\t [[{{node inputs}}]]\n",
      "2023-08-18 16:35:57.337202: I tensorflow/core/common_runtime/executor.cc:1197] [/device:CPU:0] (DEBUG INFO) Executor start aborting (this does not indicate an error and you can ignore this message): INVALID_ARGUMENT: You must feed a value for placeholder tensor 'inputs' with dtype float and shape [?,96]\n",
      "\t [[{{node inputs}}]]\n",
      "2023-08-18 16:35:57.500883: I tensorflow/core/common_runtime/executor.cc:1197] [/device:CPU:0] (DEBUG INFO) Executor start aborting (this does not indicate an error and you can ignore this message): INVALID_ARGUMENT: You must feed a value for placeholder tensor 'inputs' with dtype float and shape [?,144]\n",
      "\t [[{{node inputs}}]]\n",
      "2023-08-18 16:35:57.574350: I tensorflow/core/common_runtime/executor.cc:1197] [/device:CPU:0] (DEBUG INFO) Executor start aborting (this does not indicate an error and you can ignore this message): INVALID_ARGUMENT: You must feed a value for placeholder tensor 'inputs' with dtype float and shape [?,56,56,24]\n",
      "\t [[{{node inputs}}]]\n",
      "2023-08-18 16:35:57.700221: I tensorflow/core/common_runtime/executor.cc:1197] [/device:CPU:0] (DEBUG INFO) Executor start aborting (this does not indicate an error and you can ignore this message): INVALID_ARGUMENT: You must feed a value for placeholder tensor 'inputs' with dtype float and shape [?,144]\n",
      "\t [[{{node inputs}}]]\n",
      "2023-08-18 16:35:57.864212: I tensorflow/core/common_runtime/executor.cc:1197] [/device:CPU:0] (DEBUG INFO) Executor start aborting (this does not indicate an error and you can ignore this message): INVALID_ARGUMENT: You must feed a value for placeholder tensor 'inputs' with dtype float and shape [?,240]\n",
      "\t [[{{node inputs}}]]\n",
      "2023-08-18 16:35:57.937815: I tensorflow/core/common_runtime/executor.cc:1197] [/device:CPU:0] (DEBUG INFO) Executor start aborting (this does not indicate an error and you can ignore this message): INVALID_ARGUMENT: You must feed a value for placeholder tensor 'inputs' with dtype float and shape [?,28,28,40]\n",
      "\t [[{{node inputs}}]]\n",
      "2023-08-18 16:35:58.063718: I tensorflow/core/common_runtime/executor.cc:1197] [/device:CPU:0] (DEBUG INFO) Executor start aborting (this does not indicate an error and you can ignore this message): INVALID_ARGUMENT: You must feed a value for placeholder tensor 'inputs' with dtype float and shape [?,240]\n",
      "\t [[{{node inputs}}]]\n",
      "2023-08-18 16:35:58.228557: I tensorflow/core/common_runtime/executor.cc:1197] [/device:CPU:0] (DEBUG INFO) Executor start aborting (this does not indicate an error and you can ignore this message): INVALID_ARGUMENT: You must feed a value for placeholder tensor 'inputs' with dtype float and shape [?,480]\n",
      "\t [[{{node inputs}}]]\n",
      "2023-08-18 16:35:58.302802: I tensorflow/core/common_runtime/executor.cc:1197] [/device:CPU:0] (DEBUG INFO) Executor start aborting (this does not indicate an error and you can ignore this message): INVALID_ARGUMENT: You must feed a value for placeholder tensor 'inputs' with dtype float and shape [?,14,14,80]\n",
      "\t [[{{node inputs}}]]\n",
      "2023-08-18 16:35:58.421234: I tensorflow/core/common_runtime/executor.cc:1197] [/device:CPU:0] (DEBUG INFO) Executor start aborting (this does not indicate an error and you can ignore this message): INVALID_ARGUMENT: You must feed a value for placeholder tensor 'inputs' with dtype float and shape [?,480]\n",
      "\t [[{{node inputs}}]]\n",
      "2023-08-18 16:35:58.494889: I tensorflow/core/common_runtime/executor.cc:1197] [/device:CPU:0] (DEBUG INFO) Executor start aborting (this does not indicate an error and you can ignore this message): INVALID_ARGUMENT: You must feed a value for placeholder tensor 'inputs' with dtype float and shape [?,14,14,80]\n",
      "\t [[{{node inputs}}]]\n",
      "2023-08-18 16:35:58.955183: I tensorflow/core/common_runtime/executor.cc:1197] [/device:CPU:0] (DEBUG INFO) Executor start aborting (this does not indicate an error and you can ignore this message): INVALID_ARGUMENT: You must feed a value for placeholder tensor 'inputs' with dtype float and shape [?,480]\n",
      "\t [[{{node inputs}}]]\n",
      "2023-08-18 16:35:59.121130: I tensorflow/core/common_runtime/executor.cc:1197] [/device:CPU:0] (DEBUG INFO) Executor start aborting (this does not indicate an error and you can ignore this message): INVALID_ARGUMENT: You must feed a value for placeholder tensor 'inputs' with dtype float and shape [?,672]\n",
      "\t [[{{node inputs}}]]\n",
      "2023-08-18 16:35:59.194712: I tensorflow/core/common_runtime/executor.cc:1197] [/device:CPU:0] (DEBUG INFO) Executor start aborting (this does not indicate an error and you can ignore this message): INVALID_ARGUMENT: You must feed a value for placeholder tensor 'inputs' with dtype float and shape [?,14,14,112]\n",
      "\t [[{{node inputs}}]]\n",
      "2023-08-18 16:35:59.312904: I tensorflow/core/common_runtime/executor.cc:1197] [/device:CPU:0] (DEBUG INFO) Executor start aborting (this does not indicate an error and you can ignore this message): INVALID_ARGUMENT: You must feed a value for placeholder tensor 'inputs' with dtype float and shape [?,672]\n",
      "\t [[{{node inputs}}]]\n",
      "2023-08-18 16:35:59.385704: I tensorflow/core/common_runtime/executor.cc:1197] [/device:CPU:0] (DEBUG INFO) Executor start aborting (this does not indicate an error and you can ignore this message): INVALID_ARGUMENT: You must feed a value for placeholder tensor 'inputs' with dtype float and shape [?,14,14,112]\n",
      "\t [[{{node inputs}}]]\n",
      "2023-08-18 16:35:59.510962: I tensorflow/core/common_runtime/executor.cc:1197] [/device:CPU:0] (DEBUG INFO) Executor start aborting (this does not indicate an error and you can ignore this message): INVALID_ARGUMENT: You must feed a value for placeholder tensor 'inputs' with dtype float and shape [?,672]\n",
      "\t [[{{node inputs}}]]\n",
      "2023-08-18 16:35:59.674261: I tensorflow/core/common_runtime/executor.cc:1197] [/device:CPU:0] (DEBUG INFO) Executor start aborting (this does not indicate an error and you can ignore this message): INVALID_ARGUMENT: You must feed a value for placeholder tensor 'inputs' with dtype float and shape [?,1152]\n",
      "\t [[{{node inputs}}]]\n",
      "2023-08-18 16:35:59.748203: I tensorflow/core/common_runtime/executor.cc:1197] [/device:CPU:0] (DEBUG INFO) Executor start aborting (this does not indicate an error and you can ignore this message): INVALID_ARGUMENT: You must feed a value for placeholder tensor 'inputs' with dtype float and shape [?,7,7,192]\n",
      "\t [[{{node inputs}}]]\n",
      "2023-08-18 16:35:59.865153: I tensorflow/core/common_runtime/executor.cc:1197] [/device:CPU:0] (DEBUG INFO) Executor start aborting (this does not indicate an error and you can ignore this message): INVALID_ARGUMENT: You must feed a value for placeholder tensor 'inputs' with dtype float and shape [?,1152]\n",
      "\t [[{{node inputs}}]]\n",
      "2023-08-18 16:35:59.939271: I tensorflow/core/common_runtime/executor.cc:1197] [/device:CPU:0] (DEBUG INFO) Executor start aborting (this does not indicate an error and you can ignore this message): INVALID_ARGUMENT: You must feed a value for placeholder tensor 'inputs' with dtype float and shape [?,7,7,192]\n",
      "\t [[{{node inputs}}]]\n",
      "2023-08-18 16:36:00.056675: I tensorflow/core/common_runtime/executor.cc:1197] [/device:CPU:0] (DEBUG INFO) Executor start aborting (this does not indicate an error and you can ignore this message): INVALID_ARGUMENT: You must feed a value for placeholder tensor 'inputs' with dtype float and shape [?,1152]\n",
      "\t [[{{node inputs}}]]\n",
      "2023-08-18 16:36:00.130330: I tensorflow/core/common_runtime/executor.cc:1197] [/device:CPU:0] (DEBUG INFO) Executor start aborting (this does not indicate an error and you can ignore this message): INVALID_ARGUMENT: You must feed a value for placeholder tensor 'inputs' with dtype float and shape [?,7,7,192]\n",
      "\t [[{{node inputs}}]]\n",
      "2023-08-18 16:36:00.247638: I tensorflow/core/common_runtime/executor.cc:1197] [/device:CPU:0] (DEBUG INFO) Executor start aborting (this does not indicate an error and you can ignore this message): INVALID_ARGUMENT: You must feed a value for placeholder tensor 'inputs' with dtype float and shape [?,1152]\n",
      "\t [[{{node inputs}}]]\n",
      "2023-08-18 16:36:00.405758: I tensorflow/core/common_runtime/executor.cc:1197] [/device:CPU:0] (DEBUG INFO) Executor start aborting (this does not indicate an error and you can ignore this message): INVALID_ARGUMENT: You must feed a value for placeholder tensor 'inputs' with dtype float and shape [?,1280]\n",
      "\t [[{{node inputs}}]]\n",
      "WARNING:absl:Found untraced functions such as _jit_compiled_convolution_op, _jit_compiled_convolution_op, _jit_compiled_convolution_op, _jit_compiled_convolution_op, _jit_compiled_convolution_op while saving (showing 5 of 81). These functions will not be directly callable after loading.\n"
     ]
    },
    {
     "name": "stdout",
     "output_type": "stream",
     "text": [
      "INFO:tensorflow:Assets written to: model_weights/effnet_b0_tl/assets\n"
     ]
    },
    {
     "name": "stderr",
     "output_type": "stream",
     "text": [
      "INFO:tensorflow:Assets written to: model_weights/effnet_b0_tl/assets\n"
     ]
    },
    {
     "ename": "TypeError",
     "evalue": "Unable to serialize [2.0896919 2.1128857 2.1081853] to JSON. Unrecognized type <class 'tensorflow.python.framework.ops.EagerTensor'>.",
     "output_type": "error",
     "traceback": [
      "\u001b[0;31m---------------------------------------------------------------------------\u001b[0m",
      "\u001b[0;31mTypeError\u001b[0m                                 Traceback (most recent call last)",
      "Cell \u001b[0;32mIn[45], line 1\u001b[0m\n\u001b[0;32m----> 1\u001b[0m \u001b[43meff_b0_tl\u001b[49m\u001b[38;5;241;43m.\u001b[39;49m\u001b[43msave\u001b[49m\u001b[43m(\u001b[49m\u001b[38;5;124;43m'\u001b[39;49m\u001b[38;5;124;43mmodel_weights/effnet_b0_tl\u001b[39;49m\u001b[38;5;124;43m'\u001b[39;49m\u001b[43m,\u001b[49m\u001b[43m \u001b[49m\u001b[43msave_format\u001b[49m\u001b[43m \u001b[49m\u001b[38;5;241;43m=\u001b[39;49m\u001b[43m \u001b[49m\u001b[38;5;124;43m'\u001b[39;49m\u001b[38;5;124;43mtf\u001b[39;49m\u001b[38;5;124;43m'\u001b[39;49m\u001b[43m)\u001b[49m\n",
      "File \u001b[0;32m~/.local/lib/python3.10/site-packages/keras/utils/traceback_utils.py:70\u001b[0m, in \u001b[0;36mfilter_traceback.<locals>.error_handler\u001b[0;34m(*args, **kwargs)\u001b[0m\n\u001b[1;32m     67\u001b[0m     filtered_tb \u001b[38;5;241m=\u001b[39m _process_traceback_frames(e\u001b[38;5;241m.\u001b[39m__traceback__)\n\u001b[1;32m     68\u001b[0m     \u001b[38;5;66;03m# To get the full stack trace, call:\u001b[39;00m\n\u001b[1;32m     69\u001b[0m     \u001b[38;5;66;03m# `tf.debugging.disable_traceback_filtering()`\u001b[39;00m\n\u001b[0;32m---> 70\u001b[0m     \u001b[38;5;28;01mraise\u001b[39;00m e\u001b[38;5;241m.\u001b[39mwith_traceback(filtered_tb) \u001b[38;5;28;01mfrom\u001b[39;00m \u001b[38;5;28;01mNone\u001b[39;00m\n\u001b[1;32m     71\u001b[0m \u001b[38;5;28;01mfinally\u001b[39;00m:\n\u001b[1;32m     72\u001b[0m     \u001b[38;5;28;01mdel\u001b[39;00m filtered_tb\n",
      "File \u001b[0;32m/opt/Python/Python-3.10.1/lib/python3.10/json/encoder.py:199\u001b[0m, in \u001b[0;36mJSONEncoder.encode\u001b[0;34m(self, o)\u001b[0m\n\u001b[1;32m    195\u001b[0m         \u001b[38;5;28;01mreturn\u001b[39;00m encode_basestring(o)\n\u001b[1;32m    196\u001b[0m \u001b[38;5;66;03m# This doesn't pass the iterator directly to ''.join() because the\u001b[39;00m\n\u001b[1;32m    197\u001b[0m \u001b[38;5;66;03m# exceptions aren't as detailed.  The list call should be roughly\u001b[39;00m\n\u001b[1;32m    198\u001b[0m \u001b[38;5;66;03m# equivalent to the PySequence_Fast that ''.join() would do.\u001b[39;00m\n\u001b[0;32m--> 199\u001b[0m chunks \u001b[38;5;241m=\u001b[39m \u001b[38;5;28;43mself\u001b[39;49m\u001b[38;5;241;43m.\u001b[39;49m\u001b[43miterencode\u001b[49m\u001b[43m(\u001b[49m\u001b[43mo\u001b[49m\u001b[43m,\u001b[49m\u001b[43m \u001b[49m\u001b[43m_one_shot\u001b[49m\u001b[38;5;241;43m=\u001b[39;49m\u001b[38;5;28;43;01mTrue\u001b[39;49;00m\u001b[43m)\u001b[49m\n\u001b[1;32m    200\u001b[0m \u001b[38;5;28;01mif\u001b[39;00m \u001b[38;5;129;01mnot\u001b[39;00m \u001b[38;5;28misinstance\u001b[39m(chunks, (\u001b[38;5;28mlist\u001b[39m, \u001b[38;5;28mtuple\u001b[39m)):\n\u001b[1;32m    201\u001b[0m     chunks \u001b[38;5;241m=\u001b[39m \u001b[38;5;28mlist\u001b[39m(chunks)\n",
      "File \u001b[0;32m/opt/Python/Python-3.10.1/lib/python3.10/json/encoder.py:257\u001b[0m, in \u001b[0;36mJSONEncoder.iterencode\u001b[0;34m(self, o, _one_shot)\u001b[0m\n\u001b[1;32m    252\u001b[0m \u001b[38;5;28;01melse\u001b[39;00m:\n\u001b[1;32m    253\u001b[0m     _iterencode \u001b[38;5;241m=\u001b[39m _make_iterencode(\n\u001b[1;32m    254\u001b[0m         markers, \u001b[38;5;28mself\u001b[39m\u001b[38;5;241m.\u001b[39mdefault, _encoder, \u001b[38;5;28mself\u001b[39m\u001b[38;5;241m.\u001b[39mindent, floatstr,\n\u001b[1;32m    255\u001b[0m         \u001b[38;5;28mself\u001b[39m\u001b[38;5;241m.\u001b[39mkey_separator, \u001b[38;5;28mself\u001b[39m\u001b[38;5;241m.\u001b[39mitem_separator, \u001b[38;5;28mself\u001b[39m\u001b[38;5;241m.\u001b[39msort_keys,\n\u001b[1;32m    256\u001b[0m         \u001b[38;5;28mself\u001b[39m\u001b[38;5;241m.\u001b[39mskipkeys, _one_shot)\n\u001b[0;32m--> 257\u001b[0m \u001b[38;5;28;01mreturn\u001b[39;00m \u001b[43m_iterencode\u001b[49m\u001b[43m(\u001b[49m\u001b[43mo\u001b[49m\u001b[43m,\u001b[49m\u001b[43m \u001b[49m\u001b[38;5;241;43m0\u001b[39;49m\u001b[43m)\u001b[49m\n",
      "\u001b[0;31mTypeError\u001b[0m: Unable to serialize [2.0896919 2.1128857 2.1081853] to JSON. Unrecognized type <class 'tensorflow.python.framework.ops.EagerTensor'>."
     ]
    }
   ],
   "source": [
    "eff_b0_tl.save('model_weights/effnet_b0_tl', save_format = 'tf')"
   ]
  },
  {
   "cell_type": "code",
   "execution_count": 44,
   "metadata": {},
   "outputs": [
    {
     "data": {
      "image/png": "[encoded data removed]",
      "text/plain": [
       "<Figure size 640x480 with 1 Axes>"
      ]
     },
     "metadata": {},
     "output_type": "display_data"
    }
   ],
   "source": [
    "plot_model(model_saved, 'performance_plots/effb0_tl.png')"
   ]
  },
  {
   "cell_type": "markdown",
   "metadata": {
    "jp-MarkdownHeadingCollapsed": true
   },
   "source": [
    "#### B1 "
   ]
  },
  {
   "cell_type": "code",
   "execution_count": 28,
   "metadata": {},
   "outputs": [
    {
     "name": "stdout",
     "output_type": "stream",
     "text": [
      "Shape of a sample image in training_ds_resized: (32, 240, 240, 3)\n"
     ]
    },
    {
     "name": "stderr",
     "output_type": "stream",
     "text": [
      "2023-08-21 11:25:25.821608: I tensorflow/core/common_runtime/executor.cc:1197] [/device:CPU:0] (DEBUG INFO) Executor start aborting (this does not indicate an error and you can ignore this message): INVALID_ARGUMENT: You must feed a value for placeholder tensor 'Placeholder/_4' with dtype int32 and shape [31920]\n",
      "\t [[{{node Placeholder/_4}}]]\n",
      "2023-08-21 11:25:25.822109: I tensorflow/core/common_runtime/executor.cc:1197] [/device:CPU:0] (DEBUG INFO) Executor start aborting (this does not indicate an error and you can ignore this message): INVALID_ARGUMENT: You must feed a value for placeholder tensor 'Placeholder/_4' with dtype int32 and shape [31920]\n",
      "\t [[{{node Placeholder/_4}}]]\n"
     ]
    }
   ],
   "source": [
    "from tensorflow.keras.applications.efficientnet import preprocess_input \n",
    "target_size =  (240,240) \n",
    "training_ds_resized = training_ds.map(preprocess_image) \n",
    "testing_ds_resized = testing_ds.map(preprocess_image) \n",
    "sample_image, _ = next(iter(testing_ds_resized.take(1)))\n",
    "sample_image_shape = sample_image.shape\n",
    "\n",
    "print(\"Shape of a sample image in training_ds_resized:\", sample_image_shape)"
   ]
  },
  {
   "cell_type": "code",
   "execution_count": 29,
   "metadata": {},
   "outputs": [
    {
     "name": "stdout",
     "output_type": "stream",
     "text": [
      "Epoch 1/20\n"
     ]
    },
    {
     "name": "stderr",
     "output_type": "stream",
     "text": [
      "2023-08-21 11:25:32.594715: I tensorflow/core/common_runtime/executor.cc:1197] [/device:CPU:0] (DEBUG INFO) Executor start aborting (this does not indicate an error and you can ignore this message): INVALID_ARGUMENT: You must feed a value for placeholder tensor 'Placeholder/_4' with dtype int32 and shape [88080]\n",
      "\t [[{{node Placeholder/_4}}]]\n",
      "2023-08-21 11:25:32.594916: I tensorflow/core/common_runtime/executor.cc:1197] [/device:CPU:0] (DEBUG INFO) Executor start aborting (this does not indicate an error and you can ignore this message): INVALID_ARGUMENT: You must feed a value for placeholder tensor 'Placeholder/_0' with dtype string and shape [88080]\n",
      "\t [[{{node Placeholder/_0}}]]\n"
     ]
    },
    {
     "name": "stdout",
     "output_type": "stream",
     "text": [
      "2753/2753 [==============================] - ETA: 0s - loss: 1.0150 - accuracy: 0.6990"
     ]
    },
    {
     "name": "stderr",
     "output_type": "stream",
     "text": [
      "2023-08-21 11:27:30.082507: I tensorflow/core/common_runtime/executor.cc:1197] [/device:CPU:0] (DEBUG INFO) Executor start aborting (this does not indicate an error and you can ignore this message): INVALID_ARGUMENT: You must feed a value for placeholder tensor 'Placeholder/_4' with dtype int32 and shape [31920]\n",
      "\t [[{{node Placeholder/_4}}]]\n",
      "2023-08-21 11:27:30.082899: I tensorflow/core/common_runtime/executor.cc:1197] [/device:CPU:0] (DEBUG INFO) Executor start aborting (this does not indicate an error and you can ignore this message): INVALID_ARGUMENT: You must feed a value for placeholder tensor 'Placeholder/_4' with dtype int32 and shape [31920]\n",
      "\t [[{{node Placeholder/_4}}]]\n"
     ]
    },
    {
     "name": "stdout",
     "output_type": "stream",
     "text": [
      "2753/2753 [==============================] - 154s 55ms/step - loss: 1.0150 - accuracy: 0.6990 - val_loss: 2.9330 - val_accuracy: 0.2074\n",
      "Epoch 2/20\n",
      "2753/2753 [==============================] - 150s 55ms/step - loss: 0.8769 - accuracy: 0.7071 - val_loss: 3.1142 - val_accuracy: 0.2246\n",
      "Epoch 3/20\n",
      "2753/2753 [==============================] - 152s 55ms/step - loss: 0.8979 - accuracy: 0.6995 - val_loss: 2.6990 - val_accuracy: 0.2270\n",
      "Epoch 4/20\n",
      "2753/2753 [==============================] - 147s 53ms/step - loss: 0.8969 - accuracy: 0.6993 - val_loss: 2.6657 - val_accuracy: 0.2412\n",
      "Epoch 5/20\n",
      "2753/2753 [==============================] - 151s 55ms/step - loss: 0.8924 - accuracy: 0.7018 - val_loss: 2.7636 - val_accuracy: 0.2633\n",
      "Epoch 6/20\n",
      "2753/2753 [==============================] - 149s 54ms/step - loss: 0.8970 - accuracy: 0.7016 - val_loss: 2.6885 - val_accuracy: 0.2646\n",
      "Epoch 7/20\n",
      "2753/2753 [==============================] - 150s 54ms/step - loss: 0.8964 - accuracy: 0.7019 - val_loss: 2.3691 - val_accuracy: 0.2681\n",
      "Epoch 8/20\n",
      "2753/2753 [==============================] - 149s 54ms/step - loss: 0.8936 - accuracy: 0.7004 - val_loss: 3.1673 - val_accuracy: 0.2371\n",
      "Epoch 9/20\n",
      "2753/2753 [==============================] - 148s 54ms/step - loss: 0.8977 - accuracy: 0.7011 - val_loss: 2.6807 - val_accuracy: 0.2383\n",
      "Epoch 10/20\n",
      "2753/2753 [==============================] - 149s 54ms/step - loss: 0.8923 - accuracy: 0.7029 - val_loss: 2.7375 - val_accuracy: 0.2339\n",
      "Epoch 11/20\n",
      "2753/2753 [==============================] - 149s 54ms/step - loss: 0.8970 - accuracy: 0.7017 - val_loss: 2.5258 - val_accuracy: 0.2492\n",
      "Epoch 12/20\n",
      "2753/2753 [==============================] - 149s 54ms/step - loss: 0.8984 - accuracy: 0.7005 - val_loss: 2.7421 - val_accuracy: 0.2349\n",
      "Epoch 13/20\n",
      "2753/2753 [==============================] - 149s 54ms/step - loss: 0.9005 - accuracy: 0.6980 - val_loss: 2.8185 - val_accuracy: 0.2424\n",
      "Epoch 14/20\n",
      "2753/2753 [==============================] - 148s 54ms/step - loss: 0.8976 - accuracy: 0.6990 - val_loss: 2.7697 - val_accuracy: 0.2211\n",
      "Epoch 15/20\n",
      "2753/2753 [==============================] - 152s 55ms/step - loss: 0.8961 - accuracy: 0.7006 - val_loss: 2.8275 - val_accuracy: 0.2576\n",
      "Epoch 16/20\n",
      "2753/2753 [==============================] - 149s 54ms/step - loss: 0.8949 - accuracy: 0.7021 - val_loss: 2.6259 - val_accuracy: 0.2347\n",
      "Epoch 17/20\n",
      "2753/2753 [==============================] - 148s 54ms/step - loss: 0.8921 - accuracy: 0.7006 - val_loss: 2.6901 - val_accuracy: 0.2520\n",
      "Epoch 18/20\n",
      "2753/2753 [==============================] - 149s 54ms/step - loss: 0.8938 - accuracy: 0.7004 - val_loss: 2.5846 - val_accuracy: 0.2555\n",
      "Epoch 19/20\n",
      "2753/2753 [==============================] - 148s 54ms/step - loss: 0.8955 - accuracy: 0.7005 - val_loss: 2.7293 - val_accuracy: 0.2377\n",
      "Epoch 20/20\n",
      "2753/2753 [==============================] - 150s 54ms/step - loss: 0.8926 - accuracy: 0.7022 - val_loss: 2.8435 - val_accuracy: 0.2324\n"
     ]
    }
   ],
   "source": [
    "#efficient net b1 with transfer learning from image net\n",
    "\n",
    "from tensorflow.keras.applications import EfficientNetB1\n",
    "batch_size = 32\n",
    "img_height = 240\n",
    "img_width = 240\n",
    "\n",
    "inputs = layers.Input(shape=(img_height, img_width, 3))\n",
    "x = inputs\n",
    "eff_b1_tl = EfficientNetB1(include_top=False, input_tensor=x, weights=\"imagenet\")\n",
    "\n",
    "# Freeze the pretrained weights\n",
    "eff_b1_tl.trainable = False\n",
    "\n",
    "# Rebuild top\n",
    "x = layers.GlobalAveragePooling2D(name=\"avg_pool\")(eff_b1_tl.output)\n",
    "x = layers.BatchNormalization()(x)\n",
    "\n",
    "top_dropout_rate = 0.2\n",
    "x = layers.Dropout(top_dropout_rate, name=\"top_dropout\")(x)\n",
    "outputs = layers.Dense(6, activation=\"softmax\", name=\"pred\")(x)\n",
    "\n",
    "# Compile\n",
    "eff_b1_tl = tf.keras.Model(inputs, outputs, name=\"EfficientNet\")\n",
    "optimizer = tf.keras.optimizers.Adam(learning_rate=1e-2)\n",
    "eff_b1_tl.compile(optimizer=optimizer, loss=\"categorical_crossentropy\", metrics=[\"accuracy\"])\n",
    "model_saved=eff_b1_tl.fit(training_ds_resized, validation_data = testing_ds_resized, batch_size = batch_size, epochs = 20, callbacks = [callbacks]) "
   ]
  },
  {
   "cell_type": "code",
   "execution_count": 39,
   "metadata": {},
   "outputs": [
    {
     "name": "stderr",
     "output_type": "stream",
     "text": [
      "2023-08-21 13:09:58.829079: I tensorflow/core/common_runtime/executor.cc:1197] [/device:CPU:0] (DEBUG INFO) Executor start aborting (this does not indicate an error and you can ignore this message): INVALID_ARGUMENT: You must feed a value for placeholder tensor 'inputs' with dtype float and shape [?,32]\n",
      "\t [[{{node inputs}}]]\n",
      "2023-08-21 13:09:58.844498: I tensorflow/core/common_runtime/executor.cc:1197] [/device:CPU:0] (DEBUG INFO) Executor start aborting (this does not indicate an error and you can ignore this message): INVALID_ARGUMENT: You must feed a value for placeholder tensor 'inputs' with dtype float and shape [?,16]\n",
      "\t [[{{node inputs}}]]\n",
      "2023-08-21 13:09:58.855510: I tensorflow/core/common_runtime/executor.cc:1197] [/device:CPU:0] (DEBUG INFO) Executor start aborting (this does not indicate an error and you can ignore this message): INVALID_ARGUMENT: You must feed a value for placeholder tensor 'inputs' with dtype float and shape [?,120,120,16]\n",
      "\t [[{{node inputs}}]]\n",
      "2023-08-21 13:09:58.870460: I tensorflow/core/common_runtime/executor.cc:1197] [/device:CPU:0] (DEBUG INFO) Executor start aborting (this does not indicate an error and you can ignore this message): INVALID_ARGUMENT: You must feed a value for placeholder tensor 'inputs' with dtype float and shape [?,96]\n",
      "\t [[{{node inputs}}]]\n",
      "2023-08-21 13:09:58.889777: I tensorflow/core/common_runtime/executor.cc:1197] [/device:CPU:0] (DEBUG INFO) Executor start aborting (this does not indicate an error and you can ignore this message): INVALID_ARGUMENT: You must feed a value for placeholder tensor 'inputs' with dtype float and shape [?,144]\n",
      "\t [[{{node inputs}}]]\n",
      "2023-08-21 13:09:58.900664: I tensorflow/core/common_runtime/executor.cc:1197] [/device:CPU:0] (DEBUG INFO) Executor start aborting (this does not indicate an error and you can ignore this message): INVALID_ARGUMENT: You must feed a value for placeholder tensor 'inputs' with dtype float and shape [?,60,60,24]\n",
      "\t [[{{node inputs}}]]\n",
      "2023-08-21 13:09:58.914726: I tensorflow/core/common_runtime/executor.cc:1197] [/device:CPU:0] (DEBUG INFO) Executor start aborting (this does not indicate an error and you can ignore this message): INVALID_ARGUMENT: You must feed a value for placeholder tensor 'inputs' with dtype float and shape [?,144]\n",
      "\t [[{{node inputs}}]]\n",
      "2023-08-21 13:09:58.925993: I tensorflow/core/common_runtime/executor.cc:1197] [/device:CPU:0] (DEBUG INFO) Executor start aborting (this does not indicate an error and you can ignore this message): INVALID_ARGUMENT: You must feed a value for placeholder tensor 'inputs' with dtype float and shape [?,60,60,24]\n",
      "\t [[{{node inputs}}]]\n",
      "2023-08-21 13:09:58.940367: I tensorflow/core/common_runtime/executor.cc:1197] [/device:CPU:0] (DEBUG INFO) Executor start aborting (this does not indicate an error and you can ignore this message): INVALID_ARGUMENT: You must feed a value for placeholder tensor 'inputs' with dtype float and shape [?,144]\n",
      "\t [[{{node inputs}}]]\n",
      "2023-08-21 13:09:58.959568: I tensorflow/core/common_runtime/executor.cc:1197] [/device:CPU:0] (DEBUG INFO) Executor start aborting (this does not indicate an error and you can ignore this message): INVALID_ARGUMENT: You must feed a value for placeholder tensor 'inputs' with dtype float and shape [?,240]\n",
      "\t [[{{node inputs}}]]\n",
      "2023-08-21 13:09:58.970919: I tensorflow/core/common_runtime/executor.cc:1197] [/device:CPU:0] (DEBUG INFO) Executor start aborting (this does not indicate an error and you can ignore this message): INVALID_ARGUMENT: You must feed a value for placeholder tensor 'inputs' with dtype float and shape [?,30,30,40]\n",
      "\t [[{{node inputs}}]]\n",
      "2023-08-21 13:09:58.985162: I tensorflow/core/common_runtime/executor.cc:1197] [/device:CPU:0] (DEBUG INFO) Executor start aborting (this does not indicate an error and you can ignore this message): INVALID_ARGUMENT: You must feed a value for placeholder tensor 'inputs' with dtype float and shape [?,240]\n",
      "\t [[{{node inputs}}]]\n",
      "2023-08-21 13:09:58.996093: I tensorflow/core/common_runtime/executor.cc:1197] [/device:CPU:0] (DEBUG INFO) Executor start aborting (this does not indicate an error and you can ignore this message): INVALID_ARGUMENT: You must feed a value for placeholder tensor 'inputs' with dtype float and shape [?,30,30,40]\n",
      "\t [[{{node inputs}}]]\n",
      "2023-08-21 13:09:59.010478: I tensorflow/core/common_runtime/executor.cc:1197] [/device:CPU:0] (DEBUG INFO) Executor start aborting (this does not indicate an error and you can ignore this message): INVALID_ARGUMENT: You must feed a value for placeholder tensor 'inputs' with dtype float and shape [?,240]\n",
      "\t [[{{node inputs}}]]\n",
      "2023-08-21 13:09:59.031085: I tensorflow/core/common_runtime/executor.cc:1197] [/device:CPU:0] (DEBUG INFO) Executor start aborting (this does not indicate an error and you can ignore this message): INVALID_ARGUMENT: You must feed a value for placeholder tensor 'inputs' with dtype float and shape [?,480]\n",
      "\t [[{{node inputs}}]]\n",
      "2023-08-21 13:09:59.043288: I tensorflow/core/common_runtime/executor.cc:1197] [/device:CPU:0] (DEBUG INFO) Executor start aborting (this does not indicate an error and you can ignore this message): INVALID_ARGUMENT: You must feed a value for placeholder tensor 'inputs' with dtype float and shape [?,15,15,80]\n",
      "\t [[{{node inputs}}]]\n",
      "2023-08-21 13:09:59.057933: I tensorflow/core/common_runtime/executor.cc:1197] [/device:CPU:0] (DEBUG INFO) Executor start aborting (this does not indicate an error and you can ignore this message): INVALID_ARGUMENT: You must feed a value for placeholder tensor 'inputs' with dtype float and shape [?,480]\n",
      "\t [[{{node inputs}}]]\n",
      "2023-08-21 13:09:59.069114: I tensorflow/core/common_runtime/executor.cc:1197] [/device:CPU:0] (DEBUG INFO) Executor start aborting (this does not indicate an error and you can ignore this message): INVALID_ARGUMENT: You must feed a value for placeholder tensor 'inputs' with dtype float and shape [?,15,15,80]\n",
      "\t [[{{node inputs}}]]\n",
      "2023-08-21 13:09:59.084041: I tensorflow/core/common_runtime/executor.cc:1197] [/device:CPU:0] (DEBUG INFO) Executor start aborting (this does not indicate an error and you can ignore this message): INVALID_ARGUMENT: You must feed a value for placeholder tensor 'inputs' with dtype float and shape [?,480]\n",
      "\t [[{{node inputs}}]]\n",
      "2023-08-21 13:09:59.095050: I tensorflow/core/common_runtime/executor.cc:1197] [/device:CPU:0] (DEBUG INFO) Executor start aborting (this does not indicate an error and you can ignore this message): INVALID_ARGUMENT: You must feed a value for placeholder tensor 'inputs' with dtype float and shape [?,15,15,80]\n",
      "\t [[{{node inputs}}]]\n",
      "2023-08-21 13:09:59.109311: I tensorflow/core/common_runtime/executor.cc:1197] [/device:CPU:0] (DEBUG INFO) Executor start aborting (this does not indicate an error and you can ignore this message): INVALID_ARGUMENT: You must feed a value for placeholder tensor 'inputs' with dtype float and shape [?,480]\n",
      "\t [[{{node inputs}}]]\n",
      "2023-08-21 13:09:59.129085: I tensorflow/core/common_runtime/executor.cc:1197] [/device:CPU:0] (DEBUG INFO) Executor start aborting (this does not indicate an error and you can ignore this message): INVALID_ARGUMENT: You must feed a value for placeholder tensor 'inputs' with dtype float and shape [?,672]\n",
      "\t [[{{node inputs}}]]\n",
      "2023-08-21 13:09:59.140150: I tensorflow/core/common_runtime/executor.cc:1197] [/device:CPU:0] (DEBUG INFO) Executor start aborting (this does not indicate an error and you can ignore this message): INVALID_ARGUMENT: You must feed a value for placeholder tensor 'inputs' with dtype float and shape [?,15,15,112]\n",
      "\t [[{{node inputs}}]]\n",
      "2023-08-21 13:09:59.154425: I tensorflow/core/common_runtime/executor.cc:1197] [/device:CPU:0] (DEBUG INFO) Executor start aborting (this does not indicate an error and you can ignore this message): INVALID_ARGUMENT: You must feed a value for placeholder tensor 'inputs' with dtype float and shape [?,672]\n",
      "\t [[{{node inputs}}]]\n",
      "2023-08-21 13:09:59.165336: I tensorflow/core/common_runtime/executor.cc:1197] [/device:CPU:0] (DEBUG INFO) Executor start aborting (this does not indicate an error and you can ignore this message): INVALID_ARGUMENT: You must feed a value for placeholder tensor 'inputs' with dtype float and shape [?,15,15,112]\n",
      "\t [[{{node inputs}}]]\n",
      "2023-08-21 13:09:59.179894: I tensorflow/core/common_runtime/executor.cc:1197] [/device:CPU:0] (DEBUG INFO) Executor start aborting (this does not indicate an error and you can ignore this message): INVALID_ARGUMENT: You must feed a value for placeholder tensor 'inputs' with dtype float and shape [?,672]\n",
      "\t [[{{node inputs}}]]\n",
      "2023-08-21 13:09:59.190838: I tensorflow/core/common_runtime/executor.cc:1197] [/device:CPU:0] (DEBUG INFO) Executor start aborting (this does not indicate an error and you can ignore this message): INVALID_ARGUMENT: You must feed a value for placeholder tensor 'inputs' with dtype float and shape [?,15,15,112]\n",
      "\t [[{{node inputs}}]]\n",
      "2023-08-21 13:09:59.205099: I tensorflow/core/common_runtime/executor.cc:1197] [/device:CPU:0] (DEBUG INFO) Executor start aborting (this does not indicate an error and you can ignore this message): INVALID_ARGUMENT: You must feed a value for placeholder tensor 'inputs' with dtype float and shape [?,672]\n",
      "\t [[{{node inputs}}]]\n",
      "2023-08-21 13:09:59.224518: I tensorflow/core/common_runtime/executor.cc:1197] [/device:CPU:0] (DEBUG INFO) Executor start aborting (this does not indicate an error and you can ignore this message): INVALID_ARGUMENT: You must feed a value for placeholder tensor 'inputs' with dtype float and shape [?,1152]\n",
      "\t [[{{node inputs}}]]\n",
      "2023-08-21 13:09:59.236763: I tensorflow/core/common_runtime/executor.cc:1197] [/device:CPU:0] (DEBUG INFO) Executor start aborting (this does not indicate an error and you can ignore this message): INVALID_ARGUMENT: You must feed a value for placeholder tensor 'inputs' with dtype float and shape [?,8,8,192]\n",
      "\t [[{{node inputs}}]]\n",
      "2023-08-21 13:09:59.251735: I tensorflow/core/common_runtime/executor.cc:1197] [/device:CPU:0] (DEBUG INFO) Executor start aborting (this does not indicate an error and you can ignore this message): INVALID_ARGUMENT: You must feed a value for placeholder tensor 'inputs' with dtype float and shape [?,1152]\n",
      "\t [[{{node inputs}}]]\n",
      "2023-08-21 13:09:59.262812: I tensorflow/core/common_runtime/executor.cc:1197] [/device:CPU:0] (DEBUG INFO) Executor start aborting (this does not indicate an error and you can ignore this message): INVALID_ARGUMENT: You must feed a value for placeholder tensor 'inputs' with dtype float and shape [?,8,8,192]\n",
      "\t [[{{node inputs}}]]\n",
      "2023-08-21 13:09:59.277113: I tensorflow/core/common_runtime/executor.cc:1197] [/device:CPU:0] (DEBUG INFO) Executor start aborting (this does not indicate an error and you can ignore this message): INVALID_ARGUMENT: You must feed a value for placeholder tensor 'inputs' with dtype float and shape [?,1152]\n",
      "\t [[{{node inputs}}]]\n",
      "2023-08-21 13:09:59.288476: I tensorflow/core/common_runtime/executor.cc:1197] [/device:CPU:0] (DEBUG INFO) Executor start aborting (this does not indicate an error and you can ignore this message): INVALID_ARGUMENT: You must feed a value for placeholder tensor 'inputs' with dtype float and shape [?,8,8,192]\n",
      "\t [[{{node inputs}}]]\n",
      "2023-08-21 13:09:59.302963: I tensorflow/core/common_runtime/executor.cc:1197] [/device:CPU:0] (DEBUG INFO) Executor start aborting (this does not indicate an error and you can ignore this message): INVALID_ARGUMENT: You must feed a value for placeholder tensor 'inputs' with dtype float and shape [?,1152]\n",
      "\t [[{{node inputs}}]]\n",
      "2023-08-21 13:09:59.313799: I tensorflow/core/common_runtime/executor.cc:1197] [/device:CPU:0] (DEBUG INFO) Executor start aborting (this does not indicate an error and you can ignore this message): INVALID_ARGUMENT: You must feed a value for placeholder tensor 'inputs' with dtype float and shape [?,8,8,192]\n",
      "\t [[{{node inputs}}]]\n",
      "2023-08-21 13:09:59.328019: I tensorflow/core/common_runtime/executor.cc:1197] [/device:CPU:0] (DEBUG INFO) Executor start aborting (this does not indicate an error and you can ignore this message): INVALID_ARGUMENT: You must feed a value for placeholder tensor 'inputs' with dtype float and shape [?,1152]\n",
      "\t [[{{node inputs}}]]\n",
      "2023-08-21 13:09:59.347800: I tensorflow/core/common_runtime/executor.cc:1197] [/device:CPU:0] (DEBUG INFO) Executor start aborting (this does not indicate an error and you can ignore this message): INVALID_ARGUMENT: You must feed a value for placeholder tensor 'inputs' with dtype float and shape [?,1920]\n",
      "\t [[{{node inputs}}]]\n",
      "2023-08-21 13:09:59.358687: I tensorflow/core/common_runtime/executor.cc:1197] [/device:CPU:0] (DEBUG INFO) Executor start aborting (this does not indicate an error and you can ignore this message): INVALID_ARGUMENT: You must feed a value for placeholder tensor 'inputs' with dtype float and shape [?,8,8,320]\n",
      "\t [[{{node inputs}}]]\n",
      "2023-08-21 13:09:59.369252: I tensorflow/core/common_runtime/executor.cc:1197] [/device:CPU:0] (DEBUG INFO) Executor start aborting (this does not indicate an error and you can ignore this message): INVALID_ARGUMENT: You must feed a value for placeholder tensor 'inputs' with dtype float and shape [?,1280]\n",
      "\t [[{{node inputs}}]]\n",
      "2023-08-21 13:10:01.740205: I tensorflow/core/common_runtime/executor.cc:1197] [/device:CPU:0] (DEBUG INFO) Executor start aborting (this does not indicate an error and you can ignore this message): INVALID_ARGUMENT: You must feed a value for placeholder tensor 'inputs' with dtype float and shape [?,32]\n",
      "\t [[{{node inputs}}]]\n",
      "2023-08-21 13:10:01.800436: I tensorflow/core/common_runtime/executor.cc:1197] [/device:CPU:0] (DEBUG INFO) Executor start aborting (this does not indicate an error and you can ignore this message): INVALID_ARGUMENT: You must feed a value for placeholder tensor 'inputs' with dtype float and shape [?,16]\n",
      "\t [[{{node inputs}}]]\n",
      "2023-08-21 13:10:01.835922: I tensorflow/core/common_runtime/executor.cc:1197] [/device:CPU:0] (DEBUG INFO) Executor start aborting (this does not indicate an error and you can ignore this message): INVALID_ARGUMENT: You must feed a value for placeholder tensor 'inputs' with dtype float and shape [?,120,120,16]\n",
      "\t [[{{node inputs}}]]\n",
      "2023-08-21 13:10:01.897512: I tensorflow/core/common_runtime/executor.cc:1197] [/device:CPU:0] (DEBUG INFO) Executor start aborting (this does not indicate an error and you can ignore this message): INVALID_ARGUMENT: You must feed a value for placeholder tensor 'inputs' with dtype float and shape [?,96]\n",
      "\t [[{{node inputs}}]]\n",
      "2023-08-21 13:10:01.980627: I tensorflow/core/common_runtime/executor.cc:1197] [/device:CPU:0] (DEBUG INFO) Executor start aborting (this does not indicate an error and you can ignore this message): INVALID_ARGUMENT: You must feed a value for placeholder tensor 'inputs' with dtype float and shape [?,144]\n",
      "\t [[{{node inputs}}]]\n",
      "2023-08-21 13:10:02.020843: I tensorflow/core/common_runtime/executor.cc:1197] [/device:CPU:0] (DEBUG INFO) Executor start aborting (this does not indicate an error and you can ignore this message): INVALID_ARGUMENT: You must feed a value for placeholder tensor 'inputs' with dtype float and shape [?,60,60,24]\n",
      "\t [[{{node inputs}}]]\n",
      "2023-08-21 13:10:02.088033: I tensorflow/core/common_runtime/executor.cc:1197] [/device:CPU:0] (DEBUG INFO) Executor start aborting (this does not indicate an error and you can ignore this message): INVALID_ARGUMENT: You must feed a value for placeholder tensor 'inputs' with dtype float and shape [?,144]\n",
      "\t [[{{node inputs}}]]\n",
      "2023-08-21 13:10:02.126148: I tensorflow/core/common_runtime/executor.cc:1197] [/device:CPU:0] (DEBUG INFO) Executor start aborting (this does not indicate an error and you can ignore this message): INVALID_ARGUMENT: You must feed a value for placeholder tensor 'inputs' with dtype float and shape [?,60,60,24]\n",
      "\t [[{{node inputs}}]]\n",
      "2023-08-21 13:10:02.190106: I tensorflow/core/common_runtime/executor.cc:1197] [/device:CPU:0] (DEBUG INFO) Executor start aborting (this does not indicate an error and you can ignore this message): INVALID_ARGUMENT: You must feed a value for placeholder tensor 'inputs' with dtype float and shape [?,144]\n",
      "\t [[{{node inputs}}]]\n",
      "2023-08-21 13:10:02.272012: I tensorflow/core/common_runtime/executor.cc:1197] [/device:CPU:0] (DEBUG INFO) Executor start aborting (this does not indicate an error and you can ignore this message): INVALID_ARGUMENT: You must feed a value for placeholder tensor 'inputs' with dtype float and shape [?,240]\n",
      "\t [[{{node inputs}}]]\n",
      "2023-08-21 13:10:02.308087: I tensorflow/core/common_runtime/executor.cc:1197] [/device:CPU:0] (DEBUG INFO) Executor start aborting (this does not indicate an error and you can ignore this message): INVALID_ARGUMENT: You must feed a value for placeholder tensor 'inputs' with dtype float and shape [?,30,30,40]\n",
      "\t [[{{node inputs}}]]\n",
      "2023-08-21 13:10:02.366239: I tensorflow/core/common_runtime/executor.cc:1197] [/device:CPU:0] (DEBUG INFO) Executor start aborting (this does not indicate an error and you can ignore this message): INVALID_ARGUMENT: You must feed a value for placeholder tensor 'inputs' with dtype float and shape [?,240]\n",
      "\t [[{{node inputs}}]]\n",
      "2023-08-21 13:10:02.403061: I tensorflow/core/common_runtime/executor.cc:1197] [/device:CPU:0] (DEBUG INFO) Executor start aborting (this does not indicate an error and you can ignore this message): INVALID_ARGUMENT: You must feed a value for placeholder tensor 'inputs' with dtype float and shape [?,30,30,40]\n",
      "\t [[{{node inputs}}]]\n",
      "2023-08-21 13:10:02.466722: I tensorflow/core/common_runtime/executor.cc:1197] [/device:CPU:0] (DEBUG INFO) Executor start aborting (this does not indicate an error and you can ignore this message): INVALID_ARGUMENT: You must feed a value for placeholder tensor 'inputs' with dtype float and shape [?,240]\n",
      "\t [[{{node inputs}}]]\n",
      "2023-08-21 13:10:02.550042: I tensorflow/core/common_runtime/executor.cc:1197] [/device:CPU:0] (DEBUG INFO) Executor start aborting (this does not indicate an error and you can ignore this message): INVALID_ARGUMENT: You must feed a value for placeholder tensor 'inputs' with dtype float and shape [?,480]\n",
      "\t [[{{node inputs}}]]\n",
      "2023-08-21 13:10:02.587661: I tensorflow/core/common_runtime/executor.cc:1197] [/device:CPU:0] (DEBUG INFO) Executor start aborting (this does not indicate an error and you can ignore this message): INVALID_ARGUMENT: You must feed a value for placeholder tensor 'inputs' with dtype float and shape [?,15,15,80]\n",
      "\t [[{{node inputs}}]]\n",
      "2023-08-21 13:10:02.648041: I tensorflow/core/common_runtime/executor.cc:1197] [/device:CPU:0] (DEBUG INFO) Executor start aborting (this does not indicate an error and you can ignore this message): INVALID_ARGUMENT: You must feed a value for placeholder tensor 'inputs' with dtype float and shape [?,480]\n",
      "\t [[{{node inputs}}]]\n",
      "2023-08-21 13:10:02.684692: I tensorflow/core/common_runtime/executor.cc:1197] [/device:CPU:0] (DEBUG INFO) Executor start aborting (this does not indicate an error and you can ignore this message): INVALID_ARGUMENT: You must feed a value for placeholder tensor 'inputs' with dtype float and shape [?,15,15,80]\n",
      "\t [[{{node inputs}}]]\n",
      "2023-08-21 13:10:02.742949: I tensorflow/core/common_runtime/executor.cc:1197] [/device:CPU:0] (DEBUG INFO) Executor start aborting (this does not indicate an error and you can ignore this message): INVALID_ARGUMENT: You must feed a value for placeholder tensor 'inputs' with dtype float and shape [?,480]\n",
      "\t [[{{node inputs}}]]\n",
      "2023-08-21 13:10:02.779209: I tensorflow/core/common_runtime/executor.cc:1197] [/device:CPU:0] (DEBUG INFO) Executor start aborting (this does not indicate an error and you can ignore this message): INVALID_ARGUMENT: You must feed a value for placeholder tensor 'inputs' with dtype float and shape [?,15,15,80]\n",
      "\t [[{{node inputs}}]]\n",
      "2023-08-21 13:10:02.837384: I tensorflow/core/common_runtime/executor.cc:1197] [/device:CPU:0] (DEBUG INFO) Executor start aborting (this does not indicate an error and you can ignore this message): INVALID_ARGUMENT: You must feed a value for placeholder tensor 'inputs' with dtype float and shape [?,480]\n",
      "\t [[{{node inputs}}]]\n",
      "2023-08-21 13:10:02.919739: I tensorflow/core/common_runtime/executor.cc:1197] [/device:CPU:0] (DEBUG INFO) Executor start aborting (this does not indicate an error and you can ignore this message): INVALID_ARGUMENT: You must feed a value for placeholder tensor 'inputs' with dtype float and shape [?,672]\n",
      "\t [[{{node inputs}}]]\n",
      "2023-08-21 13:10:02.956707: I tensorflow/core/common_runtime/executor.cc:1197] [/device:CPU:0] (DEBUG INFO) Executor start aborting (this does not indicate an error and you can ignore this message): INVALID_ARGUMENT: You must feed a value for placeholder tensor 'inputs' with dtype float and shape [?,15,15,112]\n",
      "\t [[{{node inputs}}]]\n",
      "2023-08-21 13:10:03.016537: I tensorflow/core/common_runtime/executor.cc:1197] [/device:CPU:0] (DEBUG INFO) Executor start aborting (this does not indicate an error and you can ignore this message): INVALID_ARGUMENT: You must feed a value for placeholder tensor 'inputs' with dtype float and shape [?,672]\n",
      "\t [[{{node inputs}}]]\n",
      "2023-08-21 13:10:03.054379: I tensorflow/core/common_runtime/executor.cc:1197] [/device:CPU:0] (DEBUG INFO) Executor start aborting (this does not indicate an error and you can ignore this message): INVALID_ARGUMENT: You must feed a value for placeholder tensor 'inputs' with dtype float and shape [?,15,15,112]\n",
      "\t [[{{node inputs}}]]\n",
      "2023-08-21 13:10:03.115525: I tensorflow/core/common_runtime/executor.cc:1197] [/device:CPU:0] (DEBUG INFO) Executor start aborting (this does not indicate an error and you can ignore this message): INVALID_ARGUMENT: You must feed a value for placeholder tensor 'inputs' with dtype float and shape [?,672]\n",
      "\t [[{{node inputs}}]]\n",
      "2023-08-21 13:10:03.153958: I tensorflow/core/common_runtime/executor.cc:1197] [/device:CPU:0] (DEBUG INFO) Executor start aborting (this does not indicate an error and you can ignore this message): INVALID_ARGUMENT: You must feed a value for placeholder tensor 'inputs' with dtype float and shape [?,15,15,112]\n",
      "\t [[{{node inputs}}]]\n",
      "2023-08-21 13:10:03.217451: I tensorflow/core/common_runtime/executor.cc:1197] [/device:CPU:0] (DEBUG INFO) Executor start aborting (this does not indicate an error and you can ignore this message): INVALID_ARGUMENT: You must feed a value for placeholder tensor 'inputs' with dtype float and shape [?,672]\n",
      "\t [[{{node inputs}}]]\n",
      "2023-08-21 13:10:03.298821: I tensorflow/core/common_runtime/executor.cc:1197] [/device:CPU:0] (DEBUG INFO) Executor start aborting (this does not indicate an error and you can ignore this message): INVALID_ARGUMENT: You must feed a value for placeholder tensor 'inputs' with dtype float and shape [?,1152]\n",
      "\t [[{{node inputs}}]]\n",
      "2023-08-21 13:10:03.334559: I tensorflow/core/common_runtime/executor.cc:1197] [/device:CPU:0] (DEBUG INFO) Executor start aborting (this does not indicate an error and you can ignore this message): INVALID_ARGUMENT: You must feed a value for placeholder tensor 'inputs' with dtype float and shape [?,8,8,192]\n",
      "\t [[{{node inputs}}]]\n",
      "2023-08-21 13:10:03.393032: I tensorflow/core/common_runtime/executor.cc:1197] [/device:CPU:0] (DEBUG INFO) Executor start aborting (this does not indicate an error and you can ignore this message): INVALID_ARGUMENT: You must feed a value for placeholder tensor 'inputs' with dtype float and shape [?,1152]\n",
      "\t [[{{node inputs}}]]\n",
      "2023-08-21 13:10:03.430550: I tensorflow/core/common_runtime/executor.cc:1197] [/device:CPU:0] (DEBUG INFO) Executor start aborting (this does not indicate an error and you can ignore this message): INVALID_ARGUMENT: You must feed a value for placeholder tensor 'inputs' with dtype float and shape [?,8,8,192]\n",
      "\t [[{{node inputs}}]]\n",
      "2023-08-21 13:10:03.490685: I tensorflow/core/common_runtime/executor.cc:1197] [/device:CPU:0] (DEBUG INFO) Executor start aborting (this does not indicate an error and you can ignore this message): INVALID_ARGUMENT: You must feed a value for placeholder tensor 'inputs' with dtype float and shape [?,1152]\n",
      "\t [[{{node inputs}}]]\n",
      "2023-08-21 13:10:03.528341: I tensorflow/core/common_runtime/executor.cc:1197] [/device:CPU:0] (DEBUG INFO) Executor start aborting (this does not indicate an error and you can ignore this message): INVALID_ARGUMENT: You must feed a value for placeholder tensor 'inputs' with dtype float and shape [?,8,8,192]\n",
      "\t [[{{node inputs}}]]\n",
      "2023-08-21 13:10:03.586364: I tensorflow/core/common_runtime/executor.cc:1197] [/device:CPU:0] (DEBUG INFO) Executor start aborting (this does not indicate an error and you can ignore this message): INVALID_ARGUMENT: You must feed a value for placeholder tensor 'inputs' with dtype float and shape [?,1152]\n",
      "\t [[{{node inputs}}]]\n",
      "2023-08-21 13:10:03.623773: I tensorflow/core/common_runtime/executor.cc:1197] [/device:CPU:0] (DEBUG INFO) Executor start aborting (this does not indicate an error and you can ignore this message): INVALID_ARGUMENT: You must feed a value for placeholder tensor 'inputs' with dtype float and shape [?,8,8,192]\n",
      "\t [[{{node inputs}}]]\n",
      "2023-08-21 13:10:03.681610: I tensorflow/core/common_runtime/executor.cc:1197] [/device:CPU:0] (DEBUG INFO) Executor start aborting (this does not indicate an error and you can ignore this message): INVALID_ARGUMENT: You must feed a value for placeholder tensor 'inputs' with dtype float and shape [?,1152]\n",
      "\t [[{{node inputs}}]]\n",
      "2023-08-21 13:10:03.763467: I tensorflow/core/common_runtime/executor.cc:1197] [/device:CPU:0] (DEBUG INFO) Executor start aborting (this does not indicate an error and you can ignore this message): INVALID_ARGUMENT: You must feed a value for placeholder tensor 'inputs' with dtype float and shape [?,1920]\n",
      "\t [[{{node inputs}}]]\n",
      "2023-08-21 13:10:03.800971: I tensorflow/core/common_runtime/executor.cc:1197] [/device:CPU:0] (DEBUG INFO) Executor start aborting (this does not indicate an error and you can ignore this message): INVALID_ARGUMENT: You must feed a value for placeholder tensor 'inputs' with dtype float and shape [?,8,8,320]\n",
      "\t [[{{node inputs}}]]\n",
      "2023-08-21 13:10:03.857476: I tensorflow/core/common_runtime/executor.cc:1197] [/device:CPU:0] (DEBUG INFO) Executor start aborting (this does not indicate an error and you can ignore this message): INVALID_ARGUMENT: You must feed a value for placeholder tensor 'inputs' with dtype float and shape [?,1280]\n",
      "\t [[{{node inputs}}]]\n",
      "WARNING:absl:Found untraced functions such as _jit_compiled_convolution_op, _jit_compiled_convolution_op, _jit_compiled_convolution_op, _jit_compiled_convolution_op, _jit_compiled_convolution_op while saving (showing 5 of 115). These functions will not be directly callable after loading.\n"
     ]
    },
    {
     "name": "stdout",
     "output_type": "stream",
     "text": [
      "INFO:tensorflow:Assets written to: model_weights/effnet_b1_tl/assets\n"
     ]
    },
    {
     "name": "stderr",
     "output_type": "stream",
     "text": [
      "INFO:tensorflow:Assets written to: model_weights/effnet_b1_tl/assets\n"
     ]
    }
   ],
   "source": [
    "tf.saved_model.save(eff_b1_tl, 'model_weights/effnet_b1_tl')"
   ]
  },
  {
   "cell_type": "code",
   "execution_count": 37,
   "metadata": {},
   "outputs": [
    {
     "data": {
      "text/plain": [
       "<keras.engine.functional.Functional at 0x7f0eed6643d0>"
      ]
     },
     "execution_count": 37,
     "metadata": {},
     "output_type": "execute_result"
    }
   ],
   "source": [
    "eff_b1_tl"
   ]
  },
  {
   "cell_type": "code",
   "execution_count": 35,
   "metadata": {},
   "outputs": [
    {
     "data": {
      "image/png": "[encoded data removed]",
      "text/plain": [
       "<Figure size 640x480 with 1 Axes>"
      ]
     },
     "metadata": {},
     "output_type": "display_data"
    }
   ],
   "source": [
    "plot_model(model_saved, 20,'performance_plots/effb1_tl.png')"
   ]
  },
  {
   "cell_type": "markdown",
   "metadata": {
    "jp-MarkdownHeadingCollapsed": true
   },
   "source": [
    "#### B2"
   ]
  },
  {
   "cell_type": "code",
   "execution_count": 19,
   "metadata": {},
   "outputs": [
    {
     "name": "stdout",
     "output_type": "stream",
     "text": [
      "Shape of a sample image in training_ds_resized: (32, 260, 260, 3)\n"
     ]
    },
    {
     "name": "stderr",
     "output_type": "stream",
     "text": [
      "2023-08-21 13:12:14.610442: I tensorflow/core/common_runtime/executor.cc:1197] [/device:CPU:0] (DEBUG INFO) Executor start aborting (this does not indicate an error and you can ignore this message): INVALID_ARGUMENT: You must feed a value for placeholder tensor 'Placeholder/_4' with dtype int32 and shape [31920]\n",
      "\t [[{{node Placeholder/_4}}]]\n",
      "2023-08-21 13:12:14.610640: I tensorflow/core/common_runtime/executor.cc:1197] [/device:CPU:0] (DEBUG INFO) Executor start aborting (this does not indicate an error and you can ignore this message): INVALID_ARGUMENT: You must feed a value for placeholder tensor 'Placeholder/_4' with dtype int32 and shape [31920]\n",
      "\t [[{{node Placeholder/_4}}]]\n",
      "2023-08-21 13:12:14.696753: W tensorflow/core/kernels/data/cache_dataset_ops.cc:856] The calling iterator did not fully read the dataset being cached. In order to avoid unexpected truncation of the dataset, the partially cached contents of the dataset  will be discarded. This can happen if you have an input pipeline similar to `dataset.cache().take(k).repeat()`. You should use `dataset.take(k).cache().repeat()` instead.\n"
     ]
    }
   ],
   "source": [
    "from tensorflow.keras.applications.efficientnet import preprocess_input \n",
    "target_size =  (260,260) \n",
    "training_ds_resized = training_ds.map(preprocess_image) \n",
    "testing_ds_resized = testing_ds.map(preprocess_image) \n",
    "sample_image, _ = next(iter(testing_ds_resized.take(1)))\n",
    "sample_image_shape = sample_image.shape\n",
    "\n",
    "print(\"Shape of a sample image in training_ds_resized:\", sample_image_shape)"
   ]
  },
  {
   "cell_type": "code",
   "execution_count": 20,
   "metadata": {},
   "outputs": [
    {
     "name": "stdout",
     "output_type": "stream",
     "text": [
      "Epoch 1/20\n"
     ]
    },
    {
     "name": "stderr",
     "output_type": "stream",
     "text": [
      "2023-08-21 13:12:19.243632: I tensorflow/core/common_runtime/executor.cc:1197] [/device:CPU:0] (DEBUG INFO) Executor start aborting (this does not indicate an error and you can ignore this message): INVALID_ARGUMENT: You must feed a value for placeholder tensor 'Placeholder/_0' with dtype string and shape [88080]\n",
      "\t [[{{node Placeholder/_0}}]]\n",
      "2023-08-21 13:12:19.244020: I tensorflow/core/common_runtime/executor.cc:1197] [/device:CPU:0] (DEBUG INFO) Executor start aborting (this does not indicate an error and you can ignore this message): INVALID_ARGUMENT: You must feed a value for placeholder tensor 'Placeholder/_0' with dtype string and shape [88080]\n",
      "\t [[{{node Placeholder/_0}}]]\n",
      "2023-08-21 13:12:27.247669: I tensorflow/compiler/xla/stream_executor/cuda/cuda_dnn.cc:424] Loaded cuDNN version 8600\n",
      "2023-08-21 13:12:27.930819: I tensorflow/compiler/xla/stream_executor/cuda/cuda_blas.cc:637] TensorFloat-32 will be used for the matrix multiplication. This will only be logged once.\n",
      "2023-08-21 13:12:27.977746: I tensorflow/compiler/xla/service/service.cc:169] XLA service 0x7f0e30014fe0 initialized for platform CUDA (this does not guarantee that XLA will be used). Devices:\n",
      "2023-08-21 13:12:27.977759: I tensorflow/compiler/xla/service/service.cc:177]   StreamExecutor device (0): NVIDIA GeForce RTX 3090 Ti, Compute Capability 8.6\n",
      "2023-08-21 13:12:27.980721: I tensorflow/compiler/mlir/tensorflow/utils/dump_mlir_util.cc:269] disabling MLIR crash reproducer, set env var `MLIR_CRASH_REPRODUCER_DIRECTORY` to enable.\n",
      "2023-08-21 13:12:28.088800: I ./tensorflow/compiler/jit/device_compiler.h:180] Compiled cluster using XLA!  This line is logged at most once for the lifetime of the process.\n"
     ]
    },
    {
     "name": "stdout",
     "output_type": "stream",
     "text": [
      "2753/2753 [==============================] - ETA: 0s - loss: 1.0460 - accuracy: 0.6937"
     ]
    },
    {
     "name": "stderr",
     "output_type": "stream",
     "text": [
      "2023-08-21 13:14:45.622993: I tensorflow/core/common_runtime/executor.cc:1197] [/device:CPU:0] (DEBUG INFO) Executor start aborting (this does not indicate an error and you can ignore this message): INVALID_ARGUMENT: You must feed a value for placeholder tensor 'Placeholder/_0' with dtype string and shape [31920]\n",
      "\t [[{{node Placeholder/_0}}]]\n",
      "2023-08-21 13:14:45.623271: I tensorflow/core/common_runtime/executor.cc:1197] [/device:CPU:0] (DEBUG INFO) Executor start aborting (this does not indicate an error and you can ignore this message): INVALID_ARGUMENT: You must feed a value for placeholder tensor 'Placeholder/_0' with dtype string and shape [31920]\n",
      "\t [[{{node Placeholder/_0}}]]\n"
     ]
    },
    {
     "name": "stdout",
     "output_type": "stream",
     "text": [
      "2753/2753 [==============================] - 194s 67ms/step - loss: 1.0460 - accuracy: 0.6937 - val_loss: 2.6541 - val_accuracy: 0.2929\n",
      "Epoch 2/20\n",
      "2753/2753 [==============================] - 180s 65ms/step - loss: 0.8817 - accuracy: 0.7038 - val_loss: 2.7221 - val_accuracy: 0.2759\n",
      "Epoch 3/20\n",
      "2753/2753 [==============================] - 179s 65ms/step - loss: 0.8973 - accuracy: 0.6996 - val_loss: 2.7368 - val_accuracy: 0.2637\n",
      "Epoch 4/20\n",
      "2753/2753 [==============================] - 176s 64ms/step - loss: 0.9029 - accuracy: 0.6985 - val_loss: 2.6145 - val_accuracy: 0.2597\n",
      "Epoch 5/20\n",
      "2753/2753 [==============================] - 175s 63ms/step - loss: 0.9037 - accuracy: 0.6976 - val_loss: 2.7005 - val_accuracy: 0.2668\n",
      "Epoch 6/20\n",
      "2753/2753 [==============================] - 178s 65ms/step - loss: 0.9018 - accuracy: 0.6965 - val_loss: 2.6143 - val_accuracy: 0.2453\n",
      "Epoch 7/20\n",
      "2753/2753 [==============================] - 179s 65ms/step - loss: 0.9036 - accuracy: 0.6987 - val_loss: 2.6110 - val_accuracy: 0.2525\n",
      "Epoch 8/20\n",
      "2753/2753 [==============================] - 177s 64ms/step - loss: 0.9044 - accuracy: 0.6972 - val_loss: 2.4554 - val_accuracy: 0.2807\n",
      "Epoch 9/20\n",
      "2753/2753 [==============================] - 175s 64ms/step - loss: 0.9018 - accuracy: 0.6990 - val_loss: 2.8298 - val_accuracy: 0.2662\n",
      "Epoch 10/20\n",
      "2753/2753 [==============================] - 178s 65ms/step - loss: 0.9035 - accuracy: 0.6971 - val_loss: 2.6050 - val_accuracy: 0.2577\n",
      "Epoch 11/20\n",
      "2753/2753 [==============================] - 177s 64ms/step - loss: 0.9013 - accuracy: 0.6977 - val_loss: 2.6881 - val_accuracy: 0.2580\n",
      "Epoch 12/20\n",
      "2753/2753 [==============================] - 175s 64ms/step - loss: 0.8989 - accuracy: 0.6989 - val_loss: 2.7487 - val_accuracy: 0.2470\n",
      "Epoch 13/20\n",
      "2753/2753 [==============================] - 178s 65ms/step - loss: 0.8979 - accuracy: 0.6980 - val_loss: 2.7397 - val_accuracy: 0.2910\n",
      "Epoch 14/20\n",
      "2753/2753 [==============================] - 182s 66ms/step - loss: 0.9004 - accuracy: 0.6993 - val_loss: 2.6779 - val_accuracy: 0.2587\n",
      "Epoch 15/20\n",
      "2753/2753 [==============================] - 182s 66ms/step - loss: 0.9007 - accuracy: 0.6998 - val_loss: 2.6733 - val_accuracy: 0.2343\n",
      "Epoch 16/20\n",
      "2753/2753 [==============================] - 177s 64ms/step - loss: 0.8997 - accuracy: 0.6990 - val_loss: 2.6873 - val_accuracy: 0.2435\n",
      "Epoch 17/20\n",
      "2753/2753 [==============================] - 177s 64ms/step - loss: 0.9042 - accuracy: 0.6974 - val_loss: 2.6492 - val_accuracy: 0.2547\n",
      "Epoch 18/20\n",
      "2753/2753 [==============================] - 165s 60ms/step - loss: 0.8987 - accuracy: 0.7000 - val_loss: 2.8149 - val_accuracy: 0.2609\n",
      "Epoch 19/20\n",
      "2753/2753 [==============================] - 181s 66ms/step - loss: 0.9020 - accuracy: 0.6969 - val_loss: 2.7145 - val_accuracy: 0.2227\n",
      "Epoch 20/20\n",
      "2753/2753 [==============================] - 177s 64ms/step - loss: 0.9006 - accuracy: 0.6978 - val_loss: 2.6245 - val_accuracy: 0.2528\n"
     ]
    }
   ],
   "source": [
    "#efficient net b1 with transfer learning from image net\n",
    "\n",
    "from tensorflow.keras.applications import EfficientNetB2\n",
    "batch_size = 32\n",
    "img_height = 260\n",
    "img_width = 260\n",
    "\n",
    "inputs = layers.Input(shape=(img_height, img_width, 3))\n",
    "x = inputs\n",
    "eff_b2_tl = EfficientNetB2(include_top=False, input_tensor=x, weights=\"imagenet\")\n",
    "\n",
    "# Freeze the pretrained weights\n",
    "eff_b2_tl.trainable = False\n",
    "\n",
    "# Rebuild top\n",
    "x = layers.GlobalAveragePooling2D(name=\"avg_pool\")(eff_b2_tl.output)\n",
    "x = layers.BatchNormalization()(x)\n",
    "\n",
    "top_dropout_rate = 0.2\n",
    "x = layers.Dropout(top_dropout_rate, name=\"top_dropout\")(x)\n",
    "outputs = layers.Dense(6, activation=\"softmax\", name=\"pred\")(x)\n",
    "\n",
    "# Compile\n",
    "eff_b2_tl = tf.keras.Model(inputs, outputs, name=\"EfficientNet\")\n",
    "optimizer = tf.keras.optimizers.Adam(learning_rate=1e-2)\n",
    "eff_b2_tl.compile(optimizer=optimizer, loss=\"categorical_crossentropy\", metrics=[\"accuracy\"])\n",
    "model_saved=eff_b2_tl.fit(training_ds_resized, validation_data = testing_ds_resized, batch_size = batch_size, epochs = 20, callbacks = [callbacks]) "
   ]
  },
  {
   "cell_type": "code",
   "execution_count": 21,
   "metadata": {},
   "outputs": [
    {
     "name": "stderr",
     "output_type": "stream",
     "text": [
      "2023-08-21 14:11:49.801550: I tensorflow/core/common_runtime/executor.cc:1197] [/device:CPU:0] (DEBUG INFO) Executor start aborting (this does not indicate an error and you can ignore this message): INVALID_ARGUMENT: You must feed a value for placeholder tensor 'inputs' with dtype float and shape [?,32]\n",
      "\t [[{{node inputs}}]]\n",
      "2023-08-21 14:11:49.831452: I tensorflow/core/common_runtime/executor.cc:1197] [/device:CPU:0] (DEBUG INFO) Executor start aborting (this does not indicate an error and you can ignore this message): INVALID_ARGUMENT: You must feed a value for placeholder tensor 'inputs' with dtype float and shape [?,16]\n",
      "\t [[{{node inputs}}]]\n",
      "2023-08-21 14:11:49.852739: I tensorflow/core/common_runtime/executor.cc:1197] [/device:CPU:0] (DEBUG INFO) Executor start aborting (this does not indicate an error and you can ignore this message): INVALID_ARGUMENT: You must feed a value for placeholder tensor 'inputs' with dtype float and shape [?,130,130,16]\n",
      "\t [[{{node inputs}}]]\n",
      "2023-08-21 14:11:49.881867: I tensorflow/core/common_runtime/executor.cc:1197] [/device:CPU:0] (DEBUG INFO) Executor start aborting (this does not indicate an error and you can ignore this message): INVALID_ARGUMENT: You must feed a value for placeholder tensor 'inputs' with dtype float and shape [?,96]\n",
      "\t [[{{node inputs}}]]\n",
      "2023-08-21 14:11:49.921207: I tensorflow/core/common_runtime/executor.cc:1197] [/device:CPU:0] (DEBUG INFO) Executor start aborting (this does not indicate an error and you can ignore this message): INVALID_ARGUMENT: You must feed a value for placeholder tensor 'inputs' with dtype float and shape [?,144]\n",
      "\t [[{{node inputs}}]]\n",
      "2023-08-21 14:11:49.942709: I tensorflow/core/common_runtime/executor.cc:1197] [/device:CPU:0] (DEBUG INFO) Executor start aborting (this does not indicate an error and you can ignore this message): INVALID_ARGUMENT: You must feed a value for placeholder tensor 'inputs' with dtype float and shape [?,65,65,24]\n",
      "\t [[{{node inputs}}]]\n",
      "2023-08-21 14:11:49.970384: I tensorflow/core/common_runtime/executor.cc:1197] [/device:CPU:0] (DEBUG INFO) Executor start aborting (this does not indicate an error and you can ignore this message): INVALID_ARGUMENT: You must feed a value for placeholder tensor 'inputs' with dtype float and shape [?,144]\n",
      "\t [[{{node inputs}}]]\n",
      "2023-08-21 14:11:49.991818: I tensorflow/core/common_runtime/executor.cc:1197] [/device:CPU:0] (DEBUG INFO) Executor start aborting (this does not indicate an error and you can ignore this message): INVALID_ARGUMENT: You must feed a value for placeholder tensor 'inputs' with dtype float and shape [?,65,65,24]\n",
      "\t [[{{node inputs}}]]\n",
      "2023-08-21 14:11:50.021515: I tensorflow/core/common_runtime/executor.cc:1197] [/device:CPU:0] (DEBUG INFO) Executor start aborting (this does not indicate an error and you can ignore this message): INVALID_ARGUMENT: You must feed a value for placeholder tensor 'inputs' with dtype float and shape [?,144]\n",
      "\t [[{{node inputs}}]]\n",
      "2023-08-21 14:11:50.059803: I tensorflow/core/common_runtime/executor.cc:1197] [/device:CPU:0] (DEBUG INFO) Executor start aborting (this does not indicate an error and you can ignore this message): INVALID_ARGUMENT: You must feed a value for placeholder tensor 'inputs' with dtype float and shape [?,288]\n",
      "\t [[{{node inputs}}]]\n",
      "2023-08-21 14:11:50.081109: I tensorflow/core/common_runtime/executor.cc:1197] [/device:CPU:0] (DEBUG INFO) Executor start aborting (this does not indicate an error and you can ignore this message): INVALID_ARGUMENT: You must feed a value for placeholder tensor 'inputs' with dtype float and shape [?,33,33,48]\n",
      "\t [[{{node inputs}}]]\n",
      "2023-08-21 14:11:50.109417: I tensorflow/core/common_runtime/executor.cc:1197] [/device:CPU:0] (DEBUG INFO) Executor start aborting (this does not indicate an error and you can ignore this message): INVALID_ARGUMENT: You must feed a value for placeholder tensor 'inputs' with dtype float and shape [?,288]\n",
      "\t [[{{node inputs}}]]\n",
      "2023-08-21 14:11:50.130667: I tensorflow/core/common_runtime/executor.cc:1197] [/device:CPU:0] (DEBUG INFO) Executor start aborting (this does not indicate an error and you can ignore this message): INVALID_ARGUMENT: You must feed a value for placeholder tensor 'inputs' with dtype float and shape [?,33,33,48]\n",
      "\t [[{{node inputs}}]]\n",
      "2023-08-21 14:11:50.158903: I tensorflow/core/common_runtime/executor.cc:1197] [/device:CPU:0] (DEBUG INFO) Executor start aborting (this does not indicate an error and you can ignore this message): INVALID_ARGUMENT: You must feed a value for placeholder tensor 'inputs' with dtype float and shape [?,288]\n",
      "\t [[{{node inputs}}]]\n",
      "2023-08-21 14:11:50.196682: I tensorflow/core/common_runtime/executor.cc:1197] [/device:CPU:0] (DEBUG INFO) Executor start aborting (this does not indicate an error and you can ignore this message): INVALID_ARGUMENT: You must feed a value for placeholder tensor 'inputs' with dtype float and shape [?,528]\n",
      "\t [[{{node inputs}}]]\n",
      "2023-08-21 14:11:50.219279: I tensorflow/core/common_runtime/executor.cc:1197] [/device:CPU:0] (DEBUG INFO) Executor start aborting (this does not indicate an error and you can ignore this message): INVALID_ARGUMENT: You must feed a value for placeholder tensor 'inputs' with dtype float and shape [?,17,17,88]\n",
      "\t [[{{node inputs}}]]\n",
      "2023-08-21 14:11:50.248280: I tensorflow/core/common_runtime/executor.cc:1197] [/device:CPU:0] (DEBUG INFO) Executor start aborting (this does not indicate an error and you can ignore this message): INVALID_ARGUMENT: You must feed a value for placeholder tensor 'inputs' with dtype float and shape [?,528]\n",
      "\t [[{{node inputs}}]]\n",
      "2023-08-21 14:11:50.269958: I tensorflow/core/common_runtime/executor.cc:1197] [/device:CPU:0] (DEBUG INFO) Executor start aborting (this does not indicate an error and you can ignore this message): INVALID_ARGUMENT: You must feed a value for placeholder tensor 'inputs' with dtype float and shape [?,17,17,88]\n",
      "\t [[{{node inputs}}]]\n",
      "2023-08-21 14:11:50.297496: I tensorflow/core/common_runtime/executor.cc:1197] [/device:CPU:0] (DEBUG INFO) Executor start aborting (this does not indicate an error and you can ignore this message): INVALID_ARGUMENT: You must feed a value for placeholder tensor 'inputs' with dtype float and shape [?,528]\n",
      "\t [[{{node inputs}}]]\n",
      "2023-08-21 14:11:50.319674: I tensorflow/core/common_runtime/executor.cc:1197] [/device:CPU:0] (DEBUG INFO) Executor start aborting (this does not indicate an error and you can ignore this message): INVALID_ARGUMENT: You must feed a value for placeholder tensor 'inputs' with dtype float and shape [?,17,17,88]\n",
      "\t [[{{node inputs}}]]\n",
      "2023-08-21 14:11:50.347255: I tensorflow/core/common_runtime/executor.cc:1197] [/device:CPU:0] (DEBUG INFO) Executor start aborting (this does not indicate an error and you can ignore this message): INVALID_ARGUMENT: You must feed a value for placeholder tensor 'inputs' with dtype float and shape [?,528]\n",
      "\t [[{{node inputs}}]]\n",
      "2023-08-21 14:11:50.384972: I tensorflow/core/common_runtime/executor.cc:1197] [/device:CPU:0] (DEBUG INFO) Executor start aborting (this does not indicate an error and you can ignore this message): INVALID_ARGUMENT: You must feed a value for placeholder tensor 'inputs' with dtype float and shape [?,720]\n",
      "\t [[{{node inputs}}]]\n",
      "2023-08-21 14:11:50.406869: I tensorflow/core/common_runtime/executor.cc:1197] [/device:CPU:0] (DEBUG INFO) Executor start aborting (this does not indicate an error and you can ignore this message): INVALID_ARGUMENT: You must feed a value for placeholder tensor 'inputs' with dtype float and shape [?,17,17,120]\n",
      "\t [[{{node inputs}}]]\n",
      "2023-08-21 14:11:50.435170: I tensorflow/core/common_runtime/executor.cc:1197] [/device:CPU:0] (DEBUG INFO) Executor start aborting (this does not indicate an error and you can ignore this message): INVALID_ARGUMENT: You must feed a value for placeholder tensor 'inputs' with dtype float and shape [?,720]\n",
      "\t [[{{node inputs}}]]\n",
      "2023-08-21 14:11:50.457653: I tensorflow/core/common_runtime/executor.cc:1197] [/device:CPU:0] (DEBUG INFO) Executor start aborting (this does not indicate an error and you can ignore this message): INVALID_ARGUMENT: You must feed a value for placeholder tensor 'inputs' with dtype float and shape [?,17,17,120]\n",
      "\t [[{{node inputs}}]]\n",
      "2023-08-21 14:11:50.485839: I tensorflow/core/common_runtime/executor.cc:1197] [/device:CPU:0] (DEBUG INFO) Executor start aborting (this does not indicate an error and you can ignore this message): INVALID_ARGUMENT: You must feed a value for placeholder tensor 'inputs' with dtype float and shape [?,720]\n",
      "\t [[{{node inputs}}]]\n",
      "2023-08-21 14:11:50.507893: I tensorflow/core/common_runtime/executor.cc:1197] [/device:CPU:0] (DEBUG INFO) Executor start aborting (this does not indicate an error and you can ignore this message): INVALID_ARGUMENT: You must feed a value for placeholder tensor 'inputs' with dtype float and shape [?,17,17,120]\n",
      "\t [[{{node inputs}}]]\n",
      "2023-08-21 14:11:50.535925: I tensorflow/core/common_runtime/executor.cc:1197] [/device:CPU:0] (DEBUG INFO) Executor start aborting (this does not indicate an error and you can ignore this message): INVALID_ARGUMENT: You must feed a value for placeholder tensor 'inputs' with dtype float and shape [?,720]\n",
      "\t [[{{node inputs}}]]\n",
      "2023-08-21 14:11:50.573694: I tensorflow/core/common_runtime/executor.cc:1197] [/device:CPU:0] (DEBUG INFO) Executor start aborting (this does not indicate an error and you can ignore this message): INVALID_ARGUMENT: You must feed a value for placeholder tensor 'inputs' with dtype float and shape [?,1248]\n",
      "\t [[{{node inputs}}]]\n",
      "2023-08-21 14:11:50.594875: I tensorflow/core/common_runtime/executor.cc:1197] [/device:CPU:0] (DEBUG INFO) Executor start aborting (this does not indicate an error and you can ignore this message): INVALID_ARGUMENT: You must feed a value for placeholder tensor 'inputs' with dtype float and shape [?,9,9,208]\n",
      "\t [[{{node inputs}}]]\n",
      "2023-08-21 14:11:50.623184: I tensorflow/core/common_runtime/executor.cc:1197] [/device:CPU:0] (DEBUG INFO) Executor start aborting (this does not indicate an error and you can ignore this message): INVALID_ARGUMENT: You must feed a value for placeholder tensor 'inputs' with dtype float and shape [?,1248]\n",
      "\t [[{{node inputs}}]]\n",
      "2023-08-21 14:11:50.644414: I tensorflow/core/common_runtime/executor.cc:1197] [/device:CPU:0] (DEBUG INFO) Executor start aborting (this does not indicate an error and you can ignore this message): INVALID_ARGUMENT: You must feed a value for placeholder tensor 'inputs' with dtype float and shape [?,9,9,208]\n",
      "\t [[{{node inputs}}]]\n",
      "2023-08-21 14:11:50.672940: I tensorflow/core/common_runtime/executor.cc:1197] [/device:CPU:0] (DEBUG INFO) Executor start aborting (this does not indicate an error and you can ignore this message): INVALID_ARGUMENT: You must feed a value for placeholder tensor 'inputs' with dtype float and shape [?,1248]\n",
      "\t [[{{node inputs}}]]\n",
      "2023-08-21 14:11:50.694337: I tensorflow/core/common_runtime/executor.cc:1197] [/device:CPU:0] (DEBUG INFO) Executor start aborting (this does not indicate an error and you can ignore this message): INVALID_ARGUMENT: You must feed a value for placeholder tensor 'inputs' with dtype float and shape [?,9,9,208]\n",
      "\t [[{{node inputs}}]]\n",
      "2023-08-21 14:11:50.722689: I tensorflow/core/common_runtime/executor.cc:1197] [/device:CPU:0] (DEBUG INFO) Executor start aborting (this does not indicate an error and you can ignore this message): INVALID_ARGUMENT: You must feed a value for placeholder tensor 'inputs' with dtype float and shape [?,1248]\n",
      "\t [[{{node inputs}}]]\n",
      "2023-08-21 14:11:50.744064: I tensorflow/core/common_runtime/executor.cc:1197] [/device:CPU:0] (DEBUG INFO) Executor start aborting (this does not indicate an error and you can ignore this message): INVALID_ARGUMENT: You must feed a value for placeholder tensor 'inputs' with dtype float and shape [?,9,9,208]\n",
      "\t [[{{node inputs}}]]\n",
      "2023-08-21 14:11:50.771721: I tensorflow/core/common_runtime/executor.cc:1197] [/device:CPU:0] (DEBUG INFO) Executor start aborting (this does not indicate an error and you can ignore this message): INVALID_ARGUMENT: You must feed a value for placeholder tensor 'inputs' with dtype float and shape [?,1248]\n",
      "\t [[{{node inputs}}]]\n",
      "2023-08-21 14:11:50.810075: I tensorflow/core/common_runtime/executor.cc:1197] [/device:CPU:0] (DEBUG INFO) Executor start aborting (this does not indicate an error and you can ignore this message): INVALID_ARGUMENT: You must feed a value for placeholder tensor 'inputs' with dtype float and shape [?,2112]\n",
      "\t [[{{node inputs}}]]\n",
      "2023-08-21 14:11:51.004122: I tensorflow/core/common_runtime/executor.cc:1197] [/device:CPU:0] (DEBUG INFO) Executor start aborting (this does not indicate an error and you can ignore this message): INVALID_ARGUMENT: You must feed a value for placeholder tensor 'inputs' with dtype float and shape [?,9,9,352]\n",
      "\t [[{{node inputs}}]]\n",
      "2023-08-21 14:11:51.025109: I tensorflow/core/common_runtime/executor.cc:1197] [/device:CPU:0] (DEBUG INFO) Executor start aborting (this does not indicate an error and you can ignore this message): INVALID_ARGUMENT: You must feed a value for placeholder tensor 'inputs' with dtype float and shape [?,1408]\n",
      "\t [[{{node inputs}}]]\n",
      "2023-08-21 14:11:55.333638: I tensorflow/core/common_runtime/executor.cc:1197] [/device:CPU:0] (DEBUG INFO) Executor start aborting (this does not indicate an error and you can ignore this message): INVALID_ARGUMENT: You must feed a value for placeholder tensor 'inputs' with dtype float and shape [?,32]\n",
      "\t [[{{node inputs}}]]\n",
      "2023-08-21 14:11:55.457293: I tensorflow/core/common_runtime/executor.cc:1197] [/device:CPU:0] (DEBUG INFO) Executor start aborting (this does not indicate an error and you can ignore this message): INVALID_ARGUMENT: You must feed a value for placeholder tensor 'inputs' with dtype float and shape [?,16]\n",
      "\t [[{{node inputs}}]]\n",
      "2023-08-21 14:11:55.531286: I tensorflow/core/common_runtime/executor.cc:1197] [/device:CPU:0] (DEBUG INFO) Executor start aborting (this does not indicate an error and you can ignore this message): INVALID_ARGUMENT: You must feed a value for placeholder tensor 'inputs' with dtype float and shape [?,130,130,16]\n",
      "\t [[{{node inputs}}]]\n",
      "2023-08-21 14:11:55.659008: I tensorflow/core/common_runtime/executor.cc:1197] [/device:CPU:0] (DEBUG INFO) Executor start aborting (this does not indicate an error and you can ignore this message): INVALID_ARGUMENT: You must feed a value for placeholder tensor 'inputs' with dtype float and shape [?,96]\n",
      "\t [[{{node inputs}}]]\n",
      "2023-08-21 14:11:55.824462: I tensorflow/core/common_runtime/executor.cc:1197] [/device:CPU:0] (DEBUG INFO) Executor start aborting (this does not indicate an error and you can ignore this message): INVALID_ARGUMENT: You must feed a value for placeholder tensor 'inputs' with dtype float and shape [?,144]\n",
      "\t [[{{node inputs}}]]\n",
      "2023-08-21 14:11:55.899397: I tensorflow/core/common_runtime/executor.cc:1197] [/device:CPU:0] (DEBUG INFO) Executor start aborting (this does not indicate an error and you can ignore this message): INVALID_ARGUMENT: You must feed a value for placeholder tensor 'inputs' with dtype float and shape [?,65,65,24]\n",
      "\t [[{{node inputs}}]]\n",
      "2023-08-21 14:11:56.017684: I tensorflow/core/common_runtime/executor.cc:1197] [/device:CPU:0] (DEBUG INFO) Executor start aborting (this does not indicate an error and you can ignore this message): INVALID_ARGUMENT: You must feed a value for placeholder tensor 'inputs' with dtype float and shape [?,144]\n",
      "\t [[{{node inputs}}]]\n",
      "2023-08-21 14:11:56.091704: I tensorflow/core/common_runtime/executor.cc:1197] [/device:CPU:0] (DEBUG INFO) Executor start aborting (this does not indicate an error and you can ignore this message): INVALID_ARGUMENT: You must feed a value for placeholder tensor 'inputs' with dtype float and shape [?,65,65,24]\n",
      "\t [[{{node inputs}}]]\n",
      "2023-08-21 14:11:56.217430: I tensorflow/core/common_runtime/executor.cc:1197] [/device:CPU:0] (DEBUG INFO) Executor start aborting (this does not indicate an error and you can ignore this message): INVALID_ARGUMENT: You must feed a value for placeholder tensor 'inputs' with dtype float and shape [?,144]\n",
      "\t [[{{node inputs}}]]\n",
      "2023-08-21 14:11:56.383024: I tensorflow/core/common_runtime/executor.cc:1197] [/device:CPU:0] (DEBUG INFO) Executor start aborting (this does not indicate an error and you can ignore this message): INVALID_ARGUMENT: You must feed a value for placeholder tensor 'inputs' with dtype float and shape [?,288]\n",
      "\t [[{{node inputs}}]]\n",
      "2023-08-21 14:11:56.457766: I tensorflow/core/common_runtime/executor.cc:1197] [/device:CPU:0] (DEBUG INFO) Executor start aborting (this does not indicate an error and you can ignore this message): INVALID_ARGUMENT: You must feed a value for placeholder tensor 'inputs' with dtype float and shape [?,33,33,48]\n",
      "\t [[{{node inputs}}]]\n",
      "2023-08-21 14:11:56.576081: I tensorflow/core/common_runtime/executor.cc:1197] [/device:CPU:0] (DEBUG INFO) Executor start aborting (this does not indicate an error and you can ignore this message): INVALID_ARGUMENT: You must feed a value for placeholder tensor 'inputs' with dtype float and shape [?,288]\n",
      "\t [[{{node inputs}}]]\n",
      "2023-08-21 14:11:56.650603: I tensorflow/core/common_runtime/executor.cc:1197] [/device:CPU:0] (DEBUG INFO) Executor start aborting (this does not indicate an error and you can ignore this message): INVALID_ARGUMENT: You must feed a value for placeholder tensor 'inputs' with dtype float and shape [?,33,33,48]\n",
      "\t [[{{node inputs}}]]\n",
      "2023-08-21 14:11:56.777178: I tensorflow/core/common_runtime/executor.cc:1197] [/device:CPU:0] (DEBUG INFO) Executor start aborting (this does not indicate an error and you can ignore this message): INVALID_ARGUMENT: You must feed a value for placeholder tensor 'inputs' with dtype float and shape [?,288]\n",
      "\t [[{{node inputs}}]]\n",
      "2023-08-21 14:11:56.942100: I tensorflow/core/common_runtime/executor.cc:1197] [/device:CPU:0] (DEBUG INFO) Executor start aborting (this does not indicate an error and you can ignore this message): INVALID_ARGUMENT: You must feed a value for placeholder tensor 'inputs' with dtype float and shape [?,528]\n",
      "\t [[{{node inputs}}]]\n",
      "2023-08-21 14:11:57.016220: I tensorflow/core/common_runtime/executor.cc:1197] [/device:CPU:0] (DEBUG INFO) Executor start aborting (this does not indicate an error and you can ignore this message): INVALID_ARGUMENT: You must feed a value for placeholder tensor 'inputs' with dtype float and shape [?,17,17,88]\n",
      "\t [[{{node inputs}}]]\n",
      "2023-08-21 14:11:57.134957: I tensorflow/core/common_runtime/executor.cc:1197] [/device:CPU:0] (DEBUG INFO) Executor start aborting (this does not indicate an error and you can ignore this message): INVALID_ARGUMENT: You must feed a value for placeholder tensor 'inputs' with dtype float and shape [?,528]\n",
      "\t [[{{node inputs}}]]\n",
      "2023-08-21 14:11:57.208359: I tensorflow/core/common_runtime/executor.cc:1197] [/device:CPU:0] (DEBUG INFO) Executor start aborting (this does not indicate an error and you can ignore this message): INVALID_ARGUMENT: You must feed a value for placeholder tensor 'inputs' with dtype float and shape [?,17,17,88]\n",
      "\t [[{{node inputs}}]]\n",
      "2023-08-21 14:11:57.328650: I tensorflow/core/common_runtime/executor.cc:1197] [/device:CPU:0] (DEBUG INFO) Executor start aborting (this does not indicate an error and you can ignore this message): INVALID_ARGUMENT: You must feed a value for placeholder tensor 'inputs' with dtype float and shape [?,528]\n",
      "\t [[{{node inputs}}]]\n",
      "2023-08-21 14:11:57.402378: I tensorflow/core/common_runtime/executor.cc:1197] [/device:CPU:0] (DEBUG INFO) Executor start aborting (this does not indicate an error and you can ignore this message): INVALID_ARGUMENT: You must feed a value for placeholder tensor 'inputs' with dtype float and shape [?,17,17,88]\n",
      "\t [[{{node inputs}}]]\n",
      "2023-08-21 14:11:57.520619: I tensorflow/core/common_runtime/executor.cc:1197] [/device:CPU:0] (DEBUG INFO) Executor start aborting (this does not indicate an error and you can ignore this message): INVALID_ARGUMENT: You must feed a value for placeholder tensor 'inputs' with dtype float and shape [?,528]\n",
      "\t [[{{node inputs}}]]\n",
      "2023-08-21 14:11:57.685894: I tensorflow/core/common_runtime/executor.cc:1197] [/device:CPU:0] (DEBUG INFO) Executor start aborting (this does not indicate an error and you can ignore this message): INVALID_ARGUMENT: You must feed a value for placeholder tensor 'inputs' with dtype float and shape [?,720]\n",
      "\t [[{{node inputs}}]]\n",
      "2023-08-21 14:11:57.759589: I tensorflow/core/common_runtime/executor.cc:1197] [/device:CPU:0] (DEBUG INFO) Executor start aborting (this does not indicate an error and you can ignore this message): INVALID_ARGUMENT: You must feed a value for placeholder tensor 'inputs' with dtype float and shape [?,17,17,120]\n",
      "\t [[{{node inputs}}]]\n",
      "2023-08-21 14:11:57.878283: I tensorflow/core/common_runtime/executor.cc:1197] [/device:CPU:0] (DEBUG INFO) Executor start aborting (this does not indicate an error and you can ignore this message): INVALID_ARGUMENT: You must feed a value for placeholder tensor 'inputs' with dtype float and shape [?,720]\n",
      "\t [[{{node inputs}}]]\n",
      "2023-08-21 14:11:57.952833: I tensorflow/core/common_runtime/executor.cc:1197] [/device:CPU:0] (DEBUG INFO) Executor start aborting (this does not indicate an error and you can ignore this message): INVALID_ARGUMENT: You must feed a value for placeholder tensor 'inputs' with dtype float and shape [?,17,17,120]\n",
      "\t [[{{node inputs}}]]\n",
      "2023-08-21 14:11:58.071787: I tensorflow/core/common_runtime/executor.cc:1197] [/device:CPU:0] (DEBUG INFO) Executor start aborting (this does not indicate an error and you can ignore this message): INVALID_ARGUMENT: You must feed a value for placeholder tensor 'inputs' with dtype float and shape [?,720]\n",
      "\t [[{{node inputs}}]]\n",
      "2023-08-21 14:11:58.146226: I tensorflow/core/common_runtime/executor.cc:1197] [/device:CPU:0] (DEBUG INFO) Executor start aborting (this does not indicate an error and you can ignore this message): INVALID_ARGUMENT: You must feed a value for placeholder tensor 'inputs' with dtype float and shape [?,17,17,120]\n",
      "\t [[{{node inputs}}]]\n",
      "2023-08-21 14:11:58.273286: I tensorflow/core/common_runtime/executor.cc:1197] [/device:CPU:0] (DEBUG INFO) Executor start aborting (this does not indicate an error and you can ignore this message): INVALID_ARGUMENT: You must feed a value for placeholder tensor 'inputs' with dtype float and shape [?,720]\n",
      "\t [[{{node inputs}}]]\n",
      "2023-08-21 14:11:58.653364: I tensorflow/core/common_runtime/executor.cc:1197] [/device:CPU:0] (DEBUG INFO) Executor start aborting (this does not indicate an error and you can ignore this message): INVALID_ARGUMENT: You must feed a value for placeholder tensor 'inputs' with dtype float and shape [?,1248]\n",
      "\t [[{{node inputs}}]]\n",
      "2023-08-21 14:11:58.728535: I tensorflow/core/common_runtime/executor.cc:1197] [/device:CPU:0] (DEBUG INFO) Executor start aborting (this does not indicate an error and you can ignore this message): INVALID_ARGUMENT: You must feed a value for placeholder tensor 'inputs' with dtype float and shape [?,9,9,208]\n",
      "\t [[{{node inputs}}]]\n",
      "2023-08-21 14:11:58.847005: I tensorflow/core/common_runtime/executor.cc:1197] [/device:CPU:0] (DEBUG INFO) Executor start aborting (this does not indicate an error and you can ignore this message): INVALID_ARGUMENT: You must feed a value for placeholder tensor 'inputs' with dtype float and shape [?,1248]\n",
      "\t [[{{node inputs}}]]\n",
      "2023-08-21 14:11:58.922053: I tensorflow/core/common_runtime/executor.cc:1197] [/device:CPU:0] (DEBUG INFO) Executor start aborting (this does not indicate an error and you can ignore this message): INVALID_ARGUMENT: You must feed a value for placeholder tensor 'inputs' with dtype float and shape [?,9,9,208]\n",
      "\t [[{{node inputs}}]]\n",
      "2023-08-21 14:11:59.040203: I tensorflow/core/common_runtime/executor.cc:1197] [/device:CPU:0] (DEBUG INFO) Executor start aborting (this does not indicate an error and you can ignore this message): INVALID_ARGUMENT: You must feed a value for placeholder tensor 'inputs' with dtype float and shape [?,1248]\n",
      "\t [[{{node inputs}}]]\n",
      "2023-08-21 14:11:59.114857: I tensorflow/core/common_runtime/executor.cc:1197] [/device:CPU:0] (DEBUG INFO) Executor start aborting (this does not indicate an error and you can ignore this message): INVALID_ARGUMENT: You must feed a value for placeholder tensor 'inputs' with dtype float and shape [?,9,9,208]\n",
      "\t [[{{node inputs}}]]\n",
      "2023-08-21 14:11:59.234917: I tensorflow/core/common_runtime/executor.cc:1197] [/device:CPU:0] (DEBUG INFO) Executor start aborting (this does not indicate an error and you can ignore this message): INVALID_ARGUMENT: You must feed a value for placeholder tensor 'inputs' with dtype float and shape [?,1248]\n",
      "\t [[{{node inputs}}]]\n",
      "2023-08-21 14:11:59.309236: I tensorflow/core/common_runtime/executor.cc:1197] [/device:CPU:0] (DEBUG INFO) Executor start aborting (this does not indicate an error and you can ignore this message): INVALID_ARGUMENT: You must feed a value for placeholder tensor 'inputs' with dtype float and shape [?,9,9,208]\n",
      "\t [[{{node inputs}}]]\n",
      "2023-08-21 14:11:59.427948: I tensorflow/core/common_runtime/executor.cc:1197] [/device:CPU:0] (DEBUG INFO) Executor start aborting (this does not indicate an error and you can ignore this message): INVALID_ARGUMENT: You must feed a value for placeholder tensor 'inputs' with dtype float and shape [?,1248]\n",
      "\t [[{{node inputs}}]]\n",
      "2023-08-21 14:11:59.594003: I tensorflow/core/common_runtime/executor.cc:1197] [/device:CPU:0] (DEBUG INFO) Executor start aborting (this does not indicate an error and you can ignore this message): INVALID_ARGUMENT: You must feed a value for placeholder tensor 'inputs' with dtype float and shape [?,2112]\n",
      "\t [[{{node inputs}}]]\n",
      "2023-08-21 14:11:59.668320: I tensorflow/core/common_runtime/executor.cc:1197] [/device:CPU:0] (DEBUG INFO) Executor start aborting (this does not indicate an error and you can ignore this message): INVALID_ARGUMENT: You must feed a value for placeholder tensor 'inputs' with dtype float and shape [?,9,9,352]\n",
      "\t [[{{node inputs}}]]\n",
      "2023-08-21 14:11:59.782582: I tensorflow/core/common_runtime/executor.cc:1197] [/device:CPU:0] (DEBUG INFO) Executor start aborting (this does not indicate an error and you can ignore this message): INVALID_ARGUMENT: You must feed a value for placeholder tensor 'inputs' with dtype float and shape [?,1408]\n",
      "\t [[{{node inputs}}]]\n",
      "WARNING:absl:Found untraced functions such as _jit_compiled_convolution_op, _jit_compiled_convolution_op, _jit_compiled_convolution_op, _jit_compiled_convolution_op, _jit_compiled_convolution_op while saving (showing 5 of 115). These functions will not be directly callable after loading.\n"
     ]
    },
    {
     "name": "stdout",
     "output_type": "stream",
     "text": [
      "INFO:tensorflow:Assets written to: model_weights/effnet_b2_tl/assets\n"
     ]
    },
    {
     "name": "stderr",
     "output_type": "stream",
     "text": [
      "INFO:tensorflow:Assets written to: model_weights/effnet_b2_tl/assets\n"
     ]
    }
   ],
   "source": [
    "tf.saved_model.save(eff_b2_tl, 'model_weights/effnet_b2_tl')"
   ]
  },
  {
   "cell_type": "code",
   "execution_count": 22,
   "metadata": {},
   "outputs": [
    {
     "data": {
      "image/png": "[encoded data removed]",
      "text/plain": [
       "<Figure size 640x480 with 1 Axes>"
      ]
     },
     "metadata": {},
     "output_type": "display_data"
    }
   ],
   "source": [
    "plot_model(model_saved, 20,'performance_plots/effb2_tl.png')"
   ]
  },
  {
   "cell_type": "markdown",
   "metadata": {
    "jp-MarkdownHeadingCollapsed": true
   },
   "source": [
    "#### B3"
   ]
  },
  {
   "cell_type": "code",
   "execution_count": 18,
   "metadata": {},
   "outputs": [],
   "source": [
    "import ssl\n",
    "ssl._create_default_https_context = ssl._create_unverified_context"
   ]
  },
  {
   "cell_type": "code",
   "execution_count": 19,
   "metadata": {},
   "outputs": [
    {
     "name": "stdout",
     "output_type": "stream",
     "text": [
      "Shape of a sample image in training_ds_resized: (32, 300, 300, 3)\n"
     ]
    },
    {
     "name": "stderr",
     "output_type": "stream",
     "text": [
      "2023-08-21 14:40:40.764669: I tensorflow/core/common_runtime/executor.cc:1197] [/device:CPU:0] (DEBUG INFO) Executor start aborting (this does not indicate an error and you can ignore this message): INVALID_ARGUMENT: You must feed a value for placeholder tensor 'Placeholder/_4' with dtype int32 and shape [31920]\n",
      "\t [[{{node Placeholder/_4}}]]\n",
      "2023-08-21 14:40:40.764870: I tensorflow/core/common_runtime/executor.cc:1197] [/device:CPU:0] (DEBUG INFO) Executor start aborting (this does not indicate an error and you can ignore this message): INVALID_ARGUMENT: You must feed a value for placeholder tensor 'Placeholder/_0' with dtype string and shape [31920]\n",
      "\t [[{{node Placeholder/_0}}]]\n",
      "2023-08-21 14:40:40.861700: W tensorflow/core/kernels/data/cache_dataset_ops.cc:856] The calling iterator did not fully read the dataset being cached. In order to avoid unexpected truncation of the dataset, the partially cached contents of the dataset  will be discarded. This can happen if you have an input pipeline similar to `dataset.cache().take(k).repeat()`. You should use `dataset.take(k).cache().repeat()` instead.\n"
     ]
    }
   ],
   "source": [
    "from tensorflow.keras.applications.efficientnet import preprocess_input \n",
    "target_size =  (300,300) \n",
    "training_ds_resized = training_ds.map(preprocess_image) \n",
    "testing_ds_resized = testing_ds.map(preprocess_image) \n",
    "sample_image, _ = next(iter(testing_ds_resized.take(1)))\n",
    "sample_image_shape = sample_image.shape\n",
    "\n",
    "print(\"Shape of a sample image in training_ds_resized:\", sample_image_shape)"
   ]
  },
  {
   "cell_type": "code",
   "execution_count": 20,
   "metadata": {},
   "outputs": [
    {
     "name": "stdout",
     "output_type": "stream",
     "text": [
      "Epoch 1/20\n"
     ]
    },
    {
     "name": "stderr",
     "output_type": "stream",
     "text": [
      "2023-08-21 14:40:47.233153: I tensorflow/core/common_runtime/executor.cc:1197] [/device:CPU:0] (DEBUG INFO) Executor start aborting (this does not indicate an error and you can ignore this message): INVALID_ARGUMENT: You must feed a value for placeholder tensor 'Placeholder/_0' with dtype string and shape [88080]\n",
      "\t [[{{node Placeholder/_0}}]]\n",
      "2023-08-21 14:40:47.233532: I tensorflow/core/common_runtime/executor.cc:1197] [/device:CPU:0] (DEBUG INFO) Executor start aborting (this does not indicate an error and you can ignore this message): INVALID_ARGUMENT: You must feed a value for placeholder tensor 'Placeholder/_4' with dtype int32 and shape [88080]\n",
      "\t [[{{node Placeholder/_4}}]]\n",
      "2023-08-21 14:40:55.999372: I tensorflow/compiler/xla/stream_executor/cuda/cuda_dnn.cc:424] Loaded cuDNN version 8600\n",
      "2023-08-21 14:40:56.497042: I tensorflow/compiler/xla/stream_executor/cuda/cuda_blas.cc:637] TensorFloat-32 will be used for the matrix multiplication. This will only be logged once.\n",
      "2023-08-21 14:40:56.560650: I tensorflow/compiler/xla/service/service.cc:169] XLA service 0x7f699c019850 initialized for platform CUDA (this does not guarantee that XLA will be used). Devices:\n",
      "2023-08-21 14:40:56.560663: I tensorflow/compiler/xla/service/service.cc:177]   StreamExecutor device (0): NVIDIA GeForce RTX 3090 Ti, Compute Capability 8.6\n",
      "2023-08-21 14:40:56.563644: I tensorflow/compiler/mlir/tensorflow/utils/dump_mlir_util.cc:269] disabling MLIR crash reproducer, set env var `MLIR_CRASH_REPRODUCER_DIRECTORY` to enable.\n",
      "2023-08-21 14:40:56.670566: I ./tensorflow/compiler/jit/device_compiler.h:180] Compiled cluster using XLA!  This line is logged at most once for the lifetime of the process.\n"
     ]
    },
    {
     "name": "stdout",
     "output_type": "stream",
     "text": [
      "2753/2753 [==============================] - ETA: 0s - loss: 1.0767 - accuracy: 0.6957"
     ]
    },
    {
     "name": "stderr",
     "output_type": "stream",
     "text": [
      "2023-08-21 14:44:22.131635: I tensorflow/core/common_runtime/executor.cc:1197] [/device:CPU:0] (DEBUG INFO) Executor start aborting (this does not indicate an error and you can ignore this message): INVALID_ARGUMENT: You must feed a value for placeholder tensor 'Placeholder/_4' with dtype int32 and shape [31920]\n",
      "\t [[{{node Placeholder/_4}}]]\n",
      "2023-08-21 14:44:22.132027: I tensorflow/core/common_runtime/executor.cc:1197] [/device:CPU:0] (DEBUG INFO) Executor start aborting (this does not indicate an error and you can ignore this message): INVALID_ARGUMENT: You must feed a value for placeholder tensor 'Placeholder/_0' with dtype string and shape [31920]\n",
      "\t [[{{node Placeholder/_0}}]]\n"
     ]
    },
    {
     "name": "stdout",
     "output_type": "stream",
     "text": [
      "2753/2753 [==============================] - 282s 99ms/step - loss: 1.0767 - accuracy: 0.6957 - val_loss: 3.3668 - val_accuracy: 0.2209\n",
      "Epoch 2/20\n",
      "2753/2753 [==============================] - 258s 94ms/step - loss: 0.8832 - accuracy: 0.7051 - val_loss: 3.3936 - val_accuracy: 0.2239\n",
      "Epoch 3/20\n",
      "2753/2753 [==============================] - 257s 93ms/step - loss: 0.9057 - accuracy: 0.6990 - val_loss: 3.4468 - val_accuracy: 0.2137\n",
      "Epoch 4/20\n",
      "2753/2753 [==============================] - 255s 93ms/step - loss: 0.9099 - accuracy: 0.6963 - val_loss: 3.3705 - val_accuracy: 0.2336\n",
      "Epoch 5/20\n",
      "2753/2753 [==============================] - 256s 93ms/step - loss: 0.9055 - accuracy: 0.7002 - val_loss: 3.6279 - val_accuracy: 0.2003\n",
      "Epoch 6/20\n",
      "2753/2753 [==============================] - 257s 93ms/step - loss: 0.9112 - accuracy: 0.6959 - val_loss: 3.2678 - val_accuracy: 0.2213\n",
      "Epoch 7/20\n",
      "2753/2753 [==============================] - 259s 94ms/step - loss: 0.9080 - accuracy: 0.6985 - val_loss: 3.6296 - val_accuracy: 0.2099\n",
      "Epoch 8/20\n",
      "2753/2753 [==============================] - 262s 95ms/step - loss: 0.9051 - accuracy: 0.6984 - val_loss: 3.5731 - val_accuracy: 0.2403\n",
      "Epoch 9/20\n",
      "2753/2753 [==============================] - 261s 95ms/step - loss: 0.9098 - accuracy: 0.6960 - val_loss: 3.0414 - val_accuracy: 0.2384\n",
      "Epoch 10/20\n",
      "2753/2753 [==============================] - 263s 96ms/step - loss: 0.9044 - accuracy: 0.6986 - val_loss: 3.4394 - val_accuracy: 0.2254\n",
      "Epoch 11/20\n",
      "2753/2753 [==============================] - 261s 95ms/step - loss: 0.9034 - accuracy: 0.7000 - val_loss: 2.8271 - val_accuracy: 0.2634\n",
      "Epoch 12/20\n",
      "2753/2753 [==============================] - 260s 95ms/step - loss: 0.9087 - accuracy: 0.6963 - val_loss: 3.5227 - val_accuracy: 0.2177\n",
      "Epoch 13/20\n",
      "2753/2753 [==============================] - 260s 95ms/step - loss: 0.9048 - accuracy: 0.6990 - val_loss: 3.5888 - val_accuracy: 0.2225\n",
      "Epoch 14/20\n",
      "2753/2753 [==============================] - 260s 94ms/step - loss: 0.9065 - accuracy: 0.6979 - val_loss: 3.3995 - val_accuracy: 0.2227\n",
      "Epoch 15/20\n",
      "2753/2753 [==============================] - 260s 94ms/step - loss: 0.9103 - accuracy: 0.6974 - val_loss: 3.4841 - val_accuracy: 0.2130\n",
      "Epoch 16/20\n",
      "2753/2753 [==============================] - 259s 94ms/step - loss: 0.9099 - accuracy: 0.6977 - val_loss: 3.1597 - val_accuracy: 0.2320\n",
      "Epoch 17/20\n",
      "2753/2753 [==============================] - 261s 95ms/step - loss: 0.9097 - accuracy: 0.6973 - val_loss: 3.7513 - val_accuracy: 0.2131\n",
      "Epoch 18/20\n",
      "2753/2753 [==============================] - 261s 95ms/step - loss: 0.9103 - accuracy: 0.6971 - val_loss: 3.1576 - val_accuracy: 0.2391\n",
      "Epoch 19/20\n",
      "2753/2753 [==============================] - 257s 93ms/step - loss: 0.9065 - accuracy: 0.6989 - val_loss: 3.0194 - val_accuracy: 0.2289\n",
      "Epoch 20/20\n",
      "2753/2753 [==============================] - 256s 93ms/step - loss: 0.9040 - accuracy: 0.7005 - val_loss: 3.0968 - val_accuracy: 0.2370\n"
     ]
    }
   ],
   "source": [
    "#efficient net b1 with transfer learning from image net\n",
    "\n",
    "from tensorflow.keras.applications import EfficientNetB3\n",
    "batch_size = 32\n",
    "img_height = 300\n",
    "img_width = 300\n",
    "\n",
    "inputs = layers.Input(shape=(img_height, img_width, 3))\n",
    "x = inputs\n",
    "eff_b3_tl = EfficientNetB3(include_top=False, input_tensor=x, weights=\"imagenet\")\n",
    "\n",
    "# Freeze the pretrained weights\n",
    "eff_b3_tl.trainable = False\n",
    "\n",
    "# Rebuild top\n",
    "x = layers.GlobalAveragePooling2D(name=\"avg_pool\")(eff_b3_tl.output)\n",
    "x = layers.BatchNormalization()(x)\n",
    "\n",
    "top_dropout_rate = 0.2\n",
    "x = layers.Dropout(top_dropout_rate, name=\"top_dropout\")(x)\n",
    "outputs = layers.Dense(6, activation=\"softmax\", name=\"pred\")(x)\n",
    "\n",
    "# Compile\n",
    "eff_b3_tl = tf.keras.Model(inputs, outputs, name=\"EfficientNet\")\n",
    "optimizer = tf.keras.optimizers.Adam(learning_rate=1e-2)\n",
    "eff_b3_tl.compile(optimizer=optimizer, loss=\"categorical_crossentropy\", metrics=[\"accuracy\"])\n",
    "model_saved=eff_b3_tl.fit(training_ds_resized, validation_data = testing_ds_resized, batch_size = batch_size, epochs = 20, callbacks = [callbacks]) "
   ]
  },
  {
   "cell_type": "code",
   "execution_count": 21,
   "metadata": {},
   "outputs": [
    {
     "name": "stderr",
     "output_type": "stream",
     "text": [
      "2023-08-21 16:07:36.038548: I tensorflow/core/common_runtime/executor.cc:1197] [/device:CPU:0] (DEBUG INFO) Executor start aborting (this does not indicate an error and you can ignore this message): INVALID_ARGUMENT: You must feed a value for placeholder tensor 'inputs' with dtype float and shape [?,40]\n",
      "\t [[{{node inputs}}]]\n",
      "2023-08-21 16:07:36.054082: I tensorflow/core/common_runtime/executor.cc:1197] [/device:CPU:0] (DEBUG INFO) Executor start aborting (this does not indicate an error and you can ignore this message): INVALID_ARGUMENT: You must feed a value for placeholder tensor 'inputs' with dtype float and shape [?,24]\n",
      "\t [[{{node inputs}}]]\n",
      "2023-08-21 16:07:36.065163: I tensorflow/core/common_runtime/executor.cc:1197] [/device:CPU:0] (DEBUG INFO) Executor start aborting (this does not indicate an error and you can ignore this message): INVALID_ARGUMENT: You must feed a value for placeholder tensor 'inputs' with dtype float and shape [?,150,150,24]\n",
      "\t [[{{node inputs}}]]\n",
      "2023-08-21 16:07:36.080237: I tensorflow/core/common_runtime/executor.cc:1197] [/device:CPU:0] (DEBUG INFO) Executor start aborting (this does not indicate an error and you can ignore this message): INVALID_ARGUMENT: You must feed a value for placeholder tensor 'inputs' with dtype float and shape [?,144]\n",
      "\t [[{{node inputs}}]]\n",
      "2023-08-21 16:07:36.100244: I tensorflow/core/common_runtime/executor.cc:1197] [/device:CPU:0] (DEBUG INFO) Executor start aborting (this does not indicate an error and you can ignore this message): INVALID_ARGUMENT: You must feed a value for placeholder tensor 'inputs' with dtype float and shape [?,192]\n",
      "\t [[{{node inputs}}]]\n",
      "2023-08-21 16:07:36.111334: I tensorflow/core/common_runtime/executor.cc:1197] [/device:CPU:0] (DEBUG INFO) Executor start aborting (this does not indicate an error and you can ignore this message): INVALID_ARGUMENT: You must feed a value for placeholder tensor 'inputs' with dtype float and shape [?,75,75,32]\n",
      "\t [[{{node inputs}}]]\n",
      "2023-08-21 16:07:36.126076: I tensorflow/core/common_runtime/executor.cc:1197] [/device:CPU:0] (DEBUG INFO) Executor start aborting (this does not indicate an error and you can ignore this message): INVALID_ARGUMENT: You must feed a value for placeholder tensor 'inputs' with dtype float and shape [?,192]\n",
      "\t [[{{node inputs}}]]\n",
      "2023-08-21 16:07:36.137174: I tensorflow/core/common_runtime/executor.cc:1197] [/device:CPU:0] (DEBUG INFO) Executor start aborting (this does not indicate an error and you can ignore this message): INVALID_ARGUMENT: You must feed a value for placeholder tensor 'inputs' with dtype float and shape [?,75,75,32]\n",
      "\t [[{{node inputs}}]]\n",
      "2023-08-21 16:07:36.151695: I tensorflow/core/common_runtime/executor.cc:1197] [/device:CPU:0] (DEBUG INFO) Executor start aborting (this does not indicate an error and you can ignore this message): INVALID_ARGUMENT: You must feed a value for placeholder tensor 'inputs' with dtype float and shape [?,192]\n",
      "\t [[{{node inputs}}]]\n",
      "2023-08-21 16:07:36.171703: I tensorflow/core/common_runtime/executor.cc:1197] [/device:CPU:0] (DEBUG INFO) Executor start aborting (this does not indicate an error and you can ignore this message): INVALID_ARGUMENT: You must feed a value for placeholder tensor 'inputs' with dtype float and shape [?,288]\n",
      "\t [[{{node inputs}}]]\n",
      "2023-08-21 16:07:36.182686: I tensorflow/core/common_runtime/executor.cc:1197] [/device:CPU:0] (DEBUG INFO) Executor start aborting (this does not indicate an error and you can ignore this message): INVALID_ARGUMENT: You must feed a value for placeholder tensor 'inputs' with dtype float and shape [?,38,38,48]\n",
      "\t [[{{node inputs}}]]\n",
      "2023-08-21 16:07:36.197121: I tensorflow/core/common_runtime/executor.cc:1197] [/device:CPU:0] (DEBUG INFO) Executor start aborting (this does not indicate an error and you can ignore this message): INVALID_ARGUMENT: You must feed a value for placeholder tensor 'inputs' with dtype float and shape [?,288]\n",
      "\t [[{{node inputs}}]]\n",
      "2023-08-21 16:07:36.208249: I tensorflow/core/common_runtime/executor.cc:1197] [/device:CPU:0] (DEBUG INFO) Executor start aborting (this does not indicate an error and you can ignore this message): INVALID_ARGUMENT: You must feed a value for placeholder tensor 'inputs' with dtype float and shape [?,38,38,48]\n",
      "\t [[{{node inputs}}]]\n",
      "2023-08-21 16:07:36.223221: I tensorflow/core/common_runtime/executor.cc:1197] [/device:CPU:0] (DEBUG INFO) Executor start aborting (this does not indicate an error and you can ignore this message): INVALID_ARGUMENT: You must feed a value for placeholder tensor 'inputs' with dtype float and shape [?,288]\n",
      "\t [[{{node inputs}}]]\n",
      "2023-08-21 16:07:36.243357: I tensorflow/core/common_runtime/executor.cc:1197] [/device:CPU:0] (DEBUG INFO) Executor start aborting (this does not indicate an error and you can ignore this message): INVALID_ARGUMENT: You must feed a value for placeholder tensor 'inputs' with dtype float and shape [?,576]\n",
      "\t [[{{node inputs}}]]\n",
      "2023-08-21 16:07:36.255302: I tensorflow/core/common_runtime/executor.cc:1197] [/device:CPU:0] (DEBUG INFO) Executor start aborting (this does not indicate an error and you can ignore this message): INVALID_ARGUMENT: You must feed a value for placeholder tensor 'inputs' with dtype float and shape [?,19,19,96]\n",
      "\t [[{{node inputs}}]]\n",
      "2023-08-21 16:07:36.270304: I tensorflow/core/common_runtime/executor.cc:1197] [/device:CPU:0] (DEBUG INFO) Executor start aborting (this does not indicate an error and you can ignore this message): INVALID_ARGUMENT: You must feed a value for placeholder tensor 'inputs' with dtype float and shape [?,576]\n",
      "\t [[{{node inputs}}]]\n",
      "2023-08-21 16:07:36.282036: I tensorflow/core/common_runtime/executor.cc:1197] [/device:CPU:0] (DEBUG INFO) Executor start aborting (this does not indicate an error and you can ignore this message): INVALID_ARGUMENT: You must feed a value for placeholder tensor 'inputs' with dtype float and shape [?,19,19,96]\n",
      "\t [[{{node inputs}}]]\n",
      "2023-08-21 16:07:36.296580: I tensorflow/core/common_runtime/executor.cc:1197] [/device:CPU:0] (DEBUG INFO) Executor start aborting (this does not indicate an error and you can ignore this message): INVALID_ARGUMENT: You must feed a value for placeholder tensor 'inputs' with dtype float and shape [?,576]\n",
      "\t [[{{node inputs}}]]\n",
      "2023-08-21 16:07:36.307921: I tensorflow/core/common_runtime/executor.cc:1197] [/device:CPU:0] (DEBUG INFO) Executor start aborting (this does not indicate an error and you can ignore this message): INVALID_ARGUMENT: You must feed a value for placeholder tensor 'inputs' with dtype float and shape [?,19,19,96]\n",
      "\t [[{{node inputs}}]]\n",
      "2023-08-21 16:07:36.322440: I tensorflow/core/common_runtime/executor.cc:1197] [/device:CPU:0] (DEBUG INFO) Executor start aborting (this does not indicate an error and you can ignore this message): INVALID_ARGUMENT: You must feed a value for placeholder tensor 'inputs' with dtype float and shape [?,576]\n",
      "\t [[{{node inputs}}]]\n",
      "2023-08-21 16:07:36.333743: I tensorflow/core/common_runtime/executor.cc:1197] [/device:CPU:0] (DEBUG INFO) Executor start aborting (this does not indicate an error and you can ignore this message): INVALID_ARGUMENT: You must feed a value for placeholder tensor 'inputs' with dtype float and shape [?,19,19,96]\n",
      "\t [[{{node inputs}}]]\n",
      "2023-08-21 16:07:36.348321: I tensorflow/core/common_runtime/executor.cc:1197] [/device:CPU:0] (DEBUG INFO) Executor start aborting (this does not indicate an error and you can ignore this message): INVALID_ARGUMENT: You must feed a value for placeholder tensor 'inputs' with dtype float and shape [?,576]\n",
      "\t [[{{node inputs}}]]\n",
      "2023-08-21 16:07:36.368293: I tensorflow/core/common_runtime/executor.cc:1197] [/device:CPU:0] (DEBUG INFO) Executor start aborting (this does not indicate an error and you can ignore this message): INVALID_ARGUMENT: You must feed a value for placeholder tensor 'inputs' with dtype float and shape [?,816]\n",
      "\t [[{{node inputs}}]]\n",
      "2023-08-21 16:07:36.379758: I tensorflow/core/common_runtime/executor.cc:1197] [/device:CPU:0] (DEBUG INFO) Executor start aborting (this does not indicate an error and you can ignore this message): INVALID_ARGUMENT: You must feed a value for placeholder tensor 'inputs' with dtype float and shape [?,19,19,136]\n",
      "\t [[{{node inputs}}]]\n",
      "2023-08-21 16:07:36.394702: I tensorflow/core/common_runtime/executor.cc:1197] [/device:CPU:0] (DEBUG INFO) Executor start aborting (this does not indicate an error and you can ignore this message): INVALID_ARGUMENT: You must feed a value for placeholder tensor 'inputs' with dtype float and shape [?,816]\n",
      "\t [[{{node inputs}}]]\n",
      "2023-08-21 16:07:36.405836: I tensorflow/core/common_runtime/executor.cc:1197] [/device:CPU:0] (DEBUG INFO) Executor start aborting (this does not indicate an error and you can ignore this message): INVALID_ARGUMENT: You must feed a value for placeholder tensor 'inputs' with dtype float and shape [?,19,19,136]\n",
      "\t [[{{node inputs}}]]\n",
      "2023-08-21 16:07:36.420229: I tensorflow/core/common_runtime/executor.cc:1197] [/device:CPU:0] (DEBUG INFO) Executor start aborting (this does not indicate an error and you can ignore this message): INVALID_ARGUMENT: You must feed a value for placeholder tensor 'inputs' with dtype float and shape [?,816]\n",
      "\t [[{{node inputs}}]]\n",
      "2023-08-21 16:07:36.431446: I tensorflow/core/common_runtime/executor.cc:1197] [/device:CPU:0] (DEBUG INFO) Executor start aborting (this does not indicate an error and you can ignore this message): INVALID_ARGUMENT: You must feed a value for placeholder tensor 'inputs' with dtype float and shape [?,19,19,136]\n",
      "\t [[{{node inputs}}]]\n",
      "2023-08-21 16:07:36.446617: I tensorflow/core/common_runtime/executor.cc:1197] [/device:CPU:0] (DEBUG INFO) Executor start aborting (this does not indicate an error and you can ignore this message): INVALID_ARGUMENT: You must feed a value for placeholder tensor 'inputs' with dtype float and shape [?,816]\n",
      "\t [[{{node inputs}}]]\n",
      "2023-08-21 16:07:36.458319: I tensorflow/core/common_runtime/executor.cc:1197] [/device:CPU:0] (DEBUG INFO) Executor start aborting (this does not indicate an error and you can ignore this message): INVALID_ARGUMENT: You must feed a value for placeholder tensor 'inputs' with dtype float and shape [?,19,19,136]\n",
      "\t [[{{node inputs}}]]\n",
      "2023-08-21 16:07:36.473270: I tensorflow/core/common_runtime/executor.cc:1197] [/device:CPU:0] (DEBUG INFO) Executor start aborting (this does not indicate an error and you can ignore this message): INVALID_ARGUMENT: You must feed a value for placeholder tensor 'inputs' with dtype float and shape [?,816]\n",
      "\t [[{{node inputs}}]]\n",
      "2023-08-21 16:07:36.493474: I tensorflow/core/common_runtime/executor.cc:1197] [/device:CPU:0] (DEBUG INFO) Executor start aborting (this does not indicate an error and you can ignore this message): INVALID_ARGUMENT: You must feed a value for placeholder tensor 'inputs' with dtype float and shape [?,1392]\n",
      "\t [[{{node inputs}}]]\n",
      "2023-08-21 16:07:36.504657: I tensorflow/core/common_runtime/executor.cc:1197] [/device:CPU:0] (DEBUG INFO) Executor start aborting (this does not indicate an error and you can ignore this message): INVALID_ARGUMENT: You must feed a value for placeholder tensor 'inputs' with dtype float and shape [?,10,10,232]\n",
      "\t [[{{node inputs}}]]\n",
      "2023-08-21 16:07:36.518977: I tensorflow/core/common_runtime/executor.cc:1197] [/device:CPU:0] (DEBUG INFO) Executor start aborting (this does not indicate an error and you can ignore this message): INVALID_ARGUMENT: You must feed a value for placeholder tensor 'inputs' with dtype float and shape [?,1392]\n",
      "\t [[{{node inputs}}]]\n",
      "2023-08-21 16:07:36.530122: I tensorflow/core/common_runtime/executor.cc:1197] [/device:CPU:0] (DEBUG INFO) Executor start aborting (this does not indicate an error and you can ignore this message): INVALID_ARGUMENT: You must feed a value for placeholder tensor 'inputs' with dtype float and shape [?,10,10,232]\n",
      "\t [[{{node inputs}}]]\n",
      "2023-08-21 16:07:36.544857: I tensorflow/core/common_runtime/executor.cc:1197] [/device:CPU:0] (DEBUG INFO) Executor start aborting (this does not indicate an error and you can ignore this message): INVALID_ARGUMENT: You must feed a value for placeholder tensor 'inputs' with dtype float and shape [?,1392]\n",
      "\t [[{{node inputs}}]]\n",
      "2023-08-21 16:07:36.556034: I tensorflow/core/common_runtime/executor.cc:1197] [/device:CPU:0] (DEBUG INFO) Executor start aborting (this does not indicate an error and you can ignore this message): INVALID_ARGUMENT: You must feed a value for placeholder tensor 'inputs' with dtype float and shape [?,10,10,232]\n",
      "\t [[{{node inputs}}]]\n",
      "2023-08-21 16:07:36.570406: I tensorflow/core/common_runtime/executor.cc:1197] [/device:CPU:0] (DEBUG INFO) Executor start aborting (this does not indicate an error and you can ignore this message): INVALID_ARGUMENT: You must feed a value for placeholder tensor 'inputs' with dtype float and shape [?,1392]\n",
      "\t [[{{node inputs}}]]\n",
      "2023-08-21 16:07:36.581503: I tensorflow/core/common_runtime/executor.cc:1197] [/device:CPU:0] (DEBUG INFO) Executor start aborting (this does not indicate an error and you can ignore this message): INVALID_ARGUMENT: You must feed a value for placeholder tensor 'inputs' with dtype float and shape [?,10,10,232]\n",
      "\t [[{{node inputs}}]]\n",
      "2023-08-21 16:07:36.596210: I tensorflow/core/common_runtime/executor.cc:1197] [/device:CPU:0] (DEBUG INFO) Executor start aborting (this does not indicate an error and you can ignore this message): INVALID_ARGUMENT: You must feed a value for placeholder tensor 'inputs' with dtype float and shape [?,1392]\n",
      "\t [[{{node inputs}}]]\n",
      "2023-08-21 16:07:36.607357: I tensorflow/core/common_runtime/executor.cc:1197] [/device:CPU:0] (DEBUG INFO) Executor start aborting (this does not indicate an error and you can ignore this message): INVALID_ARGUMENT: You must feed a value for placeholder tensor 'inputs' with dtype float and shape [?,10,10,232]\n",
      "\t [[{{node inputs}}]]\n",
      "2023-08-21 16:07:36.621835: I tensorflow/core/common_runtime/executor.cc:1197] [/device:CPU:0] (DEBUG INFO) Executor start aborting (this does not indicate an error and you can ignore this message): INVALID_ARGUMENT: You must feed a value for placeholder tensor 'inputs' with dtype float and shape [?,1392]\n",
      "\t [[{{node inputs}}]]\n",
      "2023-08-21 16:07:36.641712: I tensorflow/core/common_runtime/executor.cc:1197] [/device:CPU:0] (DEBUG INFO) Executor start aborting (this does not indicate an error and you can ignore this message): INVALID_ARGUMENT: You must feed a value for placeholder tensor 'inputs' with dtype float and shape [?,2304]\n",
      "\t [[{{node inputs}}]]\n",
      "2023-08-21 16:07:36.653830: I tensorflow/core/common_runtime/executor.cc:1197] [/device:CPU:0] (DEBUG INFO) Executor start aborting (this does not indicate an error and you can ignore this message): INVALID_ARGUMENT: You must feed a value for placeholder tensor 'inputs' with dtype float and shape [?,10,10,384]\n",
      "\t [[{{node inputs}}]]\n",
      "2023-08-21 16:07:36.665245: I tensorflow/core/common_runtime/executor.cc:1197] [/device:CPU:0] (DEBUG INFO) Executor start aborting (this does not indicate an error and you can ignore this message): INVALID_ARGUMENT: You must feed a value for placeholder tensor 'inputs' with dtype float and shape [?,1536]\n",
      "\t [[{{node inputs}}]]\n",
      "2023-08-21 16:07:38.967404: I tensorflow/core/common_runtime/executor.cc:1197] [/device:CPU:0] (DEBUG INFO) Executor start aborting (this does not indicate an error and you can ignore this message): INVALID_ARGUMENT: You must feed a value for placeholder tensor 'inputs' with dtype float and shape [?,40]\n",
      "\t [[{{node inputs}}]]\n",
      "2023-08-21 16:07:39.029116: I tensorflow/core/common_runtime/executor.cc:1197] [/device:CPU:0] (DEBUG INFO) Executor start aborting (this does not indicate an error and you can ignore this message): INVALID_ARGUMENT: You must feed a value for placeholder tensor 'inputs' with dtype float and shape [?,24]\n",
      "\t [[{{node inputs}}]]\n",
      "2023-08-21 16:07:39.066826: I tensorflow/core/common_runtime/executor.cc:1197] [/device:CPU:0] (DEBUG INFO) Executor start aborting (this does not indicate an error and you can ignore this message): INVALID_ARGUMENT: You must feed a value for placeholder tensor 'inputs' with dtype float and shape [?,150,150,24]\n",
      "\t [[{{node inputs}}]]\n",
      "2023-08-21 16:07:39.129949: I tensorflow/core/common_runtime/executor.cc:1197] [/device:CPU:0] (DEBUG INFO) Executor start aborting (this does not indicate an error and you can ignore this message): INVALID_ARGUMENT: You must feed a value for placeholder tensor 'inputs' with dtype float and shape [?,144]\n",
      "\t [[{{node inputs}}]]\n",
      "2023-08-21 16:07:39.398120: I tensorflow/core/common_runtime/executor.cc:1197] [/device:CPU:0] (DEBUG INFO) Executor start aborting (this does not indicate an error and you can ignore this message): INVALID_ARGUMENT: You must feed a value for placeholder tensor 'inputs' with dtype float and shape [?,192]\n",
      "\t [[{{node inputs}}]]\n",
      "2023-08-21 16:07:39.435477: I tensorflow/core/common_runtime/executor.cc:1197] [/device:CPU:0] (DEBUG INFO) Executor start aborting (this does not indicate an error and you can ignore this message): INVALID_ARGUMENT: You must feed a value for placeholder tensor 'inputs' with dtype float and shape [?,75,75,32]\n",
      "\t [[{{node inputs}}]]\n",
      "2023-08-21 16:07:39.494670: I tensorflow/core/common_runtime/executor.cc:1197] [/device:CPU:0] (DEBUG INFO) Executor start aborting (this does not indicate an error and you can ignore this message): INVALID_ARGUMENT: You must feed a value for placeholder tensor 'inputs' with dtype float and shape [?,192]\n",
      "\t [[{{node inputs}}]]\n",
      "2023-08-21 16:07:39.531402: I tensorflow/core/common_runtime/executor.cc:1197] [/device:CPU:0] (DEBUG INFO) Executor start aborting (this does not indicate an error and you can ignore this message): INVALID_ARGUMENT: You must feed a value for placeholder tensor 'inputs' with dtype float and shape [?,75,75,32]\n",
      "\t [[{{node inputs}}]]\n",
      "2023-08-21 16:07:39.594000: I tensorflow/core/common_runtime/executor.cc:1197] [/device:CPU:0] (DEBUG INFO) Executor start aborting (this does not indicate an error and you can ignore this message): INVALID_ARGUMENT: You must feed a value for placeholder tensor 'inputs' with dtype float and shape [?,192]\n",
      "\t [[{{node inputs}}]]\n",
      "2023-08-21 16:07:39.677359: I tensorflow/core/common_runtime/executor.cc:1197] [/device:CPU:0] (DEBUG INFO) Executor start aborting (this does not indicate an error and you can ignore this message): INVALID_ARGUMENT: You must feed a value for placeholder tensor 'inputs' with dtype float and shape [?,288]\n",
      "\t [[{{node inputs}}]]\n",
      "2023-08-21 16:07:39.714199: I tensorflow/core/common_runtime/executor.cc:1197] [/device:CPU:0] (DEBUG INFO) Executor start aborting (this does not indicate an error and you can ignore this message): INVALID_ARGUMENT: You must feed a value for placeholder tensor 'inputs' with dtype float and shape [?,38,38,48]\n",
      "\t [[{{node inputs}}]]\n",
      "2023-08-21 16:07:39.773445: I tensorflow/core/common_runtime/executor.cc:1197] [/device:CPU:0] (DEBUG INFO) Executor start aborting (this does not indicate an error and you can ignore this message): INVALID_ARGUMENT: You must feed a value for placeholder tensor 'inputs' with dtype float and shape [?,288]\n",
      "\t [[{{node inputs}}]]\n",
      "2023-08-21 16:07:39.809909: I tensorflow/core/common_runtime/executor.cc:1197] [/device:CPU:0] (DEBUG INFO) Executor start aborting (this does not indicate an error and you can ignore this message): INVALID_ARGUMENT: You must feed a value for placeholder tensor 'inputs' with dtype float and shape [?,38,38,48]\n",
      "\t [[{{node inputs}}]]\n",
      "2023-08-21 16:07:39.872465: I tensorflow/core/common_runtime/executor.cc:1197] [/device:CPU:0] (DEBUG INFO) Executor start aborting (this does not indicate an error and you can ignore this message): INVALID_ARGUMENT: You must feed a value for placeholder tensor 'inputs' with dtype float and shape [?,288]\n",
      "\t [[{{node inputs}}]]\n",
      "2023-08-21 16:07:39.955990: I tensorflow/core/common_runtime/executor.cc:1197] [/device:CPU:0] (DEBUG INFO) Executor start aborting (this does not indicate an error and you can ignore this message): INVALID_ARGUMENT: You must feed a value for placeholder tensor 'inputs' with dtype float and shape [?,576]\n",
      "\t [[{{node inputs}}]]\n",
      "2023-08-21 16:07:39.993355: I tensorflow/core/common_runtime/executor.cc:1197] [/device:CPU:0] (DEBUG INFO) Executor start aborting (this does not indicate an error and you can ignore this message): INVALID_ARGUMENT: You must feed a value for placeholder tensor 'inputs' with dtype float and shape [?,19,19,96]\n",
      "\t [[{{node inputs}}]]\n",
      "2023-08-21 16:07:40.052856: I tensorflow/core/common_runtime/executor.cc:1197] [/device:CPU:0] (DEBUG INFO) Executor start aborting (this does not indicate an error and you can ignore this message): INVALID_ARGUMENT: You must feed a value for placeholder tensor 'inputs' with dtype float and shape [?,576]\n",
      "\t [[{{node inputs}}]]\n",
      "2023-08-21 16:07:40.090699: I tensorflow/core/common_runtime/executor.cc:1197] [/device:CPU:0] (DEBUG INFO) Executor start aborting (this does not indicate an error and you can ignore this message): INVALID_ARGUMENT: You must feed a value for placeholder tensor 'inputs' with dtype float and shape [?,19,19,96]\n",
      "\t [[{{node inputs}}]]\n",
      "2023-08-21 16:07:40.150171: I tensorflow/core/common_runtime/executor.cc:1197] [/device:CPU:0] (DEBUG INFO) Executor start aborting (this does not indicate an error and you can ignore this message): INVALID_ARGUMENT: You must feed a value for placeholder tensor 'inputs' with dtype float and shape [?,576]\n",
      "\t [[{{node inputs}}]]\n",
      "2023-08-21 16:07:40.188744: I tensorflow/core/common_runtime/executor.cc:1197] [/device:CPU:0] (DEBUG INFO) Executor start aborting (this does not indicate an error and you can ignore this message): INVALID_ARGUMENT: You must feed a value for placeholder tensor 'inputs' with dtype float and shape [?,19,19,96]\n",
      "\t [[{{node inputs}}]]\n",
      "2023-08-21 16:07:40.248021: I tensorflow/core/common_runtime/executor.cc:1197] [/device:CPU:0] (DEBUG INFO) Executor start aborting (this does not indicate an error and you can ignore this message): INVALID_ARGUMENT: You must feed a value for placeholder tensor 'inputs' with dtype float and shape [?,576]\n",
      "\t [[{{node inputs}}]]\n",
      "2023-08-21 16:07:40.285452: I tensorflow/core/common_runtime/executor.cc:1197] [/device:CPU:0] (DEBUG INFO) Executor start aborting (this does not indicate an error and you can ignore this message): INVALID_ARGUMENT: You must feed a value for placeholder tensor 'inputs' with dtype float and shape [?,19,19,96]\n",
      "\t [[{{node inputs}}]]\n",
      "2023-08-21 16:07:40.344278: I tensorflow/core/common_runtime/executor.cc:1197] [/device:CPU:0] (DEBUG INFO) Executor start aborting (this does not indicate an error and you can ignore this message): INVALID_ARGUMENT: You must feed a value for placeholder tensor 'inputs' with dtype float and shape [?,576]\n",
      "\t [[{{node inputs}}]]\n",
      "2023-08-21 16:07:40.428699: I tensorflow/core/common_runtime/executor.cc:1197] [/device:CPU:0] (DEBUG INFO) Executor start aborting (this does not indicate an error and you can ignore this message): INVALID_ARGUMENT: You must feed a value for placeholder tensor 'inputs' with dtype float and shape [?,816]\n",
      "\t [[{{node inputs}}]]\n",
      "2023-08-21 16:07:40.466767: I tensorflow/core/common_runtime/executor.cc:1197] [/device:CPU:0] (DEBUG INFO) Executor start aborting (this does not indicate an error and you can ignore this message): INVALID_ARGUMENT: You must feed a value for placeholder tensor 'inputs' with dtype float and shape [?,19,19,136]\n",
      "\t [[{{node inputs}}]]\n",
      "2023-08-21 16:07:40.525984: I tensorflow/core/common_runtime/executor.cc:1197] [/device:CPU:0] (DEBUG INFO) Executor start aborting (this does not indicate an error and you can ignore this message): INVALID_ARGUMENT: You must feed a value for placeholder tensor 'inputs' with dtype float and shape [?,816]\n",
      "\t [[{{node inputs}}]]\n",
      "2023-08-21 16:07:40.562589: I tensorflow/core/common_runtime/executor.cc:1197] [/device:CPU:0] (DEBUG INFO) Executor start aborting (this does not indicate an error and you can ignore this message): INVALID_ARGUMENT: You must feed a value for placeholder tensor 'inputs' with dtype float and shape [?,19,19,136]\n",
      "\t [[{{node inputs}}]]\n",
      "2023-08-21 16:07:40.622438: I tensorflow/core/common_runtime/executor.cc:1197] [/device:CPU:0] (DEBUG INFO) Executor start aborting (this does not indicate an error and you can ignore this message): INVALID_ARGUMENT: You must feed a value for placeholder tensor 'inputs' with dtype float and shape [?,816]\n",
      "\t [[{{node inputs}}]]\n",
      "2023-08-21 16:07:40.660552: I tensorflow/core/common_runtime/executor.cc:1197] [/device:CPU:0] (DEBUG INFO) Executor start aborting (this does not indicate an error and you can ignore this message): INVALID_ARGUMENT: You must feed a value for placeholder tensor 'inputs' with dtype float and shape [?,19,19,136]\n",
      "\t [[{{node inputs}}]]\n",
      "2023-08-21 16:07:40.720989: I tensorflow/core/common_runtime/executor.cc:1197] [/device:CPU:0] (DEBUG INFO) Executor start aborting (this does not indicate an error and you can ignore this message): INVALID_ARGUMENT: You must feed a value for placeholder tensor 'inputs' with dtype float and shape [?,816]\n",
      "\t [[{{node inputs}}]]\n",
      "2023-08-21 16:07:40.758371: I tensorflow/core/common_runtime/executor.cc:1197] [/device:CPU:0] (DEBUG INFO) Executor start aborting (this does not indicate an error and you can ignore this message): INVALID_ARGUMENT: You must feed a value for placeholder tensor 'inputs' with dtype float and shape [?,19,19,136]\n",
      "\t [[{{node inputs}}]]\n",
      "2023-08-21 16:07:40.822229: I tensorflow/core/common_runtime/executor.cc:1197] [/device:CPU:0] (DEBUG INFO) Executor start aborting (this does not indicate an error and you can ignore this message): INVALID_ARGUMENT: You must feed a value for placeholder tensor 'inputs' with dtype float and shape [?,816]\n",
      "\t [[{{node inputs}}]]\n",
      "2023-08-21 16:07:40.906919: I tensorflow/core/common_runtime/executor.cc:1197] [/device:CPU:0] (DEBUG INFO) Executor start aborting (this does not indicate an error and you can ignore this message): INVALID_ARGUMENT: You must feed a value for placeholder tensor 'inputs' with dtype float and shape [?,1392]\n",
      "\t [[{{node inputs}}]]\n",
      "2023-08-21 16:07:40.943634: I tensorflow/core/common_runtime/executor.cc:1197] [/device:CPU:0] (DEBUG INFO) Executor start aborting (this does not indicate an error and you can ignore this message): INVALID_ARGUMENT: You must feed a value for placeholder tensor 'inputs' with dtype float and shape [?,10,10,232]\n",
      "\t [[{{node inputs}}]]\n",
      "2023-08-21 16:07:41.002821: I tensorflow/core/common_runtime/executor.cc:1197] [/device:CPU:0] (DEBUG INFO) Executor start aborting (this does not indicate an error and you can ignore this message): INVALID_ARGUMENT: You must feed a value for placeholder tensor 'inputs' with dtype float and shape [?,1392]\n",
      "\t [[{{node inputs}}]]\n",
      "2023-08-21 16:07:41.039825: I tensorflow/core/common_runtime/executor.cc:1197] [/device:CPU:0] (DEBUG INFO) Executor start aborting (this does not indicate an error and you can ignore this message): INVALID_ARGUMENT: You must feed a value for placeholder tensor 'inputs' with dtype float and shape [?,10,10,232]\n",
      "\t [[{{node inputs}}]]\n",
      "2023-08-21 16:07:41.099199: I tensorflow/core/common_runtime/executor.cc:1197] [/device:CPU:0] (DEBUG INFO) Executor start aborting (this does not indicate an error and you can ignore this message): INVALID_ARGUMENT: You must feed a value for placeholder tensor 'inputs' with dtype float and shape [?,1392]\n",
      "\t [[{{node inputs}}]]\n",
      "2023-08-21 16:07:41.137852: I tensorflow/core/common_runtime/executor.cc:1197] [/device:CPU:0] (DEBUG INFO) Executor start aborting (this does not indicate an error and you can ignore this message): INVALID_ARGUMENT: You must feed a value for placeholder tensor 'inputs' with dtype float and shape [?,10,10,232]\n",
      "\t [[{{node inputs}}]]\n",
      "2023-08-21 16:07:41.196855: I tensorflow/core/common_runtime/executor.cc:1197] [/device:CPU:0] (DEBUG INFO) Executor start aborting (this does not indicate an error and you can ignore this message): INVALID_ARGUMENT: You must feed a value for placeholder tensor 'inputs' with dtype float and shape [?,1392]\n",
      "\t [[{{node inputs}}]]\n",
      "2023-08-21 16:07:41.233661: I tensorflow/core/common_runtime/executor.cc:1197] [/device:CPU:0] (DEBUG INFO) Executor start aborting (this does not indicate an error and you can ignore this message): INVALID_ARGUMENT: You must feed a value for placeholder tensor 'inputs' with dtype float and shape [?,10,10,232]\n",
      "\t [[{{node inputs}}]]\n",
      "2023-08-21 16:07:41.292581: I tensorflow/core/common_runtime/executor.cc:1197] [/device:CPU:0] (DEBUG INFO) Executor start aborting (this does not indicate an error and you can ignore this message): INVALID_ARGUMENT: You must feed a value for placeholder tensor 'inputs' with dtype float and shape [?,1392]\n",
      "\t [[{{node inputs}}]]\n",
      "2023-08-21 16:07:41.329742: I tensorflow/core/common_runtime/executor.cc:1197] [/device:CPU:0] (DEBUG INFO) Executor start aborting (this does not indicate an error and you can ignore this message): INVALID_ARGUMENT: You must feed a value for placeholder tensor 'inputs' with dtype float and shape [?,10,10,232]\n",
      "\t [[{{node inputs}}]]\n",
      "2023-08-21 16:07:41.390680: I tensorflow/core/common_runtime/executor.cc:1197] [/device:CPU:0] (DEBUG INFO) Executor start aborting (this does not indicate an error and you can ignore this message): INVALID_ARGUMENT: You must feed a value for placeholder tensor 'inputs' with dtype float and shape [?,1392]\n",
      "\t [[{{node inputs}}]]\n",
      "2023-08-21 16:07:41.473253: I tensorflow/core/common_runtime/executor.cc:1197] [/device:CPU:0] (DEBUG INFO) Executor start aborting (this does not indicate an error and you can ignore this message): INVALID_ARGUMENT: You must feed a value for placeholder tensor 'inputs' with dtype float and shape [?,2304]\n",
      "\t [[{{node inputs}}]]\n",
      "2023-08-21 16:07:41.509992: I tensorflow/core/common_runtime/executor.cc:1197] [/device:CPU:0] (DEBUG INFO) Executor start aborting (this does not indicate an error and you can ignore this message): INVALID_ARGUMENT: You must feed a value for placeholder tensor 'inputs' with dtype float and shape [?,10,10,384]\n",
      "\t [[{{node inputs}}]]\n",
      "2023-08-21 16:07:41.565788: I tensorflow/core/common_runtime/executor.cc:1197] [/device:CPU:0] (DEBUG INFO) Executor start aborting (this does not indicate an error and you can ignore this message): INVALID_ARGUMENT: You must feed a value for placeholder tensor 'inputs' with dtype float and shape [?,1536]\n",
      "\t [[{{node inputs}}]]\n",
      "WARNING:absl:Found untraced functions such as _jit_compiled_convolution_op, _jit_compiled_convolution_op, _jit_compiled_convolution_op, _jit_compiled_convolution_op, _jit_compiled_convolution_op while saving (showing 5 of 130). These functions will not be directly callable after loading.\n"
     ]
    },
    {
     "name": "stdout",
     "output_type": "stream",
     "text": [
      "INFO:tensorflow:Assets written to: model_weights/effnet_b3_tl/assets\n"
     ]
    },
    {
     "name": "stderr",
     "output_type": "stream",
     "text": [
      "INFO:tensorflow:Assets written to: model_weights/effnet_b3_tl/assets\n"
     ]
    }
   ],
   "source": [
    "tf.saved_model.save(eff_b3_tl, 'model_weights/effnet_b3_tl')"
   ]
  },
  {
   "cell_type": "code",
   "execution_count": 24,
   "metadata": {},
   "outputs": [
    {
     "data": {
      "image/png": "[encoded data removed]",
      "text/plain": [
       "<Figure size 640x480 with 1 Axes>"
      ]
     },
     "metadata": {},
     "output_type": "display_data"
    }
   ],
   "source": [
    "plot_model(model_saved, 20,'performance_plots/effb3_tl.png')"
   ]
  },
  {
   "cell_type": "markdown",
   "metadata": {
    "jp-MarkdownHeadingCollapsed": true
   },
   "source": [
    "#### B4"
   ]
  },
  {
   "cell_type": "code",
   "execution_count": 19,
   "metadata": {},
   "outputs": [
    {
     "name": "stdout",
     "output_type": "stream",
     "text": [
      "Shape of a sample image in training_ds_resized: (32, 380, 380, 3)\n"
     ]
    },
    {
     "name": "stderr",
     "output_type": "stream",
     "text": [
      "2023-08-21 21:37:52.445021: W tensorflow/core/kernels/data/cache_dataset_ops.cc:854] The calling iterator did not fully read the dataset being cached. In order to avoid unexpected truncation of the dataset, the partially cached contents of the dataset  will be discarded. This can happen if you have an input pipeline similar to `dataset.cache().take(k).repeat()`. You should use `dataset.take(k).cache().repeat()` instead.\n"
     ]
    }
   ],
   "source": [
    "from tensorflow.keras.applications.efficientnet import preprocess_input \n",
    "target_size =  (380,380) \n",
    "training_ds_resized = training_ds.map(preprocess_image) \n",
    "testing_ds_resized = testing_ds.map(preprocess_image) \n",
    "sample_image, _ = next(iter(testing_ds_resized.take(1)))\n",
    "sample_image_shape = sample_image.shape\n",
    "\n",
    "print(\"Shape of a sample image in training_ds_resized:\", sample_image_shape)"
   ]
  },
  {
   "cell_type": "code",
   "execution_count": null,
   "metadata": {},
   "outputs": [
    {
     "name": "stderr",
     "output_type": "stream",
     "text": [
      "WARNING:absl:At this time, the v2.11+ optimizer `tf.keras.optimizers.Adam` runs slowly on M1/M2 Macs, please use the legacy Keras optimizer instead, located at `tf.keras.optimizers.legacy.Adam`.\n",
      "WARNING:absl:There is a known slowdown when using v2.11+ Keras optimizers on M1/M2 Macs. Falling back to the legacy Keras optimizer, i.e., `tf.keras.optimizers.legacy.Adam`.\n"
     ]
    },
    {
     "name": "stdout",
     "output_type": "stream",
     "text": [
      "Epoch 1/20\n"
     ]
    },
    {
     "name": "stderr",
     "output_type": "stream",
     "text": [
      "2023-08-21 21:38:37.794916: I tensorflow/core/grappler/optimizers/custom_graph_optimizer_registry.cc:114] Plugin optimizer for device_type GPU is enabled.\n"
     ]
    },
    {
     "name": "stdout",
     "output_type": "stream",
     "text": [
      "2753/2753 [==============================] - ETA: 0s - loss: 1.1320 - accuracy: 0.6887"
     ]
    },
    {
     "name": "stderr",
     "output_type": "stream",
     "text": [
      "2023-08-21 21:54:31.533718: I tensorflow/core/grappler/optimizers/custom_graph_optimizer_registry.cc:114] Plugin optimizer for device_type GPU is enabled.\n"
     ]
    },
    {
     "name": "stdout",
     "output_type": "stream",
     "text": [
      "2753/2753 [==============================] - 1316s 477ms/step - loss: 1.1320 - accuracy: 0.6887 - val_loss: 2.4678 - val_accuracy: 0.2602\n",
      "Epoch 2/20\n",
      "1441/2753 [==============>...............] - ETA: 7:40 - loss: 0.8772 - accuracy: 0.7083"
     ]
    }
   ],
   "source": [
    "#efficient net b4 with transfer learning from image net\n",
    "\n",
    "from tensorflow.keras.applications import EfficientNetB4\n",
    "batch_size = 32\n",
    "img_height = 380\n",
    "img_width = 380\n",
    "\n",
    "inputs = layers.Input(shape=(img_height, img_width, 3))\n",
    "x = inputs\n",
    "eff_b4_tl = EfficientNetB4(include_top=False, input_tensor=x, weights=\"imagenet\")\n",
    "\n",
    "# Freeze the pretrained weights\n",
    "eff_b4_tl.trainable = False\n",
    "\n",
    "# Rebuild top\n",
    "x = layers.GlobalAveragePooling2D(name=\"avg_pool\")(eff_b4_tl.output)\n",
    "x = layers.BatchNormalization()(x)\n",
    "\n",
    "top_dropout_rate = 0.2\n",
    "x = layers.Dropout(top_dropout_rate, name=\"top_dropout\")(x)\n",
    "outputs = layers.Dense(6, activation=\"softmax\", name=\"pred\")(x)\n",
    "\n",
    "# Compile\n",
    "eff_b4_tl = tf.keras.Model(inputs, outputs, name=\"EfficientNet\")\n",
    "optimizer = tf.keras.optimizers.Adam(learning_rate=1e-2)\n",
    "eff_b4_tl.compile(optimizer=optimizer, loss=\"categorical_crossentropy\", metrics=[\"accuracy\"])\n",
    "model_saved=eff_b4_tl.fit(training_ds_resized, validation_data = testing_ds_resized, batch_size = batch_size, epochs = 20, callbacks = [callbacks]) "
   ]
  },
  {
   "cell_type": "code",
   "execution_count": null,
   "metadata": {},
   "outputs": [],
   "source": [
    "tf.saved_model.save(eff_b4_tl, 'model_weights/effnet_b4_tl')"
   ]
  },
  {
   "cell_type": "code",
   "execution_count": null,
   "metadata": {},
   "outputs": [],
   "source": [
    "plot_model(model_saved, 20,'performance_plots/effb4_tl.png')"
   ]
  },
  {
   "cell_type": "markdown",
   "metadata": {
    "jp-MarkdownHeadingCollapsed": true
   },
   "source": [
    "#### B5"
   ]
  },
  {
   "cell_type": "code",
   "execution_count": 19,
   "metadata": {},
   "outputs": [
    {
     "name": "stdout",
     "output_type": "stream",
     "text": [
      "Shape of a sample image in training_ds_resized: (32, 456, 456, 3)\n"
     ]
    },
    {
     "name": "stderr",
     "output_type": "stream",
     "text": [
      "2023-08-22 09:52:03.718489: I tensorflow/core/common_runtime/executor.cc:1197] [/device:CPU:0] (DEBUG INFO) Executor start aborting (this does not indicate an error and you can ignore this message): INVALID_ARGUMENT: You must feed a value for placeholder tensor 'Placeholder/_0' with dtype string and shape [31920]\n",
      "\t [[{{node Placeholder/_0}}]]\n",
      "2023-08-22 09:52:03.718686: I tensorflow/core/common_runtime/executor.cc:1197] [/device:CPU:0] (DEBUG INFO) Executor start aborting (this does not indicate an error and you can ignore this message): INVALID_ARGUMENT: You must feed a value for placeholder tensor 'Placeholder/_0' with dtype string and shape [31920]\n",
      "\t [[{{node Placeholder/_0}}]]\n",
      "2023-08-22 09:52:03.803856: W tensorflow/core/kernels/data/cache_dataset_ops.cc:856] The calling iterator did not fully read the dataset being cached. In order to avoid unexpected truncation of the dataset, the partially cached contents of the dataset  will be discarded. This can happen if you have an input pipeline similar to `dataset.cache().take(k).repeat()`. You should use `dataset.take(k).cache().repeat()` instead.\n"
     ]
    }
   ],
   "source": [
    "from tensorflow.keras.applications.efficientnet import preprocess_input \n",
    "target_size =  (456,456) \n",
    "training_ds_resized = training_ds.map(preprocess_image) \n",
    "testing_ds_resized = testing_ds.map(preprocess_image) \n",
    "sample_image, _ = next(iter(testing_ds_resized.take(1)))\n",
    "sample_image_shape = sample_image.shape\n",
    "\n",
    "print(\"Shape of a sample image in training_ds_resized:\", sample_image_shape)"
   ]
  },
  {
   "cell_type": "code",
   "execution_count": 25,
   "metadata": {},
   "outputs": [
    {
     "name": "stdout",
     "output_type": "stream",
     "text": [
      "Downloading data from https://storage.googleapis.com/keras-applications/efficientnetb5_notop.h5\n",
      "115263384/115263384 [==============================] - 4s 0us/step\n",
      "Epoch 1/20\n"
     ]
    },
    {
     "name": "stderr",
     "output_type": "stream",
     "text": [
      "2023-08-22 09:52:40.961278: I tensorflow/core/common_runtime/executor.cc:1197] [/device:CPU:0] (DEBUG INFO) Executor start aborting (this does not indicate an error and you can ignore this message): INVALID_ARGUMENT: You must feed a value for placeholder tensor 'Placeholder/_0' with dtype string and shape [88080]\n",
      "\t [[{{node Placeholder/_0}}]]\n",
      "2023-08-22 09:52:40.961472: I tensorflow/core/common_runtime/executor.cc:1197] [/device:CPU:0] (DEBUG INFO) Executor start aborting (this does not indicate an error and you can ignore this message): INVALID_ARGUMENT: You must feed a value for placeholder tensor 'Placeholder/_4' with dtype int32 and shape [88080]\n",
      "\t [[{{node Placeholder/_4}}]]\n",
      "2023-08-22 09:52:48.662644: I tensorflow/compiler/xla/stream_executor/cuda/cuda_dnn.cc:424] Loaded cuDNN version 8600\n",
      "2023-08-22 09:52:54.561195: I tensorflow/compiler/xla/stream_executor/cuda/cuda_blas.cc:637] TensorFloat-32 will be used for the matrix multiplication. This will only be logged once.\n",
      "2023-08-22 09:52:54.874850: I tensorflow/compiler/xla/service/service.cc:169] XLA service 0x7fac94006720 initialized for platform CUDA (this does not guarantee that XLA will be used). Devices:\n",
      "2023-08-22 09:52:54.874968: I tensorflow/compiler/xla/service/service.cc:177]   StreamExecutor device (0): NVIDIA GeForce RTX 3090 Ti, Compute Capability 8.6\n",
      "2023-08-22 09:52:55.042108: I tensorflow/compiler/mlir/tensorflow/utils/dump_mlir_util.cc:269] disabling MLIR crash reproducer, set env var `MLIR_CRASH_REPRODUCER_DIRECTORY` to enable.\n"
     ]
    },
    {
     "name": "stdout",
     "output_type": "stream",
     "text": [
      "   1/2753 [..............................] - ETA: 11:11:48 - loss: 2.3413 - accuracy: 0.2188"
     ]
    },
    {
     "name": "stderr",
     "output_type": "stream",
     "text": [
      "2023-08-22 09:52:55.435723: I ./tensorflow/compiler/jit/device_compiler.h:180] Compiled cluster using XLA!  This line is logged at most once for the lifetime of the process.\n"
     ]
    },
    {
     "name": "stdout",
     "output_type": "stream",
     "text": [
      "2753/2753 [==============================] - ETA: 0s - loss: 1.1686 - accuracy: 0.7018"
     ]
    },
    {
     "name": "stderr",
     "output_type": "stream",
     "text": [
      "2023-08-22 10:03:20.968536: I tensorflow/core/common_runtime/executor.cc:1197] [/device:CPU:0] (DEBUG INFO) Executor start aborting (this does not indicate an error and you can ignore this message): INVALID_ARGUMENT: You must feed a value for placeholder tensor 'Placeholder/_4' with dtype int32 and shape [31920]\n",
      "\t [[{{node Placeholder/_4}}]]\n",
      "2023-08-22 10:03:20.968933: I tensorflow/core/common_runtime/executor.cc:1197] [/device:CPU:0] (DEBUG INFO) Executor start aborting (this does not indicate an error and you can ignore this message): INVALID_ARGUMENT: You must feed a value for placeholder tensor 'Placeholder/_0' with dtype string and shape [31920]\n",
      "\t [[{{node Placeholder/_0}}]]\n"
     ]
    },
    {
     "name": "stdout",
     "output_type": "stream",
     "text": [
      "2753/2753 [==============================] - 852s 304ms/step - loss: 1.1686 - accuracy: 0.7018 - val_loss: 3.3906 - val_accuracy: 0.2287\n",
      "Epoch 2/20\n",
      "2753/2753 [==============================] - 831s 302ms/step - loss: 0.8630 - accuracy: 0.7155 - val_loss: 3.3525 - val_accuracy: 0.2486\n",
      "Epoch 3/20\n",
      "2753/2753 [==============================] - 835s 303ms/step - loss: 0.8929 - accuracy: 0.7108 - val_loss: 3.3861 - val_accuracy: 0.2550\n",
      "Epoch 4/20\n",
      "2753/2753 [==============================] - 841s 305ms/step - loss: 0.8986 - accuracy: 0.7080 - val_loss: 3.2085 - val_accuracy: 0.2473\n",
      "Epoch 5/20\n",
      "2753/2753 [==============================] - 828s 301ms/step - loss: 0.9024 - accuracy: 0.7062 - val_loss: 3.4652 - val_accuracy: 0.2471\n",
      "Epoch 6/20\n",
      "2753/2753 [==============================] - 822s 299ms/step - loss: 0.8973 - accuracy: 0.7062 - val_loss: 3.4237 - val_accuracy: 0.2402\n",
      "Epoch 7/20\n",
      "2753/2753 [==============================] - 830s 302ms/step - loss: 0.9006 - accuracy: 0.7049 - val_loss: 3.6366 - val_accuracy: 0.2368\n",
      "Epoch 8/20\n",
      "2753/2753 [==============================] - 861s 313ms/step - loss: 0.9014 - accuracy: 0.7059 - val_loss: 3.6958 - val_accuracy: 0.2452\n",
      "Epoch 9/20\n",
      "2753/2753 [==============================] - 822s 299ms/step - loss: 0.9002 - accuracy: 0.7065 - val_loss: 3.7310 - val_accuracy: 0.2265\n",
      "Epoch 10/20\n",
      "2753/2753 [==============================] - 827s 301ms/step - loss: 0.9003 - accuracy: 0.7069 - val_loss: 3.5513 - val_accuracy: 0.2257\n",
      "Epoch 11/20\n",
      "2753/2753 [==============================] - 834s 303ms/step - loss: 0.8989 - accuracy: 0.7068 - val_loss: 3.5283 - val_accuracy: 0.2355\n",
      "Epoch 12/20\n",
      "2753/2753 [==============================] - 837s 304ms/step - loss: 0.8970 - accuracy: 0.7065 - val_loss: 3.4878 - val_accuracy: 0.2442\n",
      "Epoch 13/20\n",
      "2753/2753 [==============================] - 835s 303ms/step - loss: 0.9005 - accuracy: 0.7059 - val_loss: 3.2623 - val_accuracy: 0.2378\n",
      "Epoch 14/20\n",
      "2753/2753 [==============================] - 825s 300ms/step - loss: 0.8968 - accuracy: 0.7080 - val_loss: 3.3367 - val_accuracy: 0.2651\n",
      "Epoch 15/20\n",
      "2753/2753 [==============================] - 833s 302ms/step - loss: 0.8998 - accuracy: 0.7063 - val_loss: 3.3972 - val_accuracy: 0.2047\n",
      "Epoch 16/20\n",
      "2753/2753 [==============================] - 824s 299ms/step - loss: 0.8985 - accuracy: 0.7067 - val_loss: 3.4491 - val_accuracy: 0.2313\n",
      "Epoch 17/20\n",
      "2753/2753 [==============================] - 838s 304ms/step - loss: 0.8991 - accuracy: 0.7065 - val_loss: 3.3987 - val_accuracy: 0.2310\n",
      "Epoch 18/20\n",
      "2753/2753 [==============================] - 839s 305ms/step - loss: 0.8972 - accuracy: 0.7074 - val_loss: 3.1579 - val_accuracy: 0.2690\n",
      "Epoch 19/20\n",
      "2753/2753 [==============================] - 815s 296ms/step - loss: 0.8999 - accuracy: 0.7068 - val_loss: 3.3782 - val_accuracy: 0.2365\n",
      "Epoch 20/20\n",
      "2753/2753 [==============================] - 797s 289ms/step - loss: 0.8951 - accuracy: 0.7084 - val_loss: 3.4267 - val_accuracy: 0.2107\n"
     ]
    }
   ],
   "source": [
    "#efficient net b5 with transfer learning from image net\n",
    "\n",
    "from tensorflow.keras.applications import EfficientNetB5\n",
    "batch_size = 32\n",
    "img_height = 456\n",
    "img_width = 456\n",
    "\n",
    "inputs = layers.Input(shape=(img_height, img_width, 3))\n",
    "x = inputs\n",
    "eff_b5_tl = EfficientNetB5(include_top=False, input_tensor=x, weights=\"imagenet\")\n",
    "\n",
    "# Freeze the pretrained weights\n",
    "eff_b5_tl.trainable = False\n",
    "\n",
    "# Rebuild top\n",
    "x = layers.GlobalAveragePooling2D(name=\"avg_pool\")(eff_b5_tl.output)\n",
    "x = layers.BatchNormalization()(x)\n",
    "\n",
    "top_dropout_rate = 0.2\n",
    "x = layers.Dropout(top_dropout_rate, name=\"top_dropout\")(x)\n",
    "outputs = layers.Dense(6, activation=\"softmax\", name=\"pred\")(x)\n",
    "\n",
    "# Compile\n",
    "eff_b5_tl = tf.keras.Model(inputs, outputs, name=\"EfficientNet\")\n",
    "optimizer = tf.keras.optimizers.Adam(learning_rate=1e-2)\n",
    "eff_b5_tl.compile(optimizer=optimizer, loss=\"categorical_crossentropy\", metrics=[\"accuracy\"])\n",
    "model_saved=eff_b5_tl.fit(training_ds_resized, validation_data = testing_ds_resized, batch_size = batch_size, epochs = 20, callbacks = [callbacks]) "
   ]
  },
  {
   "cell_type": "code",
   "execution_count": 26,
   "metadata": {},
   "outputs": [
    {
     "name": "stderr",
     "output_type": "stream",
     "text": [
      "2023-08-22 14:29:54.239968: I tensorflow/core/common_runtime/executor.cc:1197] [/device:CPU:0] (DEBUG INFO) Executor start aborting (this does not indicate an error and you can ignore this message): INVALID_ARGUMENT: You must feed a value for placeholder tensor 'inputs' with dtype float and shape [?,48]\n",
      "\t [[{{node inputs}}]]\n",
      "2023-08-22 14:29:54.256609: I tensorflow/core/common_runtime/executor.cc:1197] [/device:CPU:0] (DEBUG INFO) Executor start aborting (this does not indicate an error and you can ignore this message): INVALID_ARGUMENT: You must feed a value for placeholder tensor 'inputs' with dtype float and shape [?,24]\n",
      "\t [[{{node inputs}}]]\n",
      "2023-08-22 14:29:54.268791: I tensorflow/core/common_runtime/executor.cc:1197] [/device:CPU:0] (DEBUG INFO) Executor start aborting (this does not indicate an error and you can ignore this message): INVALID_ARGUMENT: You must feed a value for placeholder tensor 'inputs' with dtype float and shape [?,228,228,24]\n",
      "\t [[{{node inputs}}]]\n",
      "2023-08-22 14:29:54.280655: I tensorflow/core/common_runtime/executor.cc:1197] [/device:CPU:0] (DEBUG INFO) Executor start aborting (this does not indicate an error and you can ignore this message): INVALID_ARGUMENT: You must feed a value for placeholder tensor 'inputs' with dtype float and shape [?,24]\n",
      "\t [[{{node inputs}}]]\n",
      "2023-08-22 14:29:54.292708: I tensorflow/core/common_runtime/executor.cc:1197] [/device:CPU:0] (DEBUG INFO) Executor start aborting (this does not indicate an error and you can ignore this message): INVALID_ARGUMENT: You must feed a value for placeholder tensor 'inputs' with dtype float and shape [?,228,228,24]\n",
      "\t [[{{node inputs}}]]\n",
      "2023-08-22 14:29:54.308583: I tensorflow/core/common_runtime/executor.cc:1197] [/device:CPU:0] (DEBUG INFO) Executor start aborting (this does not indicate an error and you can ignore this message): INVALID_ARGUMENT: You must feed a value for placeholder tensor 'inputs' with dtype float and shape [?,144]\n",
      "\t [[{{node inputs}}]]\n",
      "2023-08-22 14:29:54.329726: I tensorflow/core/common_runtime/executor.cc:1197] [/device:CPU:0] (DEBUG INFO) Executor start aborting (this does not indicate an error and you can ignore this message): INVALID_ARGUMENT: You must feed a value for placeholder tensor 'inputs' with dtype float and shape [?,240]\n",
      "\t [[{{node inputs}}]]\n",
      "2023-08-22 14:29:54.341379: I tensorflow/core/common_runtime/executor.cc:1197] [/device:CPU:0] (DEBUG INFO) Executor start aborting (this does not indicate an error and you can ignore this message): INVALID_ARGUMENT: You must feed a value for placeholder tensor 'inputs' with dtype float and shape [?,114,114,40]\n",
      "\t [[{{node inputs}}]]\n",
      "2023-08-22 14:29:54.356361: I tensorflow/core/common_runtime/executor.cc:1197] [/device:CPU:0] (DEBUG INFO) Executor start aborting (this does not indicate an error and you can ignore this message): INVALID_ARGUMENT: You must feed a value for placeholder tensor 'inputs' with dtype float and shape [?,240]\n",
      "\t [[{{node inputs}}]]\n",
      "2023-08-22 14:29:54.367789: I tensorflow/core/common_runtime/executor.cc:1197] [/device:CPU:0] (DEBUG INFO) Executor start aborting (this does not indicate an error and you can ignore this message): INVALID_ARGUMENT: You must feed a value for placeholder tensor 'inputs' with dtype float and shape [?,114,114,40]\n",
      "\t [[{{node inputs}}]]\n",
      "2023-08-22 14:29:54.382965: I tensorflow/core/common_runtime/executor.cc:1197] [/device:CPU:0] (DEBUG INFO) Executor start aborting (this does not indicate an error and you can ignore this message): INVALID_ARGUMENT: You must feed a value for placeholder tensor 'inputs' with dtype float and shape [?,240]\n",
      "\t [[{{node inputs}}]]\n",
      "2023-08-22 14:29:54.394259: I tensorflow/core/common_runtime/executor.cc:1197] [/device:CPU:0] (DEBUG INFO) Executor start aborting (this does not indicate an error and you can ignore this message): INVALID_ARGUMENT: You must feed a value for placeholder tensor 'inputs' with dtype float and shape [?,114,114,40]\n",
      "\t [[{{node inputs}}]]\n",
      "2023-08-22 14:29:54.409325: I tensorflow/core/common_runtime/executor.cc:1197] [/device:CPU:0] (DEBUG INFO) Executor start aborting (this does not indicate an error and you can ignore this message): INVALID_ARGUMENT: You must feed a value for placeholder tensor 'inputs' with dtype float and shape [?,240]\n",
      "\t [[{{node inputs}}]]\n",
      "2023-08-22 14:29:54.421370: I tensorflow/core/common_runtime/executor.cc:1197] [/device:CPU:0] (DEBUG INFO) Executor start aborting (this does not indicate an error and you can ignore this message): INVALID_ARGUMENT: You must feed a value for placeholder tensor 'inputs' with dtype float and shape [?,114,114,40]\n",
      "\t [[{{node inputs}}]]\n",
      "2023-08-22 14:29:54.438378: I tensorflow/core/common_runtime/executor.cc:1197] [/device:CPU:0] (DEBUG INFO) Executor start aborting (this does not indicate an error and you can ignore this message): INVALID_ARGUMENT: You must feed a value for placeholder tensor 'inputs' with dtype float and shape [?,240]\n",
      "\t [[{{node inputs}}]]\n",
      "2023-08-22 14:29:54.461134: I tensorflow/core/common_runtime/executor.cc:1197] [/device:CPU:0] (DEBUG INFO) Executor start aborting (this does not indicate an error and you can ignore this message): INVALID_ARGUMENT: You must feed a value for placeholder tensor 'inputs' with dtype float and shape [?,384]\n",
      "\t [[{{node inputs}}]]\n",
      "2023-08-22 14:29:54.473198: I tensorflow/core/common_runtime/executor.cc:1197] [/device:CPU:0] (DEBUG INFO) Executor start aborting (this does not indicate an error and you can ignore this message): INVALID_ARGUMENT: You must feed a value for placeholder tensor 'inputs' with dtype float and shape [?,57,57,64]\n",
      "\t [[{{node inputs}}]]\n",
      "2023-08-22 14:29:54.488491: I tensorflow/core/common_runtime/executor.cc:1197] [/device:CPU:0] (DEBUG INFO) Executor start aborting (this does not indicate an error and you can ignore this message): INVALID_ARGUMENT: You must feed a value for placeholder tensor 'inputs' with dtype float and shape [?,384]\n",
      "\t [[{{node inputs}}]]\n",
      "2023-08-22 14:29:54.500742: I tensorflow/core/common_runtime/executor.cc:1197] [/device:CPU:0] (DEBUG INFO) Executor start aborting (this does not indicate an error and you can ignore this message): INVALID_ARGUMENT: You must feed a value for placeholder tensor 'inputs' with dtype float and shape [?,57,57,64]\n",
      "\t [[{{node inputs}}]]\n",
      "2023-08-22 14:29:54.515791: I tensorflow/core/common_runtime/executor.cc:1197] [/device:CPU:0] (DEBUG INFO) Executor start aborting (this does not indicate an error and you can ignore this message): INVALID_ARGUMENT: You must feed a value for placeholder tensor 'inputs' with dtype float and shape [?,384]\n",
      "\t [[{{node inputs}}]]\n",
      "2023-08-22 14:29:54.527371: I tensorflow/core/common_runtime/executor.cc:1197] [/device:CPU:0] (DEBUG INFO) Executor start aborting (this does not indicate an error and you can ignore this message): INVALID_ARGUMENT: You must feed a value for placeholder tensor 'inputs' with dtype float and shape [?,57,57,64]\n",
      "\t [[{{node inputs}}]]\n",
      "2023-08-22 14:29:54.542640: I tensorflow/core/common_runtime/executor.cc:1197] [/device:CPU:0] (DEBUG INFO) Executor start aborting (this does not indicate an error and you can ignore this message): INVALID_ARGUMENT: You must feed a value for placeholder tensor 'inputs' with dtype float and shape [?,384]\n",
      "\t [[{{node inputs}}]]\n",
      "2023-08-22 14:29:54.554977: I tensorflow/core/common_runtime/executor.cc:1197] [/device:CPU:0] (DEBUG INFO) Executor start aborting (this does not indicate an error and you can ignore this message): INVALID_ARGUMENT: You must feed a value for placeholder tensor 'inputs' with dtype float and shape [?,57,57,64]\n",
      "\t [[{{node inputs}}]]\n",
      "2023-08-22 14:29:54.570386: I tensorflow/core/common_runtime/executor.cc:1197] [/device:CPU:0] (DEBUG INFO) Executor start aborting (this does not indicate an error and you can ignore this message): INVALID_ARGUMENT: You must feed a value for placeholder tensor 'inputs' with dtype float and shape [?,384]\n",
      "\t [[{{node inputs}}]]\n",
      "2023-08-22 14:29:54.591548: I tensorflow/core/common_runtime/executor.cc:1197] [/device:CPU:0] (DEBUG INFO) Executor start aborting (this does not indicate an error and you can ignore this message): INVALID_ARGUMENT: You must feed a value for placeholder tensor 'inputs' with dtype float and shape [?,768]\n",
      "\t [[{{node inputs}}]]\n",
      "2023-08-22 14:29:54.603902: I tensorflow/core/common_runtime/executor.cc:1197] [/device:CPU:0] (DEBUG INFO) Executor start aborting (this does not indicate an error and you can ignore this message): INVALID_ARGUMENT: You must feed a value for placeholder tensor 'inputs' with dtype float and shape [?,29,29,128]\n",
      "\t [[{{node inputs}}]]\n",
      "2023-08-22 14:29:54.620015: I tensorflow/core/common_runtime/executor.cc:1197] [/device:CPU:0] (DEBUG INFO) Executor start aborting (this does not indicate an error and you can ignore this message): INVALID_ARGUMENT: You must feed a value for placeholder tensor 'inputs' with dtype float and shape [?,768]\n",
      "\t [[{{node inputs}}]]\n",
      "2023-08-22 14:29:54.631829: I tensorflow/core/common_runtime/executor.cc:1197] [/device:CPU:0] (DEBUG INFO) Executor start aborting (this does not indicate an error and you can ignore this message): INVALID_ARGUMENT: You must feed a value for placeholder tensor 'inputs' with dtype float and shape [?,29,29,128]\n",
      "\t [[{{node inputs}}]]\n",
      "2023-08-22 14:29:54.646918: I tensorflow/core/common_runtime/executor.cc:1197] [/device:CPU:0] (DEBUG INFO) Executor start aborting (this does not indicate an error and you can ignore this message): INVALID_ARGUMENT: You must feed a value for placeholder tensor 'inputs' with dtype float and shape [?,768]\n",
      "\t [[{{node inputs}}]]\n",
      "2023-08-22 14:29:54.659152: I tensorflow/core/common_runtime/executor.cc:1197] [/device:CPU:0] (DEBUG INFO) Executor start aborting (this does not indicate an error and you can ignore this message): INVALID_ARGUMENT: You must feed a value for placeholder tensor 'inputs' with dtype float and shape [?,29,29,128]\n",
      "\t [[{{node inputs}}]]\n",
      "2023-08-22 14:29:54.676151: I tensorflow/core/common_runtime/executor.cc:1197] [/device:CPU:0] (DEBUG INFO) Executor start aborting (this does not indicate an error and you can ignore this message): INVALID_ARGUMENT: You must feed a value for placeholder tensor 'inputs' with dtype float and shape [?,768]\n",
      "\t [[{{node inputs}}]]\n",
      "2023-08-22 14:29:54.688077: I tensorflow/core/common_runtime/executor.cc:1197] [/device:CPU:0] (DEBUG INFO) Executor start aborting (this does not indicate an error and you can ignore this message): INVALID_ARGUMENT: You must feed a value for placeholder tensor 'inputs' with dtype float and shape [?,29,29,128]\n",
      "\t [[{{node inputs}}]]\n",
      "2023-08-22 14:29:54.703468: I tensorflow/core/common_runtime/executor.cc:1197] [/device:CPU:0] (DEBUG INFO) Executor start aborting (this does not indicate an error and you can ignore this message): INVALID_ARGUMENT: You must feed a value for placeholder tensor 'inputs' with dtype float and shape [?,768]\n",
      "\t [[{{node inputs}}]]\n",
      "2023-08-22 14:29:54.714973: I tensorflow/core/common_runtime/executor.cc:1197] [/device:CPU:0] (DEBUG INFO) Executor start aborting (this does not indicate an error and you can ignore this message): INVALID_ARGUMENT: You must feed a value for placeholder tensor 'inputs' with dtype float and shape [?,29,29,128]\n",
      "\t [[{{node inputs}}]]\n",
      "2023-08-22 14:29:54.730957: I tensorflow/core/common_runtime/executor.cc:1197] [/device:CPU:0] (DEBUG INFO) Executor start aborting (this does not indicate an error and you can ignore this message): INVALID_ARGUMENT: You must feed a value for placeholder tensor 'inputs' with dtype float and shape [?,768]\n",
      "\t [[{{node inputs}}]]\n",
      "2023-08-22 14:29:54.743100: I tensorflow/core/common_runtime/executor.cc:1197] [/device:CPU:0] (DEBUG INFO) Executor start aborting (this does not indicate an error and you can ignore this message): INVALID_ARGUMENT: You must feed a value for placeholder tensor 'inputs' with dtype float and shape [?,29,29,128]\n",
      "\t [[{{node inputs}}]]\n",
      "2023-08-22 14:29:54.758822: I tensorflow/core/common_runtime/executor.cc:1197] [/device:CPU:0] (DEBUG INFO) Executor start aborting (this does not indicate an error and you can ignore this message): INVALID_ARGUMENT: You must feed a value for placeholder tensor 'inputs' with dtype float and shape [?,768]\n",
      "\t [[{{node inputs}}]]\n",
      "2023-08-22 14:29:54.780203: I tensorflow/core/common_runtime/executor.cc:1197] [/device:CPU:0] (DEBUG INFO) Executor start aborting (this does not indicate an error and you can ignore this message): INVALID_ARGUMENT: You must feed a value for placeholder tensor 'inputs' with dtype float and shape [?,1056]\n",
      "\t [[{{node inputs}}]]\n",
      "2023-08-22 14:29:54.792011: I tensorflow/core/common_runtime/executor.cc:1197] [/device:CPU:0] (DEBUG INFO) Executor start aborting (this does not indicate an error and you can ignore this message): INVALID_ARGUMENT: You must feed a value for placeholder tensor 'inputs' with dtype float and shape [?,29,29,176]\n",
      "\t [[{{node inputs}}]]\n",
      "2023-08-22 14:29:54.807444: I tensorflow/core/common_runtime/executor.cc:1197] [/device:CPU:0] (DEBUG INFO) Executor start aborting (this does not indicate an error and you can ignore this message): INVALID_ARGUMENT: You must feed a value for placeholder tensor 'inputs' with dtype float and shape [?,1056]\n",
      "\t [[{{node inputs}}]]\n",
      "2023-08-22 14:29:54.819150: I tensorflow/core/common_runtime/executor.cc:1197] [/device:CPU:0] (DEBUG INFO) Executor start aborting (this does not indicate an error and you can ignore this message): INVALID_ARGUMENT: You must feed a value for placeholder tensor 'inputs' with dtype float and shape [?,29,29,176]\n",
      "\t [[{{node inputs}}]]\n",
      "2023-08-22 14:29:54.834603: I tensorflow/core/common_runtime/executor.cc:1197] [/device:CPU:0] (DEBUG INFO) Executor start aborting (this does not indicate an error and you can ignore this message): INVALID_ARGUMENT: You must feed a value for placeholder tensor 'inputs' with dtype float and shape [?,1056]\n",
      "\t [[{{node inputs}}]]\n",
      "2023-08-22 14:29:54.846216: I tensorflow/core/common_runtime/executor.cc:1197] [/device:CPU:0] (DEBUG INFO) Executor start aborting (this does not indicate an error and you can ignore this message): INVALID_ARGUMENT: You must feed a value for placeholder tensor 'inputs' with dtype float and shape [?,29,29,176]\n",
      "\t [[{{node inputs}}]]\n",
      "2023-08-22 14:29:54.861429: I tensorflow/core/common_runtime/executor.cc:1197] [/device:CPU:0] (DEBUG INFO) Executor start aborting (this does not indicate an error and you can ignore this message): INVALID_ARGUMENT: You must feed a value for placeholder tensor 'inputs' with dtype float and shape [?,1056]\n",
      "\t [[{{node inputs}}]]\n",
      "2023-08-22 14:29:54.872948: I tensorflow/core/common_runtime/executor.cc:1197] [/device:CPU:0] (DEBUG INFO) Executor start aborting (this does not indicate an error and you can ignore this message): INVALID_ARGUMENT: You must feed a value for placeholder tensor 'inputs' with dtype float and shape [?,29,29,176]\n",
      "\t [[{{node inputs}}]]\n",
      "2023-08-22 14:29:54.889634: I tensorflow/core/common_runtime/executor.cc:1197] [/device:CPU:0] (DEBUG INFO) Executor start aborting (this does not indicate an error and you can ignore this message): INVALID_ARGUMENT: You must feed a value for placeholder tensor 'inputs' with dtype float and shape [?,1056]\n",
      "\t [[{{node inputs}}]]\n",
      "2023-08-22 14:29:54.902036: I tensorflow/core/common_runtime/executor.cc:1197] [/device:CPU:0] (DEBUG INFO) Executor start aborting (this does not indicate an error and you can ignore this message): INVALID_ARGUMENT: You must feed a value for placeholder tensor 'inputs' with dtype float and shape [?,29,29,176]\n",
      "\t [[{{node inputs}}]]\n",
      "2023-08-22 14:29:54.918135: I tensorflow/core/common_runtime/executor.cc:1197] [/device:CPU:0] (DEBUG INFO) Executor start aborting (this does not indicate an error and you can ignore this message): INVALID_ARGUMENT: You must feed a value for placeholder tensor 'inputs' with dtype float and shape [?,1056]\n",
      "\t [[{{node inputs}}]]\n",
      "2023-08-22 14:29:54.930287: I tensorflow/core/common_runtime/executor.cc:1197] [/device:CPU:0] (DEBUG INFO) Executor start aborting (this does not indicate an error and you can ignore this message): INVALID_ARGUMENT: You must feed a value for placeholder tensor 'inputs' with dtype float and shape [?,29,29,176]\n",
      "\t [[{{node inputs}}]]\n",
      "2023-08-22 14:29:54.946146: I tensorflow/core/common_runtime/executor.cc:1197] [/device:CPU:0] (DEBUG INFO) Executor start aborting (this does not indicate an error and you can ignore this message): INVALID_ARGUMENT: You must feed a value for placeholder tensor 'inputs' with dtype float and shape [?,1056]\n",
      "\t [[{{node inputs}}]]\n",
      "2023-08-22 14:29:54.966565: I tensorflow/core/common_runtime/executor.cc:1197] [/device:CPU:0] (DEBUG INFO) Executor start aborting (this does not indicate an error and you can ignore this message): INVALID_ARGUMENT: You must feed a value for placeholder tensor 'inputs' with dtype float and shape [?,1824]\n",
      "\t [[{{node inputs}}]]\n",
      "2023-08-22 14:29:54.978174: I tensorflow/core/common_runtime/executor.cc:1197] [/device:CPU:0] (DEBUG INFO) Executor start aborting (this does not indicate an error and you can ignore this message): INVALID_ARGUMENT: You must feed a value for placeholder tensor 'inputs' with dtype float and shape [?,15,15,304]\n",
      "\t [[{{node inputs}}]]\n",
      "2023-08-22 14:29:54.993120: I tensorflow/core/common_runtime/executor.cc:1197] [/device:CPU:0] (DEBUG INFO) Executor start aborting (this does not indicate an error and you can ignore this message): INVALID_ARGUMENT: You must feed a value for placeholder tensor 'inputs' with dtype float and shape [?,1824]\n",
      "\t [[{{node inputs}}]]\n",
      "2023-08-22 14:29:55.005002: I tensorflow/core/common_runtime/executor.cc:1197] [/device:CPU:0] (DEBUG INFO) Executor start aborting (this does not indicate an error and you can ignore this message): INVALID_ARGUMENT: You must feed a value for placeholder tensor 'inputs' with dtype float and shape [?,15,15,304]\n",
      "\t [[{{node inputs}}]]\n",
      "2023-08-22 14:29:55.020116: I tensorflow/core/common_runtime/executor.cc:1197] [/device:CPU:0] (DEBUG INFO) Executor start aborting (this does not indicate an error and you can ignore this message): INVALID_ARGUMENT: You must feed a value for placeholder tensor 'inputs' with dtype float and shape [?,1824]\n",
      "\t [[{{node inputs}}]]\n",
      "2023-08-22 14:29:55.031864: I tensorflow/core/common_runtime/executor.cc:1197] [/device:CPU:0] (DEBUG INFO) Executor start aborting (this does not indicate an error and you can ignore this message): INVALID_ARGUMENT: You must feed a value for placeholder tensor 'inputs' with dtype float and shape [?,15,15,304]\n",
      "\t [[{{node inputs}}]]\n",
      "2023-08-22 14:29:55.047315: I tensorflow/core/common_runtime/executor.cc:1197] [/device:CPU:0] (DEBUG INFO) Executor start aborting (this does not indicate an error and you can ignore this message): INVALID_ARGUMENT: You must feed a value for placeholder tensor 'inputs' with dtype float and shape [?,1824]\n",
      "\t [[{{node inputs}}]]\n",
      "2023-08-22 14:29:55.059972: I tensorflow/core/common_runtime/executor.cc:1197] [/device:CPU:0] (DEBUG INFO) Executor start aborting (this does not indicate an error and you can ignore this message): INVALID_ARGUMENT: You must feed a value for placeholder tensor 'inputs' with dtype float and shape [?,15,15,304]\n",
      "\t [[{{node inputs}}]]\n",
      "2023-08-22 14:29:55.075627: I tensorflow/core/common_runtime/executor.cc:1197] [/device:CPU:0] (DEBUG INFO) Executor start aborting (this does not indicate an error and you can ignore this message): INVALID_ARGUMENT: You must feed a value for placeholder tensor 'inputs' with dtype float and shape [?,1824]\n",
      "\t [[{{node inputs}}]]\n",
      "2023-08-22 14:29:55.087638: I tensorflow/core/common_runtime/executor.cc:1197] [/device:CPU:0] (DEBUG INFO) Executor start aborting (this does not indicate an error and you can ignore this message): INVALID_ARGUMENT: You must feed a value for placeholder tensor 'inputs' with dtype float and shape [?,15,15,304]\n",
      "\t [[{{node inputs}}]]\n",
      "2023-08-22 14:29:55.103403: I tensorflow/core/common_runtime/executor.cc:1197] [/device:CPU:0] (DEBUG INFO) Executor start aborting (this does not indicate an error and you can ignore this message): INVALID_ARGUMENT: You must feed a value for placeholder tensor 'inputs' with dtype float and shape [?,1824]\n",
      "\t [[{{node inputs}}]]\n",
      "2023-08-22 14:29:55.115815: I tensorflow/core/common_runtime/executor.cc:1197] [/device:CPU:0] (DEBUG INFO) Executor start aborting (this does not indicate an error and you can ignore this message): INVALID_ARGUMENT: You must feed a value for placeholder tensor 'inputs' with dtype float and shape [?,15,15,304]\n",
      "\t [[{{node inputs}}]]\n",
      "2023-08-22 14:29:55.131738: I tensorflow/core/common_runtime/executor.cc:1197] [/device:CPU:0] (DEBUG INFO) Executor start aborting (this does not indicate an error and you can ignore this message): INVALID_ARGUMENT: You must feed a value for placeholder tensor 'inputs' with dtype float and shape [?,1824]\n",
      "\t [[{{node inputs}}]]\n",
      "2023-08-22 14:29:55.143923: I tensorflow/core/common_runtime/executor.cc:1197] [/device:CPU:0] (DEBUG INFO) Executor start aborting (this does not indicate an error and you can ignore this message): INVALID_ARGUMENT: You must feed a value for placeholder tensor 'inputs' with dtype float and shape [?,15,15,304]\n",
      "\t [[{{node inputs}}]]\n",
      "2023-08-22 14:29:55.159445: I tensorflow/core/common_runtime/executor.cc:1197] [/device:CPU:0] (DEBUG INFO) Executor start aborting (this does not indicate an error and you can ignore this message): INVALID_ARGUMENT: You must feed a value for placeholder tensor 'inputs' with dtype float and shape [?,1824]\n",
      "\t [[{{node inputs}}]]\n",
      "2023-08-22 14:29:55.171463: I tensorflow/core/common_runtime/executor.cc:1197] [/device:CPU:0] (DEBUG INFO) Executor start aborting (this does not indicate an error and you can ignore this message): INVALID_ARGUMENT: You must feed a value for placeholder tensor 'inputs' with dtype float and shape [?,15,15,304]\n",
      "\t [[{{node inputs}}]]\n",
      "2023-08-22 14:29:55.186442: I tensorflow/core/common_runtime/executor.cc:1197] [/device:CPU:0] (DEBUG INFO) Executor start aborting (this does not indicate an error and you can ignore this message): INVALID_ARGUMENT: You must feed a value for placeholder tensor 'inputs' with dtype float and shape [?,1824]\n",
      "\t [[{{node inputs}}]]\n",
      "2023-08-22 14:29:55.207545: I tensorflow/core/common_runtime/executor.cc:1197] [/device:CPU:0] (DEBUG INFO) Executor start aborting (this does not indicate an error and you can ignore this message): INVALID_ARGUMENT: You must feed a value for placeholder tensor 'inputs' with dtype float and shape [?,3072]\n",
      "\t [[{{node inputs}}]]\n",
      "2023-08-22 14:29:55.219608: I tensorflow/core/common_runtime/executor.cc:1197] [/device:CPU:0] (DEBUG INFO) Executor start aborting (this does not indicate an error and you can ignore this message): INVALID_ARGUMENT: You must feed a value for placeholder tensor 'inputs' with dtype float and shape [?,15,15,512]\n",
      "\t [[{{node inputs}}]]\n",
      "2023-08-22 14:29:55.236199: I tensorflow/core/common_runtime/executor.cc:1197] [/device:CPU:0] (DEBUG INFO) Executor start aborting (this does not indicate an error and you can ignore this message): INVALID_ARGUMENT: You must feed a value for placeholder tensor 'inputs' with dtype float and shape [?,3072]\n",
      "\t [[{{node inputs}}]]\n",
      "2023-08-22 14:29:55.248104: I tensorflow/core/common_runtime/executor.cc:1197] [/device:CPU:0] (DEBUG INFO) Executor start aborting (this does not indicate an error and you can ignore this message): INVALID_ARGUMENT: You must feed a value for placeholder tensor 'inputs' with dtype float and shape [?,15,15,512]\n",
      "\t [[{{node inputs}}]]\n",
      "2023-08-22 14:29:55.259345: I tensorflow/core/common_runtime/executor.cc:1197] [/device:CPU:0] (DEBUG INFO) Executor start aborting (this does not indicate an error and you can ignore this message): INVALID_ARGUMENT: You must feed a value for placeholder tensor 'inputs' with dtype float and shape [?,2048]\n",
      "\t [[{{node inputs}}]]\n",
      "2023-08-22 14:29:59.130173: I tensorflow/core/common_runtime/executor.cc:1197] [/device:CPU:0] (DEBUG INFO) Executor start aborting (this does not indicate an error and you can ignore this message): INVALID_ARGUMENT: You must feed a value for placeholder tensor 'inputs' with dtype float and shape [?,48]\n",
      "\t [[{{node inputs}}]]\n",
      "2023-08-22 14:29:59.194842: I tensorflow/core/common_runtime/executor.cc:1197] [/device:CPU:0] (DEBUG INFO) Executor start aborting (this does not indicate an error and you can ignore this message): INVALID_ARGUMENT: You must feed a value for placeholder tensor 'inputs' with dtype float and shape [?,24]\n",
      "\t [[{{node inputs}}]]\n",
      "2023-08-22 14:29:59.233654: I tensorflow/core/common_runtime/executor.cc:1197] [/device:CPU:0] (DEBUG INFO) Executor start aborting (this does not indicate an error and you can ignore this message): INVALID_ARGUMENT: You must feed a value for placeholder tensor 'inputs' with dtype float and shape [?,228,228,24]\n",
      "\t [[{{node inputs}}]]\n",
      "2023-08-22 14:29:59.275497: I tensorflow/core/common_runtime/executor.cc:1197] [/device:CPU:0] (DEBUG INFO) Executor start aborting (this does not indicate an error and you can ignore this message): INVALID_ARGUMENT: You must feed a value for placeholder tensor 'inputs' with dtype float and shape [?,24]\n",
      "\t [[{{node inputs}}]]\n",
      "2023-08-22 14:29:59.316316: I tensorflow/core/common_runtime/executor.cc:1197] [/device:CPU:0] (DEBUG INFO) Executor start aborting (this does not indicate an error and you can ignore this message): INVALID_ARGUMENT: You must feed a value for placeholder tensor 'inputs' with dtype float and shape [?,228,228,24]\n",
      "\t [[{{node inputs}}]]\n",
      "2023-08-22 14:29:59.383519: I tensorflow/core/common_runtime/executor.cc:1197] [/device:CPU:0] (DEBUG INFO) Executor start aborting (this does not indicate an error and you can ignore this message): INVALID_ARGUMENT: You must feed a value for placeholder tensor 'inputs' with dtype float and shape [?,144]\n",
      "\t [[{{node inputs}}]]\n",
      "2023-08-22 14:29:59.473482: I tensorflow/core/common_runtime/executor.cc:1197] [/device:CPU:0] (DEBUG INFO) Executor start aborting (this does not indicate an error and you can ignore this message): INVALID_ARGUMENT: You must feed a value for placeholder tensor 'inputs' with dtype float and shape [?,240]\n",
      "\t [[{{node inputs}}]]\n",
      "2023-08-22 14:29:59.512423: I tensorflow/core/common_runtime/executor.cc:1197] [/device:CPU:0] (DEBUG INFO) Executor start aborting (this does not indicate an error and you can ignore this message): INVALID_ARGUMENT: You must feed a value for placeholder tensor 'inputs' with dtype float and shape [?,114,114,40]\n",
      "\t [[{{node inputs}}]]\n",
      "2023-08-22 14:29:59.577393: I tensorflow/core/common_runtime/executor.cc:1197] [/device:CPU:0] (DEBUG INFO) Executor start aborting (this does not indicate an error and you can ignore this message): INVALID_ARGUMENT: You must feed a value for placeholder tensor 'inputs' with dtype float and shape [?,240]\n",
      "\t [[{{node inputs}}]]\n",
      "2023-08-22 14:29:59.617479: I tensorflow/core/common_runtime/executor.cc:1197] [/device:CPU:0] (DEBUG INFO) Executor start aborting (this does not indicate an error and you can ignore this message): INVALID_ARGUMENT: You must feed a value for placeholder tensor 'inputs' with dtype float and shape [?,114,114,40]\n",
      "\t [[{{node inputs}}]]\n",
      "2023-08-22 14:29:59.682927: I tensorflow/core/common_runtime/executor.cc:1197] [/device:CPU:0] (DEBUG INFO) Executor start aborting (this does not indicate an error and you can ignore this message): INVALID_ARGUMENT: You must feed a value for placeholder tensor 'inputs' with dtype float and shape [?,240]\n",
      "\t [[{{node inputs}}]]\n",
      "2023-08-22 14:29:59.723093: I tensorflow/core/common_runtime/executor.cc:1197] [/device:CPU:0] (DEBUG INFO) Executor start aborting (this does not indicate an error and you can ignore this message): INVALID_ARGUMENT: You must feed a value for placeholder tensor 'inputs' with dtype float and shape [?,114,114,40]\n",
      "\t [[{{node inputs}}]]\n",
      "2023-08-22 14:29:59.788841: I tensorflow/core/common_runtime/executor.cc:1197] [/device:CPU:0] (DEBUG INFO) Executor start aborting (this does not indicate an error and you can ignore this message): INVALID_ARGUMENT: You must feed a value for placeholder tensor 'inputs' with dtype float and shape [?,240]\n",
      "\t [[{{node inputs}}]]\n",
      "2023-08-22 14:29:59.828725: I tensorflow/core/common_runtime/executor.cc:1197] [/device:CPU:0] (DEBUG INFO) Executor start aborting (this does not indicate an error and you can ignore this message): INVALID_ARGUMENT: You must feed a value for placeholder tensor 'inputs' with dtype float and shape [?,114,114,40]\n",
      "\t [[{{node inputs}}]]\n",
      "2023-08-22 14:29:59.898434: I tensorflow/core/common_runtime/executor.cc:1197] [/device:CPU:0] (DEBUG INFO) Executor start aborting (this does not indicate an error and you can ignore this message): INVALID_ARGUMENT: You must feed a value for placeholder tensor 'inputs' with dtype float and shape [?,240]\n",
      "\t [[{{node inputs}}]]\n",
      "2023-08-22 14:29:59.984932: I tensorflow/core/common_runtime/executor.cc:1197] [/device:CPU:0] (DEBUG INFO) Executor start aborting (this does not indicate an error and you can ignore this message): INVALID_ARGUMENT: You must feed a value for placeholder tensor 'inputs' with dtype float and shape [?,384]\n",
      "\t [[{{node inputs}}]]\n",
      "2023-08-22 14:30:00.026919: I tensorflow/core/common_runtime/executor.cc:1197] [/device:CPU:0] (DEBUG INFO) Executor start aborting (this does not indicate an error and you can ignore this message): INVALID_ARGUMENT: You must feed a value for placeholder tensor 'inputs' with dtype float and shape [?,57,57,64]\n",
      "\t [[{{node inputs}}]]\n",
      "2023-08-22 14:30:00.092038: I tensorflow/core/common_runtime/executor.cc:1197] [/device:CPU:0] (DEBUG INFO) Executor start aborting (this does not indicate an error and you can ignore this message): INVALID_ARGUMENT: You must feed a value for placeholder tensor 'inputs' with dtype float and shape [?,384]\n",
      "\t [[{{node inputs}}]]\n",
      "2023-08-22 14:30:00.132172: I tensorflow/core/common_runtime/executor.cc:1197] [/device:CPU:0] (DEBUG INFO) Executor start aborting (this does not indicate an error and you can ignore this message): INVALID_ARGUMENT: You must feed a value for placeholder tensor 'inputs' with dtype float and shape [?,57,57,64]\n",
      "\t [[{{node inputs}}]]\n",
      "2023-08-22 14:30:00.197296: I tensorflow/core/common_runtime/executor.cc:1197] [/device:CPU:0] (DEBUG INFO) Executor start aborting (this does not indicate an error and you can ignore this message): INVALID_ARGUMENT: You must feed a value for placeholder tensor 'inputs' with dtype float and shape [?,384]\n",
      "\t [[{{node inputs}}]]\n",
      "2023-08-22 14:30:00.237584: I tensorflow/core/common_runtime/executor.cc:1197] [/device:CPU:0] (DEBUG INFO) Executor start aborting (this does not indicate an error and you can ignore this message): INVALID_ARGUMENT: You must feed a value for placeholder tensor 'inputs' with dtype float and shape [?,57,57,64]\n",
      "\t [[{{node inputs}}]]\n",
      "2023-08-22 14:30:00.302101: I tensorflow/core/common_runtime/executor.cc:1197] [/device:CPU:0] (DEBUG INFO) Executor start aborting (this does not indicate an error and you can ignore this message): INVALID_ARGUMENT: You must feed a value for placeholder tensor 'inputs' with dtype float and shape [?,384]\n",
      "\t [[{{node inputs}}]]\n",
      "2023-08-22 14:30:00.344215: I tensorflow/core/common_runtime/executor.cc:1197] [/device:CPU:0] (DEBUG INFO) Executor start aborting (this does not indicate an error and you can ignore this message): INVALID_ARGUMENT: You must feed a value for placeholder tensor 'inputs' with dtype float and shape [?,57,57,64]\n",
      "\t [[{{node inputs}}]]\n",
      "2023-08-22 14:30:00.410094: I tensorflow/core/common_runtime/executor.cc:1197] [/device:CPU:0] (DEBUG INFO) Executor start aborting (this does not indicate an error and you can ignore this message): INVALID_ARGUMENT: You must feed a value for placeholder tensor 'inputs' with dtype float and shape [?,384]\n",
      "\t [[{{node inputs}}]]\n",
      "2023-08-22 14:30:00.499511: I tensorflow/core/common_runtime/executor.cc:1197] [/device:CPU:0] (DEBUG INFO) Executor start aborting (this does not indicate an error and you can ignore this message): INVALID_ARGUMENT: You must feed a value for placeholder tensor 'inputs' with dtype float and shape [?,768]\n",
      "\t [[{{node inputs}}]]\n",
      "2023-08-22 14:30:00.539740: I tensorflow/core/common_runtime/executor.cc:1197] [/device:CPU:0] (DEBUG INFO) Executor start aborting (this does not indicate an error and you can ignore this message): INVALID_ARGUMENT: You must feed a value for placeholder tensor 'inputs' with dtype float and shape [?,29,29,128]\n",
      "\t [[{{node inputs}}]]\n",
      "2023-08-22 14:30:00.604212: I tensorflow/core/common_runtime/executor.cc:1197] [/device:CPU:0] (DEBUG INFO) Executor start aborting (this does not indicate an error and you can ignore this message): INVALID_ARGUMENT: You must feed a value for placeholder tensor 'inputs' with dtype float and shape [?,768]\n",
      "\t [[{{node inputs}}]]\n",
      "2023-08-22 14:30:00.645979: I tensorflow/core/common_runtime/executor.cc:1197] [/device:CPU:0] (DEBUG INFO) Executor start aborting (this does not indicate an error and you can ignore this message): INVALID_ARGUMENT: You must feed a value for placeholder tensor 'inputs' with dtype float and shape [?,29,29,128]\n",
      "\t [[{{node inputs}}]]\n",
      "2023-08-22 14:30:00.708871: I tensorflow/core/common_runtime/executor.cc:1197] [/device:CPU:0] (DEBUG INFO) Executor start aborting (this does not indicate an error and you can ignore this message): INVALID_ARGUMENT: You must feed a value for placeholder tensor 'inputs' with dtype float and shape [?,768]\n",
      "\t [[{{node inputs}}]]\n",
      "2023-08-22 14:30:00.748255: I tensorflow/core/common_runtime/executor.cc:1197] [/device:CPU:0] (DEBUG INFO) Executor start aborting (this does not indicate an error and you can ignore this message): INVALID_ARGUMENT: You must feed a value for placeholder tensor 'inputs' with dtype float and shape [?,29,29,128]\n",
      "\t [[{{node inputs}}]]\n",
      "2023-08-22 14:30:00.813459: I tensorflow/core/common_runtime/executor.cc:1197] [/device:CPU:0] (DEBUG INFO) Executor start aborting (this does not indicate an error and you can ignore this message): INVALID_ARGUMENT: You must feed a value for placeholder tensor 'inputs' with dtype float and shape [?,768]\n",
      "\t [[{{node inputs}}]]\n",
      "2023-08-22 14:30:00.852084: I tensorflow/core/common_runtime/executor.cc:1197] [/device:CPU:0] (DEBUG INFO) Executor start aborting (this does not indicate an error and you can ignore this message): INVALID_ARGUMENT: You must feed a value for placeholder tensor 'inputs' with dtype float and shape [?,29,29,128]\n",
      "\t [[{{node inputs}}]]\n",
      "2023-08-22 14:30:00.916029: I tensorflow/core/common_runtime/executor.cc:1197] [/device:CPU:0] (DEBUG INFO) Executor start aborting (this does not indicate an error and you can ignore this message): INVALID_ARGUMENT: You must feed a value for placeholder tensor 'inputs' with dtype float and shape [?,768]\n",
      "\t [[{{node inputs}}]]\n",
      "2023-08-22 14:30:00.957122: I tensorflow/core/common_runtime/executor.cc:1197] [/device:CPU:0] (DEBUG INFO) Executor start aborting (this does not indicate an error and you can ignore this message): INVALID_ARGUMENT: You must feed a value for placeholder tensor 'inputs' with dtype float and shape [?,29,29,128]\n",
      "\t [[{{node inputs}}]]\n",
      "2023-08-22 14:30:01.020410: I tensorflow/core/common_runtime/executor.cc:1197] [/device:CPU:0] (DEBUG INFO) Executor start aborting (this does not indicate an error and you can ignore this message): INVALID_ARGUMENT: You must feed a value for placeholder tensor 'inputs' with dtype float and shape [?,768]\n",
      "\t [[{{node inputs}}]]\n",
      "2023-08-22 14:30:01.060005: I tensorflow/core/common_runtime/executor.cc:1197] [/device:CPU:0] (DEBUG INFO) Executor start aborting (this does not indicate an error and you can ignore this message): INVALID_ARGUMENT: You must feed a value for placeholder tensor 'inputs' with dtype float and shape [?,29,29,128]\n",
      "\t [[{{node inputs}}]]\n",
      "2023-08-22 14:30:01.124259: I tensorflow/core/common_runtime/executor.cc:1197] [/device:CPU:0] (DEBUG INFO) Executor start aborting (this does not indicate an error and you can ignore this message): INVALID_ARGUMENT: You must feed a value for placeholder tensor 'inputs' with dtype float and shape [?,768]\n",
      "\t [[{{node inputs}}]]\n",
      "2023-08-22 14:30:01.213131: I tensorflow/core/common_runtime/executor.cc:1197] [/device:CPU:0] (DEBUG INFO) Executor start aborting (this does not indicate an error and you can ignore this message): INVALID_ARGUMENT: You must feed a value for placeholder tensor 'inputs' with dtype float and shape [?,1056]\n",
      "\t [[{{node inputs}}]]\n",
      "2023-08-22 14:30:01.253523: I tensorflow/core/common_runtime/executor.cc:1197] [/device:CPU:0] (DEBUG INFO) Executor start aborting (this does not indicate an error and you can ignore this message): INVALID_ARGUMENT: You must feed a value for placeholder tensor 'inputs' with dtype float and shape [?,29,29,176]\n",
      "\t [[{{node inputs}}]]\n",
      "2023-08-22 14:30:01.316088: I tensorflow/core/common_runtime/executor.cc:1197] [/device:CPU:0] (DEBUG INFO) Executor start aborting (this does not indicate an error and you can ignore this message): INVALID_ARGUMENT: You must feed a value for placeholder tensor 'inputs' with dtype float and shape [?,1056]\n",
      "\t [[{{node inputs}}]]\n",
      "2023-08-22 14:30:01.357293: I tensorflow/core/common_runtime/executor.cc:1197] [/device:CPU:0] (DEBUG INFO) Executor start aborting (this does not indicate an error and you can ignore this message): INVALID_ARGUMENT: You must feed a value for placeholder tensor 'inputs' with dtype float and shape [?,29,29,176]\n",
      "\t [[{{node inputs}}]]\n",
      "2023-08-22 14:30:01.420533: I tensorflow/core/common_runtime/executor.cc:1197] [/device:CPU:0] (DEBUG INFO) Executor start aborting (this does not indicate an error and you can ignore this message): INVALID_ARGUMENT: You must feed a value for placeholder tensor 'inputs' with dtype float and shape [?,1056]\n",
      "\t [[{{node inputs}}]]\n",
      "2023-08-22 14:30:01.460174: I tensorflow/core/common_runtime/executor.cc:1197] [/device:CPU:0] (DEBUG INFO) Executor start aborting (this does not indicate an error and you can ignore this message): INVALID_ARGUMENT: You must feed a value for placeholder tensor 'inputs' with dtype float and shape [?,29,29,176]\n",
      "\t [[{{node inputs}}]]\n",
      "2023-08-22 14:30:01.525461: I tensorflow/core/common_runtime/executor.cc:1197] [/device:CPU:0] (DEBUG INFO) Executor start aborting (this does not indicate an error and you can ignore this message): INVALID_ARGUMENT: You must feed a value for placeholder tensor 'inputs' with dtype float and shape [?,1056]\n",
      "\t [[{{node inputs}}]]\n",
      "2023-08-22 14:30:01.564712: I tensorflow/core/common_runtime/executor.cc:1197] [/device:CPU:0] (DEBUG INFO) Executor start aborting (this does not indicate an error and you can ignore this message): INVALID_ARGUMENT: You must feed a value for placeholder tensor 'inputs' with dtype float and shape [?,29,29,176]\n",
      "\t [[{{node inputs}}]]\n",
      "2023-08-22 14:30:01.629764: I tensorflow/core/common_runtime/executor.cc:1197] [/device:CPU:0] (DEBUG INFO) Executor start aborting (this does not indicate an error and you can ignore this message): INVALID_ARGUMENT: You must feed a value for placeholder tensor 'inputs' with dtype float and shape [?,1056]\n",
      "\t [[{{node inputs}}]]\n",
      "2023-08-22 14:30:01.672173: I tensorflow/core/common_runtime/executor.cc:1197] [/device:CPU:0] (DEBUG INFO) Executor start aborting (this does not indicate an error and you can ignore this message): INVALID_ARGUMENT: You must feed a value for placeholder tensor 'inputs' with dtype float and shape [?,29,29,176]\n",
      "\t [[{{node inputs}}]]\n",
      "2023-08-22 14:30:01.740520: I tensorflow/core/common_runtime/executor.cc:1197] [/device:CPU:0] (DEBUG INFO) Executor start aborting (this does not indicate an error and you can ignore this message): INVALID_ARGUMENT: You must feed a value for placeholder tensor 'inputs' with dtype float and shape [?,1056]\n",
      "\t [[{{node inputs}}]]\n",
      "2023-08-22 14:30:01.783026: I tensorflow/core/common_runtime/executor.cc:1197] [/device:CPU:0] (DEBUG INFO) Executor start aborting (this does not indicate an error and you can ignore this message): INVALID_ARGUMENT: You must feed a value for placeholder tensor 'inputs' with dtype float and shape [?,29,29,176]\n",
      "\t [[{{node inputs}}]]\n",
      "2023-08-22 14:30:01.851933: I tensorflow/core/common_runtime/executor.cc:1197] [/device:CPU:0] (DEBUG INFO) Executor start aborting (this does not indicate an error and you can ignore this message): INVALID_ARGUMENT: You must feed a value for placeholder tensor 'inputs' with dtype float and shape [?,1056]\n",
      "\t [[{{node inputs}}]]\n",
      "2023-08-22 14:30:01.940093: I tensorflow/core/common_runtime/executor.cc:1197] [/device:CPU:0] (DEBUG INFO) Executor start aborting (this does not indicate an error and you can ignore this message): INVALID_ARGUMENT: You must feed a value for placeholder tensor 'inputs' with dtype float and shape [?,1824]\n",
      "\t [[{{node inputs}}]]\n",
      "2023-08-22 14:30:01.980119: I tensorflow/core/common_runtime/executor.cc:1197] [/device:CPU:0] (DEBUG INFO) Executor start aborting (this does not indicate an error and you can ignore this message): INVALID_ARGUMENT: You must feed a value for placeholder tensor 'inputs' with dtype float and shape [?,15,15,304]\n",
      "\t [[{{node inputs}}]]\n",
      "2023-08-22 14:30:02.357507: I tensorflow/core/common_runtime/executor.cc:1197] [/device:CPU:0] (DEBUG INFO) Executor start aborting (this does not indicate an error and you can ignore this message): INVALID_ARGUMENT: You must feed a value for placeholder tensor 'inputs' with dtype float and shape [?,1824]\n",
      "\t [[{{node inputs}}]]\n",
      "2023-08-22 14:30:02.397367: I tensorflow/core/common_runtime/executor.cc:1197] [/device:CPU:0] (DEBUG INFO) Executor start aborting (this does not indicate an error and you can ignore this message): INVALID_ARGUMENT: You must feed a value for placeholder tensor 'inputs' with dtype float and shape [?,15,15,304]\n",
      "\t [[{{node inputs}}]]\n",
      "2023-08-22 14:30:02.461466: I tensorflow/core/common_runtime/executor.cc:1197] [/device:CPU:0] (DEBUG INFO) Executor start aborting (this does not indicate an error and you can ignore this message): INVALID_ARGUMENT: You must feed a value for placeholder tensor 'inputs' with dtype float and shape [?,1824]\n",
      "\t [[{{node inputs}}]]\n",
      "2023-08-22 14:30:02.501313: I tensorflow/core/common_runtime/executor.cc:1197] [/device:CPU:0] (DEBUG INFO) Executor start aborting (this does not indicate an error and you can ignore this message): INVALID_ARGUMENT: You must feed a value for placeholder tensor 'inputs' with dtype float and shape [?,15,15,304]\n",
      "\t [[{{node inputs}}]]\n",
      "2023-08-22 14:30:02.563878: I tensorflow/core/common_runtime/executor.cc:1197] [/device:CPU:0] (DEBUG INFO) Executor start aborting (this does not indicate an error and you can ignore this message): INVALID_ARGUMENT: You must feed a value for placeholder tensor 'inputs' with dtype float and shape [?,1824]\n",
      "\t [[{{node inputs}}]]\n",
      "2023-08-22 14:30:02.604369: I tensorflow/core/common_runtime/executor.cc:1197] [/device:CPU:0] (DEBUG INFO) Executor start aborting (this does not indicate an error and you can ignore this message): INVALID_ARGUMENT: You must feed a value for placeholder tensor 'inputs' with dtype float and shape [?,15,15,304]\n",
      "\t [[{{node inputs}}]]\n",
      "2023-08-22 14:30:02.667446: I tensorflow/core/common_runtime/executor.cc:1197] [/device:CPU:0] (DEBUG INFO) Executor start aborting (this does not indicate an error and you can ignore this message): INVALID_ARGUMENT: You must feed a value for placeholder tensor 'inputs' with dtype float and shape [?,1824]\n",
      "\t [[{{node inputs}}]]\n",
      "2023-08-22 14:30:02.706585: I tensorflow/core/common_runtime/executor.cc:1197] [/device:CPU:0] (DEBUG INFO) Executor start aborting (this does not indicate an error and you can ignore this message): INVALID_ARGUMENT: You must feed a value for placeholder tensor 'inputs' with dtype float and shape [?,15,15,304]\n",
      "\t [[{{node inputs}}]]\n",
      "2023-08-22 14:30:02.770225: I tensorflow/core/common_runtime/executor.cc:1197] [/device:CPU:0] (DEBUG INFO) Executor start aborting (this does not indicate an error and you can ignore this message): INVALID_ARGUMENT: You must feed a value for placeholder tensor 'inputs' with dtype float and shape [?,1824]\n",
      "\t [[{{node inputs}}]]\n",
      "2023-08-22 14:30:02.810515: I tensorflow/core/common_runtime/executor.cc:1197] [/device:CPU:0] (DEBUG INFO) Executor start aborting (this does not indicate an error and you can ignore this message): INVALID_ARGUMENT: You must feed a value for placeholder tensor 'inputs' with dtype float and shape [?,15,15,304]\n",
      "\t [[{{node inputs}}]]\n",
      "2023-08-22 14:30:02.873455: I tensorflow/core/common_runtime/executor.cc:1197] [/device:CPU:0] (DEBUG INFO) Executor start aborting (this does not indicate an error and you can ignore this message): INVALID_ARGUMENT: You must feed a value for placeholder tensor 'inputs' with dtype float and shape [?,1824]\n",
      "\t [[{{node inputs}}]]\n",
      "2023-08-22 14:30:02.911974: I tensorflow/core/common_runtime/executor.cc:1197] [/device:CPU:0] (DEBUG INFO) Executor start aborting (this does not indicate an error and you can ignore this message): INVALID_ARGUMENT: You must feed a value for placeholder tensor 'inputs' with dtype float and shape [?,15,15,304]\n",
      "\t [[{{node inputs}}]]\n",
      "2023-08-22 14:30:02.977345: I tensorflow/core/common_runtime/executor.cc:1197] [/device:CPU:0] (DEBUG INFO) Executor start aborting (this does not indicate an error and you can ignore this message): INVALID_ARGUMENT: You must feed a value for placeholder tensor 'inputs' with dtype float and shape [?,1824]\n",
      "\t [[{{node inputs}}]]\n",
      "2023-08-22 14:30:03.015742: I tensorflow/core/common_runtime/executor.cc:1197] [/device:CPU:0] (DEBUG INFO) Executor start aborting (this does not indicate an error and you can ignore this message): INVALID_ARGUMENT: You must feed a value for placeholder tensor 'inputs' with dtype float and shape [?,15,15,304]\n",
      "\t [[{{node inputs}}]]\n",
      "2023-08-22 14:30:03.077849: I tensorflow/core/common_runtime/executor.cc:1197] [/device:CPU:0] (DEBUG INFO) Executor start aborting (this does not indicate an error and you can ignore this message): INVALID_ARGUMENT: You must feed a value for placeholder tensor 'inputs' with dtype float and shape [?,1824]\n",
      "\t [[{{node inputs}}]]\n",
      "2023-08-22 14:30:03.164804: I tensorflow/core/common_runtime/executor.cc:1197] [/device:CPU:0] (DEBUG INFO) Executor start aborting (this does not indicate an error and you can ignore this message): INVALID_ARGUMENT: You must feed a value for placeholder tensor 'inputs' with dtype float and shape [?,3072]\n",
      "\t [[{{node inputs}}]]\n",
      "2023-08-22 14:30:03.205244: I tensorflow/core/common_runtime/executor.cc:1197] [/device:CPU:0] (DEBUG INFO) Executor start aborting (this does not indicate an error and you can ignore this message): INVALID_ARGUMENT: You must feed a value for placeholder tensor 'inputs' with dtype float and shape [?,15,15,512]\n",
      "\t [[{{node inputs}}]]\n",
      "2023-08-22 14:30:03.267901: I tensorflow/core/common_runtime/executor.cc:1197] [/device:CPU:0] (DEBUG INFO) Executor start aborting (this does not indicate an error and you can ignore this message): INVALID_ARGUMENT: You must feed a value for placeholder tensor 'inputs' with dtype float and shape [?,3072]\n",
      "\t [[{{node inputs}}]]\n",
      "2023-08-22 14:30:03.308269: I tensorflow/core/common_runtime/executor.cc:1197] [/device:CPU:0] (DEBUG INFO) Executor start aborting (this does not indicate an error and you can ignore this message): INVALID_ARGUMENT: You must feed a value for placeholder tensor 'inputs' with dtype float and shape [?,15,15,512]\n",
      "\t [[{{node inputs}}]]\n",
      "2023-08-22 14:30:03.367358: I tensorflow/core/common_runtime/executor.cc:1197] [/device:CPU:0] (DEBUG INFO) Executor start aborting (this does not indicate an error and you can ignore this message): INVALID_ARGUMENT: You must feed a value for placeholder tensor 'inputs' with dtype float and shape [?,2048]\n",
      "\t [[{{node inputs}}]]\n",
      "WARNING:absl:Found untraced functions such as _jit_compiled_convolution_op, _jit_compiled_convolution_op, _jit_compiled_convolution_op, _jit_compiled_convolution_op, _jit_compiled_convolution_op while saving (showing 5 of 194). These functions will not be directly callable after loading.\n"
     ]
    },
    {
     "name": "stdout",
     "output_type": "stream",
     "text": [
      "INFO:tensorflow:Assets written to: model_weights/effnet_b5_tl/assets\n"
     ]
    },
    {
     "name": "stderr",
     "output_type": "stream",
     "text": [
      "INFO:tensorflow:Assets written to: model_weights/effnet_b5_tl/assets\n"
     ]
    }
   ],
   "source": [
    "tf.saved_model.save(eff_b5_tl, 'model_weights/effnet_b5_tl')"
   ]
  },
  {
   "cell_type": "code",
   "execution_count": 27,
   "metadata": {},
   "outputs": [
    {
     "data": {
      "image/png": "[encoded data removed]",
      "text/plain": [
       "<Figure size 640x480 with 1 Axes>"
      ]
     },
     "metadata": {},
     "output_type": "display_data"
    }
   ],
   "source": [
    "plot_model(model_saved, 20,'performance_plots/effb5_tl.png')"
   ]
  },
  {
   "cell_type": "markdown",
   "metadata": {},
   "source": [
    "#### B6"
   ]
  },
  {
   "cell_type": "code",
   "execution_count": 20,
   "metadata": {},
   "outputs": [
    {
     "name": "stderr",
     "output_type": "stream",
     "text": [
      "2023-08-22 15:45:24.653898: I tensorflow/core/common_runtime/executor.cc:1197] [/device:CPU:0] (DEBUG INFO) Executor start aborting (this does not indicate an error and you can ignore this message): INVALID_ARGUMENT: You must feed a value for placeholder tensor 'Placeholder/_4' with dtype int32 and shape [31920]\n",
      "\t [[{{node Placeholder/_4}}]]\n",
      "2023-08-22 15:45:24.654095: I tensorflow/core/common_runtime/executor.cc:1197] [/device:CPU:0] (DEBUG INFO) Executor start aborting (this does not indicate an error and you can ignore this message): INVALID_ARGUMENT: You must feed a value for placeholder tensor 'Placeholder/_4' with dtype int32 and shape [31920]\n",
      "\t [[{{node Placeholder/_4}}]]\n"
     ]
    },
    {
     "name": "stdout",
     "output_type": "stream",
     "text": [
      "Shape of a sample image in training_ds_resized: (32, 528, 528, 3)\n"
     ]
    },
    {
     "name": "stderr",
     "output_type": "stream",
     "text": [
      "2023-08-22 15:45:24.807672: W tensorflow/core/kernels/data/cache_dataset_ops.cc:856] The calling iterator did not fully read the dataset being cached. In order to avoid unexpected truncation of the dataset, the partially cached contents of the dataset  will be discarded. This can happen if you have an input pipeline similar to `dataset.cache().take(k).repeat()`. You should use `dataset.take(k).cache().repeat()` instead.\n"
     ]
    }
   ],
   "source": [
    "from tensorflow.keras.applications.efficientnet import preprocess_input \n",
    "target_size =  (528,528) \n",
    "training_ds_resized = training_ds.map(preprocess_image) \n",
    "testing_ds_resized = testing_ds.map(preprocess_image) \n",
    "sample_image, _ = next(iter(testing_ds_resized.take(1)))\n",
    "sample_image_shape = sample_image.shape\n",
    "\n",
    "print(\"Shape of a sample image in training_ds_resized:\", sample_image_shape)"
   ]
  },
  {
   "cell_type": "code",
   "execution_count": null,
   "metadata": {},
   "outputs": [
    {
     "name": "stdout",
     "output_type": "stream",
     "text": [
      "Epoch 1/20\n"
     ]
    },
    {
     "name": "stderr",
     "output_type": "stream",
     "text": [
      "2023-08-22 15:45:30.619200: I tensorflow/core/common_runtime/executor.cc:1197] [/device:CPU:0] (DEBUG INFO) Executor start aborting (this does not indicate an error and you can ignore this message): INVALID_ARGUMENT: You must feed a value for placeholder tensor 'Placeholder/_0' with dtype string and shape [88080]\n",
      "\t [[{{node Placeholder/_0}}]]\n",
      "2023-08-22 15:45:30.619383: I tensorflow/core/common_runtime/executor.cc:1197] [/device:CPU:0] (DEBUG INFO) Executor start aborting (this does not indicate an error and you can ignore this message): INVALID_ARGUMENT: You must feed a value for placeholder tensor 'Placeholder/_0' with dtype string and shape [88080]\n",
      "\t [[{{node Placeholder/_0}}]]\n",
      "2023-08-22 15:45:44.948489: I tensorflow/compiler/xla/stream_executor/cuda/cuda_dnn.cc:424] Loaded cuDNN version 8600\n",
      "2023-08-22 15:45:45.505925: I tensorflow/compiler/xla/stream_executor/cuda/cuda_blas.cc:637] TensorFloat-32 will be used for the matrix multiplication. This will only be logged once.\n",
      "2023-08-22 15:45:45.886309: I tensorflow/compiler/xla/service/service.cc:169] XLA service 0x7f37d8014f50 initialized for platform CUDA (this does not guarantee that XLA will be used). Devices:\n",
      "2023-08-22 15:45:45.886324: I tensorflow/compiler/xla/service/service.cc:177]   StreamExecutor device (0): NVIDIA GeForce RTX 3090 Ti, Compute Capability 8.6\n",
      "2023-08-22 15:45:45.889007: I tensorflow/compiler/mlir/tensorflow/utils/dump_mlir_util.cc:269] disabling MLIR crash reproducer, set env var `MLIR_CRASH_REPRODUCER_DIRECTORY` to enable.\n",
      "2023-08-22 15:45:46.000319: I ./tensorflow/compiler/jit/device_compiler.h:180] Compiled cluster using XLA!  This line is logged at most once for the lifetime of the process.\n"
     ]
    },
    {
     "name": "stdout",
     "output_type": "stream",
     "text": [
      "2753/2753 [==============================] - ETA: 0s - loss: 1.2405 - accuracy: 0.6875"
     ]
    },
    {
     "name": "stderr",
     "output_type": "stream",
     "text": [
      "2023-08-22 16:02:44.470191: I tensorflow/core/common_runtime/executor.cc:1197] [/device:CPU:0] (DEBUG INFO) Executor start aborting (this does not indicate an error and you can ignore this message): INVALID_ARGUMENT: You must feed a value for placeholder tensor 'Placeholder/_4' with dtype int32 and shape [31920]\n",
      "\t [[{{node Placeholder/_4}}]]\n",
      "2023-08-22 16:02:44.470435: I tensorflow/core/common_runtime/executor.cc:1197] [/device:CPU:0] (DEBUG INFO) Executor start aborting (this does not indicate an error and you can ignore this message): INVALID_ARGUMENT: You must feed a value for placeholder tensor 'Placeholder/_0' with dtype string and shape [31920]\n",
      "\t [[{{node Placeholder/_0}}]]\n"
     ]
    },
    {
     "name": "stdout",
     "output_type": "stream",
     "text": [
      "2753/2753 [==============================] - 1397s 502ms/step - loss: 1.2405 - accuracy: 0.6875 - val_loss: 2.4690 - val_accuracy: 0.3003\n",
      "Epoch 2/20\n",
      "2753/2753 [==============================] - 1375s 499ms/step - loss: 0.9083 - accuracy: 0.6989 - val_loss: 2.6593 - val_accuracy: 0.2867\n",
      "Epoch 3/20\n",
      "2753/2753 [==============================] - 1380s 501ms/step - loss: 0.9389 - accuracy: 0.6914 - val_loss: 2.8721 - val_accuracy: 0.2716\n",
      "Epoch 4/20\n",
      "2753/2753 [==============================] - 1371s 498ms/step - loss: 0.9413 - accuracy: 0.6922 - val_loss: 2.7243 - val_accuracy: 0.2694\n",
      "Epoch 5/20\n",
      "1007/2753 [=========>....................] - ETA: 10:56 - loss: 0.9445 - accuracy: 0.6924"
     ]
    }
   ],
   "source": [
    "#efficient net b6 with transfer learning from image net\n",
    "\n",
    "from tensorflow.keras.applications import EfficientNetB6\n",
    "batch_size = 32\n",
    "img_height = 528\n",
    "img_width = 528\n",
    "\n",
    "inputs = layers.Input(shape=(img_height, img_width, 3))\n",
    "x = inputs\n",
    "eff_b6_tl = EfficientNetB6(include_top=False, input_tensor=x, weights=\"imagenet\")\n",
    "\n",
    "# Freeze the pretrained weights\n",
    "eff_b6_tl.trainable = False\n",
    "\n",
    "# Rebuild top\n",
    "x = layers.GlobalAveragePooling2D(name=\"avg_pool\")(eff_b6_tl.output)\n",
    "x = layers.BatchNormalization()(x)\n",
    "\n",
    "top_dropout_rate = 0.2\n",
    "x = layers.Dropout(top_dropout_rate, name=\"top_dropout\")(x)\n",
    "outputs = layers.Dense(6, activation=\"softmax\", name=\"pred\")(x)\n",
    "\n",
    "# Compile\n",
    "eff_b6_tl = tf.keras.Model(inputs, outputs, name=\"EfficientNet\")\n",
    "optimizer = tf.keras.optimizers.Adam(learning_rate=1e-2)\n",
    "eff_b6_tl.compile(optimizer=optimizer, loss=\"categorical_crossentropy\", metrics=[\"accuracy\"])\n",
    "model_saved=eff_b6_tl.fit(training_ds_resized, validation_data = testing_ds_resized, batch_size = batch_size, epochs = 20, callbacks = [callbacks]) "
   ]
  },
  {
   "cell_type": "code",
   "execution_count": null,
   "metadata": {},
   "outputs": [],
   "source": [
    "tf.saved_model.save(eff_b6_tl, 'model_weights/effnet_b6_tl')"
   ]
  },
  {
   "cell_type": "code",
   "execution_count": null,
   "metadata": {},
   "outputs": [],
   "source": [
    "plot_model(model_saved, 20,'performance_plots/effb6_tl.png')"
   ]
  },
  {
   "cell_type": "markdown",
   "metadata": {},
   "source": [
    "#### B7"
   ]
  },
  {
   "cell_type": "code",
   "execution_count": null,
   "metadata": {},
   "outputs": [],
   "source": [
    "from tensorflow.keras.applications.efficientnet import preprocess_input \n",
    "target_size =  (600,600) \n",
    "training_ds_resized = training_ds.map(preprocess_image) \n",
    "testing_ds_resized = testing_ds.map(preprocess_image) \n",
    "sample_image, _ = next(iter(testing_ds_resized.take(1)))\n",
    "sample_image_shape = sample_image.shape\n",
    "\n",
    "print(\"Shape of a sample image in training_ds_resized:\", sample_image_shape)"
   ]
  },
  {
   "cell_type": "code",
   "execution_count": null,
   "metadata": {},
   "outputs": [],
   "source": [
    "#efficient net b7 with transfer learning from image net\n",
    "\n",
    "from tensorflow.keras.applications import EfficientNetB7\n",
    "batch_size = 32\n",
    "img_height = 600\n",
    "img_width = 600\n",
    "\n",
    "inputs = layers.Input(shape=(img_height, img_width, 3))\n",
    "x = inputs\n",
    "eff_b7_tl = EfficientNetB7(include_top=False, input_tensor=x, weights=\"imagenet\")\n",
    "\n",
    "# Freeze the pretrained weights\n",
    "eff_b7_tl.trainable = False\n",
    "\n",
    "# Rebuild top\n",
    "x = layers.GlobalAveragePooling2D(name=\"avg_pool\")(eff_b7_tl.output)\n",
    "x = layers.BatchNormalization()(x)\n",
    "\n",
    "top_dropout_rate = 0.2\n",
    "x = layers.Dropout(top_dropout_rate, name=\"top_dropout\")(x)\n",
    "outputs = layers.Dense(6, activation=\"softmax\", name=\"pred\")(x)\n",
    "\n",
    "# Compile\n",
    "eff_b7_tl = tf.keras.Model(inputs, outputs, name=\"EfficientNet\")\n",
    "optimizer = tf.keras.optimizers.Adam(learning_rate=1e-2)\n",
    "eff_b7_tl.compile(optimizer=optimizer, loss=\"categorical_crossentropy\", metrics=[\"accuracy\"])\n",
    "model_saved=eff_b7_tl.fit(training_ds_resized, validation_data = testing_ds_resized, batch_size = batch_size, epochs = 20, callbacks = [callbacks]) "
   ]
  },
  {
   "cell_type": "code",
   "execution_count": null,
   "metadata": {},
   "outputs": [],
   "source": [
    "tf.saved_model.save(eff_b7_tl, 'model_weights/effnet_b7_tl')"
   ]
  },
  {
   "cell_type": "code",
   "execution_count": null,
   "metadata": {},
   "outputs": [],
   "source": [
    "plot_model(model_saved, 20,'performance_plots/effb7_tl.png')"
   ]
  },
  {
   "cell_type": "markdown",
   "metadata": {},
   "source": [
    "# Other baselines - VGGFACE16, RES, MOBILE "
   ]
  },
  {
   "cell_type": "code",
   "execution_count": 23,
   "metadata": {},
   "outputs": [],
   "source": [
    "import ssl\n",
    "ssl._create_default_https_context = ssl._create_unverified_context"
   ]
  },
  {
   "cell_type": "code",
   "execution_count": 24,
   "metadata": {},
   "outputs": [],
   "source": [
    "target_size = (200,200)\n",
    "img_height = 200\n",
    "img_width = 200\n",
    "training_ds_resized = training_ds.map(preprocess_image) \n",
    "testing_ds_resized = testing_ds.map(preprocess_image) "
   ]
  },
  {
   "cell_type": "markdown",
   "metadata": {},
   "source": [
    "### VGG-16"
   ]
  },
  {
   "cell_type": "code",
   "execution_count": 20,
   "metadata": {},
   "outputs": [
    {
     "name": "stdout",
     "output_type": "stream",
     "text": [
      "Epoch 1/20\n"
     ]
    },
    {
     "name": "stderr",
     "output_type": "stream",
     "text": [
      "2023-08-22 18:37:25.290883: I tensorflow/core/common_runtime/executor.cc:1197] [/device:CPU:0] (DEBUG INFO) Executor start aborting (this does not indicate an error and you can ignore this message): INVALID_ARGUMENT: You must feed a value for placeholder tensor 'Placeholder/_4' with dtype int32 and shape [26880]\n",
      "\t [[{{node Placeholder/_4}}]]\n",
      "2023-08-22 18:37:25.291054: I tensorflow/core/common_runtime/executor.cc:1197] [/device:CPU:0] (DEBUG INFO) Executor start aborting (this does not indicate an error and you can ignore this message): INVALID_ARGUMENT: You must feed a value for placeholder tensor 'Placeholder/_4' with dtype int32 and shape [26880]\n",
      "\t [[{{node Placeholder/_4}}]]\n",
      "2023-08-22 18:37:26.657777: I tensorflow/compiler/xla/stream_executor/cuda/cuda_dnn.cc:424] Loaded cuDNN version 8600\n",
      "2023-08-22 18:37:27.361480: I tensorflow/compiler/xla/stream_executor/cuda/cuda_blas.cc:637] TensorFloat-32 will be used for the matrix multiplication. This will only be logged once.\n",
      "2023-08-22 18:37:27.378449: I tensorflow/compiler/xla/service/service.cc:169] XLA service 0x7fae741b4690 initialized for platform CUDA (this does not guarantee that XLA will be used). Devices:\n",
      "2023-08-22 18:37:27.378461: I tensorflow/compiler/xla/service/service.cc:177]   StreamExecutor device (0): NVIDIA GeForce RTX 3090 Ti, Compute Capability 8.6\n",
      "2023-08-22 18:37:27.380867: I tensorflow/compiler/mlir/tensorflow/utils/dump_mlir_util.cc:269] disabling MLIR crash reproducer, set env var `MLIR_CRASH_REPRODUCER_DIRECTORY` to enable.\n",
      "2023-08-22 18:37:27.479886: I ./tensorflow/compiler/jit/device_compiler.h:180] Compiled cluster using XLA!  This line is logged at most once for the lifetime of the process.\n"
     ]
    },
    {
     "name": "stdout",
     "output_type": "stream",
     "text": [
      "839/840 [============================>.] - ETA: 0s - loss: 1.5208 - accuracy: 0.4201"
     ]
    },
    {
     "name": "stderr",
     "output_type": "stream",
     "text": [
      "2023-08-22 18:38:02.958612: I tensorflow/core/common_runtime/executor.cc:1197] [/device:CPU:0] (DEBUG INFO) Executor start aborting (this does not indicate an error and you can ignore this message): INVALID_ARGUMENT: You must feed a value for placeholder tensor 'Placeholder/_0' with dtype string and shape [7178]\n",
      "\t [[{{node Placeholder/_0}}]]\n",
      "2023-08-22 18:38:02.958897: I tensorflow/core/common_runtime/executor.cc:1197] [/device:CPU:0] (DEBUG INFO) Executor start aborting (this does not indicate an error and you can ignore this message): INVALID_ARGUMENT: You must feed a value for placeholder tensor 'Placeholder/_0' with dtype string and shape [7178]\n",
      "\t [[{{node Placeholder/_0}}]]\n"
     ]
    },
    {
     "name": "stdout",
     "output_type": "stream",
     "text": [
      "840/840 [==============================] - 46s 52ms/step - loss: 1.5208 - accuracy: 0.4202 - val_loss: 1.5311 - val_accuracy: 0.2818\n",
      "Epoch 2/20\n",
      "840/840 [==============================] - 43s 51ms/step - loss: 1.2525 - accuracy: 0.4901 - val_loss: 1.5537 - val_accuracy: 0.3096\n",
      "Epoch 3/20\n",
      "840/840 [==============================] - 42s 50ms/step - loss: 1.1915 - accuracy: 0.5215 - val_loss: 1.5886 - val_accuracy: 0.3135\n",
      "Epoch 4/20\n",
      "840/840 [==============================] - 43s 51ms/step - loss: 1.1498 - accuracy: 0.5370 - val_loss: 1.5584 - val_accuracy: 0.3306\n",
      "Epoch 5/20\n",
      "840/840 [==============================] - 43s 51ms/step - loss: 1.1244 - accuracy: 0.5469 - val_loss: 1.6145 - val_accuracy: 0.3231\n",
      "Epoch 6/20\n",
      "840/840 [==============================] - 43s 51ms/step - loss: 1.1075 - accuracy: 0.5545 - val_loss: 1.6441 - val_accuracy: 0.3231\n",
      "Epoch 7/20\n",
      "840/840 [==============================] - 43s 51ms/step - loss: 1.0875 - accuracy: 0.5610 - val_loss: 1.6546 - val_accuracy: 0.3284\n",
      "Epoch 8/20\n",
      "840/840 [==============================] - 42s 51ms/step - loss: 1.0737 - accuracy: 0.5648 - val_loss: 1.5988 - val_accuracy: 0.3356\n",
      "Epoch 9/20\n",
      "840/840 [==============================] - 43s 51ms/step - loss: 1.0629 - accuracy: 0.5698 - val_loss: 1.5916 - val_accuracy: 0.3396\n",
      "Epoch 10/20\n",
      "840/840 [==============================] - 43s 51ms/step - loss: 1.0535 - accuracy: 0.5765 - val_loss: 1.6359 - val_accuracy: 0.3291\n",
      "Epoch 11/20\n",
      "840/840 [==============================] - 43s 51ms/step - loss: 1.0401 - accuracy: 0.5818 - val_loss: 1.6838 - val_accuracy: 0.3399\n",
      "Epoch 12/20\n",
      "840/840 [==============================] - 42s 50ms/step - loss: 1.0327 - accuracy: 0.5856 - val_loss: 1.6860 - val_accuracy: 0.3337\n",
      "Epoch 13/20\n",
      "840/840 [==============================] - 43s 51ms/step - loss: 1.0235 - accuracy: 0.5884 - val_loss: 1.6644 - val_accuracy: 0.3383\n",
      "Epoch 14/20\n",
      "840/840 [==============================] - 43s 51ms/step - loss: 1.0118 - accuracy: 0.5953 - val_loss: 1.6488 - val_accuracy: 0.3384\n",
      "Epoch 15/20\n",
      "840/840 [==============================] - 43s 51ms/step - loss: 1.0007 - accuracy: 0.5988 - val_loss: 1.6441 - val_accuracy: 0.3306\n",
      "Epoch 16/20\n",
      "840/840 [==============================] - 43s 51ms/step - loss: 0.9952 - accuracy: 0.5974 - val_loss: 1.7404 - val_accuracy: 0.3378\n",
      "Epoch 17/20\n",
      "840/840 [==============================] - 42s 50ms/step - loss: 0.9934 - accuracy: 0.5992 - val_loss: 1.6866 - val_accuracy: 0.3445\n",
      "Epoch 18/20\n",
      "840/840 [==============================] - 43s 51ms/step - loss: 0.9840 - accuracy: 0.6003 - val_loss: 1.7805 - val_accuracy: 0.3468\n",
      "Epoch 19/20\n",
      "840/840 [==============================] - 42s 50ms/step - loss: 0.9790 - accuracy: 0.6044 - val_loss: 1.7474 - val_accuracy: 0.3494\n",
      "Epoch 20/20\n",
      "840/840 [==============================] - 42s 50ms/step - loss: 0.9657 - accuracy: 0.6078 - val_loss: 1.7393 - val_accuracy: 0.3395\n"
     ]
    },
    {
     "ename": "NameError",
     "evalue": "name 'model' is not defined",
     "output_type": "error",
     "traceback": [
      "\u001b[0;31m---------------------------------------------------------------------------\u001b[0m",
      "\u001b[0;31mNameError\u001b[0m                                 Traceback (most recent call last)",
      "Cell \u001b[0;32mIn[20], line 27\u001b[0m\n\u001b[1;32m     25\u001b[0m \u001b[38;5;66;03m# Train the model\u001b[39;00m\n\u001b[1;32m     26\u001b[0m model_saved \u001b[38;5;241m=\u001b[39m vgg_tl\u001b[38;5;241m.\u001b[39mfit(training_ds_resized, validation_data\u001b[38;5;241m=\u001b[39mtesting_ds_resized, batch_size\u001b[38;5;241m=\u001b[39mbatch_size, epochs\u001b[38;5;241m=\u001b[39m\u001b[38;5;241m20\u001b[39m, callbacks\u001b[38;5;241m=\u001b[39mcallbacks)\n\u001b[0;32m---> 27\u001b[0m test_loss, test_accuracy \u001b[38;5;241m=\u001b[39m \u001b[43mmodel\u001b[49m\u001b[38;5;241m.\u001b[39mevaluate(testing_ds_resized)\n\u001b[1;32m     28\u001b[0m \u001b[38;5;28mprint\u001b[39m(\u001b[38;5;124m\"\u001b[39m\u001b[38;5;124mTest accuracy:\u001b[39m\u001b[38;5;124m\"\u001b[39m, test_accuracy)\n",
      "\u001b[0;31mNameError\u001b[0m: name 'model' is not defined"
     ]
    }
   ],
   "source": [
    "import tensorflow as tf\n",
    "from tensorflow.keras.applications.vgg16 import VGG16\n",
    "from tensorflow.keras.models import Sequential\n",
    "from tensorflow.keras.layers import Dense, GlobalAveragePooling2D, BatchNormalization, Dropout\n",
    "from tensorflow.keras.models import Model\n",
    "\n",
    "inputs = layers.Input(shape=(img_height, img_width, 3))\n",
    "x = inputs\n",
    "base = VGG16(include_top=False, input_tensor=x, weights=\"imagenet\")\n",
    "\n",
    "# Freeze the pretrained weights\n",
    "base.trainable = False\n",
    "\n",
    "# Build the custom top layers\n",
    "x = base.output\n",
    "x = GlobalAveragePooling2D()(x) \n",
    "x = Dense(128, activation = 'relu')(x) \n",
    "x = Dropout(0.5)(x) \n",
    "output = Dense(num_classes, activation = 'softmax')(x) \n",
    "\n",
    "# Create the final model\n",
    "vgg_tl = Model(inputs, output)\n",
    "vgg_tl.compile(optimizer='adam', loss='categorical_crossentropy', metrics=['accuracy'])\n",
    "\n",
    "# Train the model\n",
    "model_saved = vgg_tl.fit(training_ds_resized, validation_data=testing_ds_resized, batch_size=batch_size, epochs=20, callbacks=callbacks)\n"
   ]
  },
  {
   "cell_type": "code",
   "execution_count": 21,
   "metadata": {},
   "outputs": [
    {
     "name": "stdout",
     "output_type": "stream",
     "text": [
      "225/225 [==============================] - 9s 39ms/step - loss: 1.7393 - accuracy: 0.3395\n",
      "Test accuracy: 0.33950960636138916\n"
     ]
    }
   ],
   "source": [
    "test_loss, test_accuracy = vgg_tl.evaluate(testing_ds_resized)\n",
    "print(\"Test accuracy:\", test_accuracy)"
   ]
  },
  {
   "cell_type": "code",
   "execution_count": null,
   "metadata": {},
   "outputs": [],
   "source": [
    "###to be do \n",
    "\n",
    "\n",
    "import tensorflow as tf\n",
    "from tensorflow.keras.callbacks import EarlyStopping\n",
    "\n",
    "# Define the EarlyStopping callback\n",
    "early_stopping = EarlyStopping(monitor='val_loss', patience=10, restore_best_weights=True)\n",
    "\n",
    "# Create and compile your model\n",
    "model = ...  # Define your model here\n",
    "model.compile(optimizer='adam', loss='categorical_crossentropy', metrics=['accuracy'])\n",
    "\n",
    "# Train the model with the EarlyStopping callback\n",
    "history = model.fit(training_ds_resized, validation_data=testing_ds_resized, batch_size=32, epochs=100, callbacks=[early_stopping])\n",
    "\n",
    "# Access training history\n",
    "print(history.history)\n"
   ]
  },
  {
   "cell_type": "code",
   "execution_count": 50,
   "metadata": {},
   "outputs": [],
   "source": [
    "vgg_tl.save('model_weights/vgg_tl.h5')"
   ]
  },
  {
   "cell_type": "code",
   "execution_count": 53,
   "metadata": {},
   "outputs": [
    {
     "data": {
      "image/png": "[encoded data removed]",
      "text/plain": [
       "<Figure size 640x480 with 1 Axes>"
      ]
     },
     "metadata": {},
     "output_type": "display_data"
    }
   ],
   "source": [
    "plot_model(model_saved, 'performance_plots/vgg_tl.png')"
   ]
  },
  {
   "cell_type": "markdown",
   "metadata": {},
   "source": [
    "### Mobile Net"
   ]
  },
  {
   "cell_type": "code",
   "execution_count": 28,
   "metadata": {},
   "outputs": [
    {
     "name": "stdout",
     "output_type": "stream",
     "text": [
      "WARNING:tensorflow:`input_shape` is undefined or non-square, or `rows` is not in [96, 128, 160, 192, 224]. Weights for input shape (224, 224) will be loaded as the default.\n",
      "Epoch 1/100\n",
      "840/840 [==============================] - 22s 24ms/step - loss: 1.7684 - accuracy: 0.3985 - val_loss: 1.6392 - val_accuracy: 0.2680\n",
      "Epoch 2/100\n",
      "840/840 [==============================] - 20s 24ms/step - loss: 1.4578 - accuracy: 0.4301 - val_loss: 1.6049 - val_accuracy: 0.2601\n",
      "Epoch 3/100\n",
      "840/840 [==============================] - 20s 24ms/step - loss: 1.4281 - accuracy: 0.4369 - val_loss: 1.5953 - val_accuracy: 0.2586\n",
      "Epoch 4/100\n",
      "840/840 [==============================] - 20s 23ms/step - loss: 1.4112 - accuracy: 0.4418 - val_loss: 1.6002 - val_accuracy: 0.2608\n",
      "Epoch 5/100\n",
      "840/840 [==============================] - 20s 24ms/step - loss: 1.4015 - accuracy: 0.4466 - val_loss: 1.5919 - val_accuracy: 0.2625\n",
      "Epoch 6/100\n",
      "840/840 [==============================] - 21s 24ms/step - loss: 1.3931 - accuracy: 0.4501 - val_loss: 1.5929 - val_accuracy: 0.2625\n",
      "Epoch 7/100\n",
      "840/840 [==============================] - 20s 24ms/step - loss: 1.3858 - accuracy: 0.4514 - val_loss: 1.5989 - val_accuracy: 0.2692\n",
      "Epoch 8/100\n",
      "840/840 [==============================] - 20s 24ms/step - loss: 1.3806 - accuracy: 0.4547 - val_loss: 1.5989 - val_accuracy: 0.2662\n",
      "Epoch 9/100\n",
      "840/840 [==============================] - 20s 24ms/step - loss: 1.3738 - accuracy: 0.4592 - val_loss: 1.6002 - val_accuracy: 0.2658\n",
      "Epoch 10/100\n",
      "840/840 [==============================] - 20s 24ms/step - loss: 1.3718 - accuracy: 0.4599 - val_loss: 1.5948 - val_accuracy: 0.2719\n",
      "Epoch 11/100\n",
      "840/840 [==============================] - 20s 24ms/step - loss: 1.3652 - accuracy: 0.4621 - val_loss: 1.6050 - val_accuracy: 0.2712\n",
      "Epoch 12/100\n",
      "840/840 [==============================] - 20s 24ms/step - loss: 1.3607 - accuracy: 0.4634 - val_loss: 1.6069 - val_accuracy: 0.2718\n",
      "Epoch 13/100\n",
      "840/840 [==============================] - 20s 23ms/step - loss: 1.3578 - accuracy: 0.4642 - val_loss: 1.5929 - val_accuracy: 0.2718\n",
      "Epoch 14/100\n",
      "840/840 [==============================] - 20s 24ms/step - loss: 1.3543 - accuracy: 0.4676 - val_loss: 1.5924 - val_accuracy: 0.2710\n",
      "Epoch 15/100\n",
      "840/840 [==============================] - 21s 25ms/step - loss: 1.3528 - accuracy: 0.4673 - val_loss: 1.6042 - val_accuracy: 0.2760\n",
      "225/225 [==============================] - 4s 19ms/step - loss: 1.5919 - accuracy: 0.2625\n",
      "Test Accuracy: 0.2624686658382416\n"
     ]
    }
   ],
   "source": [
    "import tensorflow as tf\n",
    "from tensorflow.keras.layers import Input, GlobalAveragePooling2D, Dense\n",
    "from tensorflow.keras.models import Model\n",
    "from tensorflow.keras.applications import MobileNetV2\n",
    "from tensorflow.keras.callbacks import EarlyStopping\n",
    "from tensorflow.keras.regularizers import l2\n",
    "\n",
    "# Load and preprocess the data\n",
    "# (Assuming you've already defined training_ds_resized and testing_ds_resized)\n",
    "\n",
    "# Define the MobileNetV2 base model\n",
    "base_model = MobileNetV2(input_shape=(200, 200, 3), include_top=False, weights='imagenet')\n",
    "\n",
    "# Optionally freeze the weights of the base model\n",
    "base_model.trainable = False\n",
    "\n",
    "# Add custom classification layers on top of the base model\n",
    "x = base_model.output\n",
    "x = GlobalAveragePooling2D()(x)\n",
    "x = Dense(128, activation='relu', kernel_regularizer=l2(0.01))(x)\n",
    "\n",
    "output = Dense(num_classes, activation='softmax')(x)\n",
    "\n",
    "# Create the final model\n",
    "model = Model(inputs=base_model.input, outputs=output)\n",
    "\n",
    "# Compile the model\n",
    "model.compile(optimizer='adam', loss='categorical_crossentropy', metrics=['accuracy'])\n",
    "\n",
    "# Define EarlyStopping callback\n",
    "early_stopping = EarlyStopping(monitor='val_loss', patience=10, restore_best_weights=True)\n",
    "\n",
    "# Train the model\n",
    "history = model.fit(training_ds_resized, validation_data=testing_ds_resized, batch_size=32, epochs=100, callbacks=[early_stopping])\n",
    "\n",
    "# Evaluate the model on test data\n",
    "test_loss, test_accuracy = model.evaluate(testing_ds_resized)\n",
    "\n",
    "# Print test accuracy\n",
    "print(\"Test Accuracy:\", test_accuracy)\n"
   ]
  },
  {
   "cell_type": "code",
   "execution_count": 27,
   "metadata": {},
   "outputs": [
    {
     "name": "stderr",
     "output_type": "stream",
     "text": [
      "/opt/homebrew/anaconda3/lib/python3.10/site-packages/keras/src/engine/training.py:3000: UserWarning: You are saving your model as an HDF5 file via `model.save()`. This file format is considered legacy. We recommend using instead the native Keras format, e.g. `model.save('my_model.keras')`.\n",
      "  saving_api.save_model(\n"
     ]
    }
   ],
   "source": [
    "mob_tl.save('model_weights/mob_tl.h5')"
   ]
  },
  {
   "cell_type": "code",
   "execution_count": 36,
   "metadata": {},
   "outputs": [
    {
     "data": {
      "image/png": "[encoded data removed]",
      "text/plain": [
       "<Figure size 640x480 with 1 Axes>"
      ]
     },
     "metadata": {},
     "output_type": "display_data"
    }
   ],
   "source": [
    "plot_model(history, 11, 'performance_plots/mob_tl.png')"
   ]
  },
  {
   "cell_type": "markdown",
   "metadata": {},
   "source": [
    "### Custom CNN"
   ]
  },
  {
   "cell_type": "code",
   "execution_count": 23,
   "metadata": {},
   "outputs": [
    {
     "name": "stderr",
     "output_type": "stream",
     "text": [
      "WARNING:absl:`lr` is deprecated in Keras optimizer, please use `learning_rate` or use the legacy optimizer, e.g.,tf.keras.optimizers.legacy.Adam.\n"
     ]
    }
   ],
   "source": [
    "from tensorflow.keras.layers import Dense, Dropout, Flatten\n",
    "from tensorflow.keras.layers import Conv2D, MaxPooling2D\n",
    "from tensorflow.keras.models import Sequential\n",
    "from tensorflow.keras.layers import Dense, GlobalAveragePooling2D, BatchNormalization, Dropout\n",
    "\n",
    "import tensorflow as tf \n",
    "\n",
    "# Define the model architecture\n",
    "model = Sequential()\n",
    "\n",
    "# Add a convolutional layer with 32 filters, 3x3 kernel size, and relu activation function\n",
    "model.add(Conv2D(32, kernel_size=(3, 3), activation='relu', input_shape=(200,200,3)))\n",
    "# Add a batch normalization layer\n",
    "model.add(BatchNormalization())\n",
    "# Add a second convolutional layer with 64 filters, 3x3 kernel size, and relu activation function\n",
    "model.add(Conv2D(64, kernel_size=(3, 3), activation='relu'))\n",
    "# Add a second batch normalization layer\n",
    "model.add(BatchNormalization())\n",
    "# Add a max pooling layer with 2x2 pool size\n",
    "model.add(MaxPooling2D(pool_size=(2, 2)))\n",
    "# Add a dropout layer with 0.25 dropout rate\n",
    "model.add(Dropout(0.25))\n",
    "\n",
    "# Add a third convolutional layer with 128 filters, 3x3 kernel size, and relu activation function\n",
    "model.add(Conv2D(128, kernel_size=(3, 3), activation='relu'))\n",
    "# Add a third batch normalization layer\n",
    "model.add(BatchNormalization())\n",
    "# Add a fourth convolutional layer with 128 filters, 3x3 kernel size, and relu activation function\n",
    "model.add(Conv2D(128, kernel_size=(3, 3), activation='relu'))\n",
    "# Add a fourth batch normalization layer\n",
    "model.add(BatchNormalization())\n",
    "# Add a max pooling layer with 2x2 pool size\n",
    "model.add(MaxPooling2D(pool_size=(2, 2)))\n",
    "# Add a dropout layer with 0.25 dropout rate\n",
    "model.add(Dropout(0.25))\n",
    "\n",
    "# Add a fifth convolutional layer with 256 filters, 3x3 kernel size, and relu activation function\n",
    "model.add(Conv2D(256, kernel_size=(3, 3), activation='relu'))\n",
    "# Add a fifth batch normalization layer\n",
    "model.add(BatchNormalization())\n",
    "# Add a sixth convolutional layer with 256 filters, 3x3 kernel size, and relu activation function\n",
    "model.add(Conv2D(256, kernel_size=(3, 3), activation='relu'))\n",
    "# Add a sixth batch normalization layer\n",
    "model.add(BatchNormalization())\n",
    "# Add a max pooling layer with 2x2 pool size\n",
    "model.add(MaxPooling2D(pool_size=(2, 2)))\n",
    "# Add a dropout layer with 0.25 dropout rate\n",
    "model.add(Dropout(0.25))\n",
    "\n",
    "# Flatten the output of the convolutional layers\n",
    "model.add(Flatten())\n",
    "# Add a dense layer with 256 neurons and relu activation function\n",
    "model.add(Dense(256, activation='relu'))\n",
    "# Add a seventh batch normalization layer\n",
    "model.add(BatchNormalization())\n",
    "# Add a dropout layer with 0.5 dropout rate\n",
    "model.add(Dropout(0.5))\n",
    "# Add a dense layer with 7 neurons (one for each class) and softmax activation function\n",
    "model.add(Dense(6, activation='softmax'))\n",
    "\n",
    "# Compile the model with categorical cross-entropy loss, adam optimizer, and accuracy metric\n",
    "model.compile(loss=\"categorical_crossentropy\", optimizer= tf.keras.optimizers.Adam(lr=0.0001), metrics=['accuracy'])"
   ]
  },
  {
   "cell_type": "code",
   "execution_count": 24,
   "metadata": {},
   "outputs": [
    {
     "name": "stdout",
     "output_type": "stream",
     "text": [
      "Epoch 1/20\n"
     ]
    },
    {
     "name": "stderr",
     "output_type": "stream",
     "text": [
      "2023-08-22 19:19:19.762156: I tensorflow/core/common_runtime/executor.cc:1197] [/device:CPU:0] (DEBUG INFO) Executor start aborting (this does not indicate an error and you can ignore this message): INVALID_ARGUMENT: You must feed a value for placeholder tensor 'Placeholder/_4' with dtype int32 and shape [26880]\n",
      "\t [[{{node Placeholder/_4}}]]\n",
      "2023-08-22 19:19:19.762340: I tensorflow/core/common_runtime/executor.cc:1197] [/device:CPU:0] (DEBUG INFO) Executor start aborting (this does not indicate an error and you can ignore this message): INVALID_ARGUMENT: You must feed a value for placeholder tensor 'Placeholder/_4' with dtype int32 and shape [26880]\n",
      "\t [[{{node Placeholder/_4}}]]\n",
      "2023-08-22 19:19:20.464690: E tensorflow/core/grappler/optimizers/meta_optimizer.cc:954] layout failed: INVALID_ARGUMENT: Size of values 0 does not match size of permutation 4 @ fanin shape insequential_4/dropout_12/dropout/SelectV2-2-TransposeNHWCToNCHW-LayoutOptimizer\n",
      "2023-08-22 19:19:21.489315: I tensorflow/compiler/xla/stream_executor/cuda/cuda_dnn.cc:424] Loaded cuDNN version 8600\n",
      "2023-08-22 19:19:23.068040: I tensorflow/compiler/xla/stream_executor/cuda/cuda_blas.cc:637] TensorFloat-32 will be used for the matrix multiplication. This will only be logged once.\n",
      "2023-08-22 19:19:23.089778: I tensorflow/compiler/xla/service/service.cc:169] XLA service 0x7f1ece153d70 initialized for platform CUDA (this does not guarantee that XLA will be used). Devices:\n",
      "2023-08-22 19:19:23.089794: I tensorflow/compiler/xla/service/service.cc:177]   StreamExecutor device (0): NVIDIA GeForce RTX 3090 Ti, Compute Capability 8.6\n",
      "2023-08-22 19:19:23.092441: I tensorflow/compiler/mlir/tensorflow/utils/dump_mlir_util.cc:269] disabling MLIR crash reproducer, set env var `MLIR_CRASH_REPRODUCER_DIRECTORY` to enable.\n",
      "2023-08-22 19:19:23.196814: I ./tensorflow/compiler/jit/device_compiler.h:180] Compiled cluster using XLA!  This line is logged at most once for the lifetime of the process.\n"
     ]
    },
    {
     "name": "stdout",
     "output_type": "stream",
     "text": [
      "840/840 [==============================] - ETA: 0s - loss: 1.5521 - accuracy: 0.4081"
     ]
    },
    {
     "name": "stderr",
     "output_type": "stream",
     "text": [
      "2023-08-22 19:20:33.923493: I tensorflow/core/common_runtime/executor.cc:1197] [/device:CPU:0] (DEBUG INFO) Executor start aborting (this does not indicate an error and you can ignore this message): INVALID_ARGUMENT: You must feed a value for placeholder tensor 'Placeholder/_4' with dtype int32 and shape [7178]\n",
      "\t [[{{node Placeholder/_4}}]]\n",
      "2023-08-22 19:20:33.923658: I tensorflow/core/common_runtime/executor.cc:1197] [/device:CPU:0] (DEBUG INFO) Executor start aborting (this does not indicate an error and you can ignore this message): INVALID_ARGUMENT: You must feed a value for placeholder tensor 'Placeholder/_4' with dtype int32 and shape [7178]\n",
      "\t [[{{node Placeholder/_4}}]]\n"
     ]
    },
    {
     "name": "stdout",
     "output_type": "stream",
     "text": [
      "\n",
      "Epoch 1: val_accuracy improved from -inf to 0.31290, saving model to model_weights.h5\n",
      "840/840 [==============================] - 81s 86ms/step - loss: 1.5521 - accuracy: 0.4081 - val_loss: 1.6725 - val_accuracy: 0.3129\n",
      "Epoch 2/20\n",
      "840/840 [==============================] - ETA: 0s - loss: 1.2197 - accuracy: 0.5174\n",
      "Epoch 2: val_accuracy improved from 0.31290 to 0.35762, saving model to model_weights.h5\n",
      "840/840 [==============================] - 72s 86ms/step - loss: 1.2197 - accuracy: 0.5174 - val_loss: 1.6043 - val_accuracy: 0.3576\n",
      "Epoch 3/20\n",
      "840/840 [==============================] - ETA: 0s - loss: 1.0828 - accuracy: 0.5711\n",
      "Epoch 3: val_accuracy did not improve from 0.35762\n",
      "840/840 [==============================] - 72s 86ms/step - loss: 1.0828 - accuracy: 0.5711 - val_loss: 1.8244 - val_accuracy: 0.2028\n",
      "Epoch 4/20\n",
      "840/840 [==============================] - ETA: 0s - loss: 1.0087 - accuracy: 0.6045\n",
      "Epoch 4: val_accuracy improved from 0.35762 to 0.35776, saving model to model_weights.h5\n",
      "840/840 [==============================] - 72s 86ms/step - loss: 1.0087 - accuracy: 0.6045 - val_loss: 1.5763 - val_accuracy: 0.3578\n",
      "Epoch 5/20\n",
      "840/840 [==============================] - ETA: 0s - loss: 0.9585 - accuracy: 0.6329\n",
      "Epoch 5: val_accuracy did not improve from 0.35776\n",
      "840/840 [==============================] - 72s 86ms/step - loss: 0.9585 - accuracy: 0.6329 - val_loss: 1.8736 - val_accuracy: 0.2088\n",
      "Epoch 6/20\n",
      "840/840 [==============================] - ETA: 0s - loss: 0.8576 - accuracy: 0.6714\n",
      "Epoch 6: val_accuracy improved from 0.35776 to 0.38799, saving model to model_weights.h5\n",
      "840/840 [==============================] - 72s 86ms/step - loss: 0.8576 - accuracy: 0.6714 - val_loss: 1.6160 - val_accuracy: 0.3880\n",
      "Epoch 7/20\n",
      "840/840 [==============================] - ETA: 0s - loss: 0.7705 - accuracy: 0.7066\n",
      "Epoch 7: val_accuracy improved from 0.38799 to 0.39537, saving model to model_weights.h5\n",
      "840/840 [==============================] - 72s 86ms/step - loss: 0.7705 - accuracy: 0.7066 - val_loss: 1.7075 - val_accuracy: 0.3954\n",
      "Epoch 8/20\n",
      "840/840 [==============================] - ETA: 0s - loss: 0.6425 - accuracy: 0.7625\n",
      "Epoch 8: val_accuracy did not improve from 0.39537\n",
      "840/840 [==============================] - 72s 86ms/step - loss: 0.6425 - accuracy: 0.7625 - val_loss: 1.8433 - val_accuracy: 0.3884\n",
      "Epoch 9/20\n",
      "840/840 [==============================] - ETA: 0s - loss: 0.4977 - accuracy: 0.8164\n",
      "Epoch 9: val_accuracy did not improve from 0.39537\n",
      "840/840 [==============================] - 72s 86ms/step - loss: 0.4977 - accuracy: 0.8164 - val_loss: 1.8028 - val_accuracy: 0.3895\n",
      "Epoch 10/20\n",
      "840/840 [==============================] - ETA: 0s - loss: 0.4025 - accuracy: 0.8506\n",
      "Epoch 10: val_accuracy did not improve from 0.39537\n",
      "840/840 [==============================] - 73s 87ms/step - loss: 0.4025 - accuracy: 0.8506 - val_loss: 1.9374 - val_accuracy: 0.3805\n",
      "Epoch 11/20\n",
      "840/840 [==============================] - ETA: 0s - loss: 0.3443 - accuracy: 0.8757\n",
      "Epoch 11: val_accuracy did not improve from 0.39537\n",
      "840/840 [==============================] - 72s 86ms/step - loss: 0.3443 - accuracy: 0.8757 - val_loss: 2.0961 - val_accuracy: 0.3636\n",
      "Epoch 12/20\n",
      "840/840 [==============================] - ETA: 0s - loss: 0.2593 - accuracy: 0.9068\n",
      "Epoch 12: val_accuracy did not improve from 0.39537\n",
      "840/840 [==============================] - 71s 84ms/step - loss: 0.2593 - accuracy: 0.9068 - val_loss: 2.4934 - val_accuracy: 0.3916\n",
      "Epoch 13/20\n",
      "840/840 [==============================] - ETA: 0s - loss: 0.2270 - accuracy: 0.9201\n",
      "Epoch 13: val_accuracy did not improve from 0.39537\n",
      "840/840 [==============================] - 71s 84ms/step - loss: 0.2270 - accuracy: 0.9201 - val_loss: 2.2033 - val_accuracy: 0.3933\n",
      "Epoch 14/20\n",
      "840/840 [==============================] - ETA: 0s - loss: 0.1949 - accuracy: 0.9340\n",
      "Epoch 14: val_accuracy did not improve from 0.39537\n",
      "840/840 [==============================] - 72s 85ms/step - loss: 0.1949 - accuracy: 0.9340 - val_loss: 2.2736 - val_accuracy: 0.3632\n",
      "Epoch 15/20\n",
      "840/840 [==============================] - ETA: 0s - loss: 0.1708 - accuracy: 0.9426\n",
      "Epoch 15: val_accuracy improved from 0.39537 to 0.40819, saving model to model_weights.h5\n",
      "840/840 [==============================] - 73s 86ms/step - loss: 0.1708 - accuracy: 0.9426 - val_loss: 2.9075 - val_accuracy: 0.4082\n",
      "Epoch 16/20\n",
      "840/840 [==============================] - ETA: 0s - loss: 0.1565 - accuracy: 0.9458\n",
      "Epoch 16: val_accuracy did not improve from 0.40819\n",
      "840/840 [==============================] - 72s 86ms/step - loss: 0.1565 - accuracy: 0.9458 - val_loss: 2.8938 - val_accuracy: 0.3828\n",
      "Epoch 17/20\n",
      "840/840 [==============================] - ETA: 0s - loss: 0.1465 - accuracy: 0.9485\n",
      "Epoch 17: val_accuracy did not improve from 0.40819\n",
      "840/840 [==============================] - 73s 86ms/step - loss: 0.1465 - accuracy: 0.9485 - val_loss: 2.9518 - val_accuracy: 0.3795\n",
      "Epoch 18/20\n",
      "840/840 [==============================] - ETA: 0s - loss: 0.1485 - accuracy: 0.9494\n",
      "Epoch 18: val_accuracy did not improve from 0.40819\n",
      "840/840 [==============================] - 72s 86ms/step - loss: 0.1485 - accuracy: 0.9494 - val_loss: 4.4895 - val_accuracy: 0.3208\n",
      "Epoch 19/20\n",
      "840/840 [==============================] - ETA: 0s - loss: 0.1197 - accuracy: 0.9594\n",
      "Epoch 19: val_accuracy did not improve from 0.40819\n",
      "840/840 [==============================] - 72s 86ms/step - loss: 0.1197 - accuracy: 0.9594 - val_loss: 2.8347 - val_accuracy: 0.4078\n",
      "Epoch 20/20\n",
      "840/840 [==============================] - ETA: 0s - loss: 0.1177 - accuracy: 0.9597\n",
      "Epoch 20: val_accuracy improved from 0.40819 to 0.41251, saving model to model_weights.h5\n",
      "840/840 [==============================] - 71s 85ms/step - loss: 0.1177 - accuracy: 0.9597 - val_loss: 3.2939 - val_accuracy: 0.4125\n"
     ]
    }
   ],
   "source": [
    "from tensorflow.keras.callbacks import ModelCheckpoint\n",
    "\n",
    "# Define the callback\n",
    "checkpoint_callback = ModelCheckpoint(\n",
    "    filepath='model_weights.h5',\n",
    "    monitor='val_accuracy',\n",
    "    save_best_only=True,\n",
    "    save_weights_only=True,\n",
    "    mode='max',\n",
    "    verbose=1\n",
    ")\n",
    "\n",
    "# Train the model with the callback\n",
    "history = model.fit(\n",
    "    training_ds,\n",
    "    epochs=20,\n",
    "    validation_data=testing_ds,\n",
    "    callbacks=[checkpoint_callback]\n",
    ")"
   ]
  },
  {
   "cell_type": "code",
   "execution_count": 26,
   "metadata": {},
   "outputs": [],
   "source": [
    "model.save('model_weights/custom.h5')"
   ]
  },
  {
   "cell_type": "markdown",
   "metadata": {
    "jp-MarkdownHeadingCollapsed": true
   },
   "source": [
    "### ResNet"
   ]
  },
  {
   "cell_type": "code",
   "execution_count": 21,
   "metadata": {},
   "outputs": [
    {
     "name": "stdout",
     "output_type": "stream",
     "text": [
      "Epoch 1/20\n"
     ]
    },
    {
     "name": "stderr",
     "output_type": "stream",
     "text": [
      "2023-08-20 20:45:45.990366: I tensorflow/core/grappler/optimizers/custom_graph_optimizer_registry.cc:114] Plugin optimizer for device_type GPU is enabled.\n"
     ]
    },
    {
     "name": "stdout",
     "output_type": "stream",
     "text": [
      "2753/2753 [==============================] - ETA: 0s - loss: 43.1341 - accuracy: 0.4256"
     ]
    },
    {
     "name": "stderr",
     "output_type": "stream",
     "text": [
      "2023-08-20 20:58:03.921231: I tensorflow/core/grappler/optimizers/custom_graph_optimizer_registry.cc:114] Plugin optimizer for device_type GPU is enabled.\n"
     ]
    },
    {
     "name": "stdout",
     "output_type": "stream",
     "text": [
      "2753/2753 [==============================] - 815s 293ms/step - loss: 43.1341 - accuracy: 0.4256 - val_loss: 167.6280 - val_accuracy: 0.3865\n",
      "Epoch 2/20\n",
      "2753/2753 [==============================] - 777s 282ms/step - loss: 192.9481 - accuracy: 0.5149 - val_loss: 589.8943 - val_accuracy: 0.1851\n",
      "Epoch 3/20\n",
      "2753/2753 [==============================] - 790s 286ms/step - loss: 343.8273 - accuracy: 0.6304 - val_loss: 1441.2035 - val_accuracy: 0.2255\n",
      "Epoch 4/20\n",
      "2753/2753 [==============================] - 778s 282ms/step - loss: 478.7492 - accuracy: 0.7050 - val_loss: 2489.1946 - val_accuracy: 0.2588\n",
      "Epoch 5/20\n",
      "2753/2753 [==============================] - 786s 285ms/step - loss: 650.9504 - accuracy: 0.7530 - val_loss: 3462.6465 - val_accuracy: 0.2372\n",
      "Epoch 6/20\n",
      "2753/2753 [==============================] - 776s 281ms/step - loss: 716.9795 - accuracy: 0.7926 - val_loss: 6300.3433 - val_accuracy: 0.1734\n",
      "Epoch 7/20\n",
      "2753/2753 [==============================] - 788s 286ms/step - loss: 852.8113 - accuracy: 0.8169 - val_loss: 6255.5312 - val_accuracy: 0.3142\n",
      "Epoch 8/20\n",
      "2753/2753 [==============================] - 789s 286ms/step - loss: 937.5350 - accuracy: 0.8389 - val_loss: 7672.6006 - val_accuracy: 0.2704\n",
      "Epoch 9/20\n",
      "2753/2753 [==============================] - 791s 287ms/step - loss: 1060.9956 - accuracy: 0.8545 - val_loss: 12058.6719 - val_accuracy: 0.3216\n",
      "Epoch 10/20\n",
      "2753/2753 [==============================] - 789s 286ms/step - loss: 1246.8734 - accuracy: 0.8688 - val_loss: 15742.0264 - val_accuracy: 0.2086\n",
      "Epoch 11/20\n",
      "2753/2753 [==============================] - 784s 284ms/step - loss: 1295.4203 - accuracy: 0.8819 - val_loss: 20049.6172 - val_accuracy: 0.2376\n",
      "998/998 [==============================] - 74s 74ms/step - loss: 167.6280 - accuracy: 0.3865\n",
      "Test Accuracy: 0.3865288197994232\n"
     ]
    }
   ],
   "source": [
    "import tensorflow as tf\n",
    "from tensorflow.keras.applications import ResNet50\n",
    "from tensorflow.keras.models import Sequential\n",
    "from tensorflow.keras.layers import Dense, GlobalAveragePooling2D\n",
    "\n",
    "# Define image dimensions and batch size\n",
    "img_height = 224\n",
    "img_width = 224\n",
    "batch_size = 32\n",
    "\n",
    "# Create a baseline ResNet model\n",
    "base_model = ResNet50(weights='imagenet', include_top=False, input_shape=(img_height, img_width, 3))\n",
    "\n",
    "# Add custom top layers\n",
    "model = Sequential()\n",
    "model.add(base_model)\n",
    "model.add(GlobalAveragePooling2D())\n",
    "model.add(Dense(1024, activation='relu'))\n",
    "model.add(Dense(num_classes, activation='softmax'))\n",
    "\n",
    "# Compile the model\n",
    "model.compile(optimizer='adam', loss='categorical_crossentropy', metrics=['accuracy'])\n",
    "\n",
    "# Define EarlyStopping callback\n",
    "early_stopping = tf.keras.callbacks.EarlyStopping(monitor='val_loss', patience=10, restore_best_weights=True)\n",
    "\n",
    "# Train the model\n",
    "history = model.fit(training_ds_resized, validation_data=testing_ds_resized, batch_size=batch_size, epochs=20, callbacks=[early_stopping])\n",
    "\n",
    "# Evaluate the model on test data\n",
    "test_loss, test_accuracy = model.evaluate(testing_ds_resized)\n",
    "print(\"Test Accuracy:\", test_accuracy)\n"
   ]
  },
  {
   "cell_type": "code",
   "execution_count": 22,
   "metadata": {},
   "outputs": [
    {
     "name": "stderr",
     "output_type": "stream",
     "text": [
      "/opt/homebrew/anaconda3/lib/python3.10/site-packages/keras/src/engine/training.py:3000: UserWarning: You are saving your model as an HDF5 file via `model.save()`. This file format is considered legacy. We recommend using instead the native Keras format, e.g. `model.save('my_model.keras')`.\n",
      "  saving_api.save_model(\n"
     ]
    }
   ],
   "source": [
    "model.save('model_weights/res_tl.h5')"
   ]
  },
  {
   "cell_type": "code",
   "execution_count": 24,
   "metadata": {},
   "outputs": [
    {
     "data": {
      "image/png": "[encoded data removed]",
      "text/plain": [
       "<Figure size 640x480 with 1 Axes>"
      ]
     },
     "metadata": {},
     "output_type": "display_data"
    }
   ],
   "source": [
    "plot_model(history, 11, 'performance_plots/res_tl.png')"
   ]
  },
  {
   "cell_type": "code",
   "execution_count": null,
   "metadata": {},
   "outputs": [],
   "source": []
  }
 ],
 "metadata": {
  "kernelspec": {
   "display_name": "Python 3 (ipykernel)",
   "language": "python",
   "name": "python3"
  },
  "language_info": {
   "codemirror_mode": {
    "name": "ipython",
    "version": 3
   },
   "file_extension": ".py",
   "mimetype": "text/x-python",
   "name": "python",
   "nbconvert_exporter": "python",
   "pygments_lexer": "ipython3",
   "version": "3.10.1"
  }
 },
 "nbformat": 4,
 "nbformat_minor": 4
}
